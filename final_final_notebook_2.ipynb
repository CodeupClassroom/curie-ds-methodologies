{
 "cells": [
  {
   "cell_type": "markdown",
   "metadata": {},
   "source": [
    "# Where do we go from here?"
   ]
  },
  {
   "cell_type": "markdown",
   "metadata": {},
   "source": [
    "## Philosophy\n",
    "\n",
    "- Motivation is important\n",
    "- Skill Building"
   ]
  },
  {
   "cell_type": "markdown",
   "metadata": {},
   "source": [
    "## Process\n",
    "\n",
    "1. Get the administrative work out of the way\n",
    "2. Find Interesting Datasets\n",
    "3. Ask Questions\n",
    "4. Answer Questions\n",
    "5. Repeat\n",
    "6. Do something new every now and again"
   ]
  },
  {
   "cell_type": "markdown",
   "metadata": {},
   "source": [
    "## Thoughts\n",
    "\n",
    "- books / online courses / codeup curriculum\n",
    "- publish\n",
    "- networking\n",
    "\n",
    "Other thoughts\n",
    "\n",
    "- consistency > intensity\n",
    "- if it's worth doing, it's worth doing poorly (and then improve it)\n",
    "- [talent is overrated](https://www.amazon.com/Talent-Overrated-Separates-World-Class-Performers/dp/1591842948/ref=sr_1_1?dchild=1&keywords=talent+is+overrated&qid=1594308837&sr=8-1&tag=duckduckgo-ffab-b-20)"
   ]
  },
  {
   "cell_type": "markdown",
   "metadata": {},
   "source": [
    "[Curated list of public datasets](https://github.com/awesomedata/awesome-public-datasets)"
   ]
  }
 ],
 "metadata": {
  "kernelspec": {
   "display_name": "Python 3",
   "language": "python",
   "name": "python3"
  },
  "language_info": {
   "codemirror_mode": {
    "name": "ipython",
    "version": 3
   },
   "file_extension": ".py",
   "mimetype": "text/x-python",
   "name": "python",
   "nbconvert_exporter": "python",
   "pygments_lexer": "ipython3",
   "version": "3.7.3"
  }
 },
 "nbformat": 4,
 "nbformat_minor": 4
}
