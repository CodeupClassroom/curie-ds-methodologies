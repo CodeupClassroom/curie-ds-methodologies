{
 "cells": [
  {
   "cell_type": "markdown",
   "metadata": {},
   "source": [
    "# Evaluating Regression Models"
   ]
  },
  {
   "cell_type": "code",
   "execution_count": 113,
   "metadata": {},
   "outputs": [
    {
     "data": {
      "text/html": [
       "<div>\n",
       "<style scoped>\n",
       "    .dataframe tbody tr th:only-of-type {\n",
       "        vertical-align: middle;\n",
       "    }\n",
       "\n",
       "    .dataframe tbody tr th {\n",
       "        vertical-align: top;\n",
       "    }\n",
       "\n",
       "    .dataframe thead th {\n",
       "        text-align: right;\n",
       "    }\n",
       "</style>\n",
       "<table border=\"1\" class=\"dataframe\">\n",
       "  <thead>\n",
       "    <tr style=\"text-align: right;\">\n",
       "      <th></th>\n",
       "      <th>x</th>\n",
       "      <th>y</th>\n",
       "    </tr>\n",
       "  </thead>\n",
       "  <tbody>\n",
       "    <tr>\n",
       "      <th>0</th>\n",
       "      <td>100</td>\n",
       "      <td>96</td>\n",
       "    </tr>\n",
       "    <tr>\n",
       "      <th>1</th>\n",
       "      <td>93</td>\n",
       "      <td>90</td>\n",
       "    </tr>\n",
       "    <tr>\n",
       "      <th>2</th>\n",
       "      <td>84</td>\n",
       "      <td>89</td>\n",
       "    </tr>\n",
       "  </tbody>\n",
       "</table>\n",
       "</div>"
      ],
      "text/plain": [
       "     x   y\n",
       "0  100  96\n",
       "1   93  90\n",
       "2   84  89"
      ]
     },
     "execution_count": 113,
     "metadata": {},
     "output_type": "execute_result"
    }
   ],
   "source": [
    "import pandas as pd\n",
    "import numpy as np\n",
    "\n",
    "# generate our student grade data\n",
    "df = pd.DataFrame(np.array([[100, 96], [93, 90], [84, 89], [80, 85], [76, 80], [70, 68], [79, 75]]), columns = ['x', 'y'])\n",
    "\n",
    "x = df['x']\n",
    "y = df['y']\n",
    "\n",
    "df.head(3)"
   ]
  },
  {
   "cell_type": "markdown",
   "metadata": {},
   "source": [
    "## What is the Line of Best Fit?"
   ]
  },
  {
   "cell_type": "code",
   "execution_count": 114,
   "metadata": {},
   "outputs": [
    {
     "data": {
      "image/png": "[encoded data removed]",
      "text/plain": [
       "<Figure size 576x360 with 1 Axes>"
      ]
     },
     "metadata": {
      "needs_background": "light"
     },
     "output_type": "display_data"
    }
   ],
   "source": [
    "import viz\n",
    "import seaborn as sns\n",
    "import matplotlib.pyplot as plt\n",
    "%matplotlib inline\n",
    "\n",
    "plt.rc(\"axes.spines\", top=False, right=False)\n",
    "viz.evaluation_example1(df, x, y)"
   ]
  },
  {
   "cell_type": "markdown",
   "metadata": {},
   "source": [
    "## Establish a Baseline\n",
    "\n",
    "baseline predictions:  $\\hat{y} = \\bar{y}$\n",
    "\n",
    "$\\bar{y} = \\mu_{y} = mean(y)$"
   ]
  },
  {
   "cell_type": "code",
   "execution_count": 115,
   "metadata": {},
   "outputs": [
    {
     "data": {
      "text/html": [
       "<div>\n",
       "<style scoped>\n",
       "    .dataframe tbody tr th:only-of-type {\n",
       "        vertical-align: middle;\n",
       "    }\n",
       "\n",
       "    .dataframe tbody tr th {\n",
       "        vertical-align: top;\n",
       "    }\n",
       "\n",
       "    .dataframe thead th {\n",
       "        text-align: right;\n",
       "    }\n",
       "</style>\n",
       "<table border=\"1\" class=\"dataframe\">\n",
       "  <thead>\n",
       "    <tr style=\"text-align: right;\">\n",
       "      <th></th>\n",
       "      <th>x</th>\n",
       "      <th>y</th>\n",
       "      <th>yhat_bl</th>\n",
       "    </tr>\n",
       "  </thead>\n",
       "  <tbody>\n",
       "    <tr>\n",
       "      <th>0</th>\n",
       "      <td>100</td>\n",
       "      <td>96</td>\n",
       "      <td>83.285714</td>\n",
       "    </tr>\n",
       "    <tr>\n",
       "      <th>1</th>\n",
       "      <td>93</td>\n",
       "      <td>90</td>\n",
       "      <td>83.285714</td>\n",
       "    </tr>\n",
       "    <tr>\n",
       "      <th>2</th>\n",
       "      <td>84</td>\n",
       "      <td>89</td>\n",
       "      <td>83.285714</td>\n",
       "    </tr>\n",
       "    <tr>\n",
       "      <th>3</th>\n",
       "      <td>80</td>\n",
       "      <td>85</td>\n",
       "      <td>83.285714</td>\n",
       "    </tr>\n",
       "    <tr>\n",
       "      <th>4</th>\n",
       "      <td>76</td>\n",
       "      <td>80</td>\n",
       "      <td>83.285714</td>\n",
       "    </tr>\n",
       "  </tbody>\n",
       "</table>\n",
       "</div>"
      ],
      "text/plain": [
       "     x   y    yhat_bl\n",
       "0  100  96  83.285714\n",
       "1   93  90  83.285714\n",
       "2   84  89  83.285714\n",
       "3   80  85  83.285714\n",
       "4   76  80  83.285714"
      ]
     },
     "execution_count": 115,
     "metadata": {},
     "output_type": "execute_result"
    }
   ],
   "source": [
    "df['yhat_bl'] = df['y'].mean()\n",
    "df.head()"
   ]
  },
  {
   "cell_type": "markdown",
   "metadata": {},
   "source": [
    "## Build a Simple Model"
   ]
  },
  {
   "cell_type": "code",
   "execution_count": 116,
   "metadata": {},
   "outputs": [
    {
     "data": {
      "text/html": [
       "<div>\n",
       "<style scoped>\n",
       "    .dataframe tbody tr th:only-of-type {\n",
       "        vertical-align: middle;\n",
       "    }\n",
       "\n",
       "    .dataframe tbody tr th {\n",
       "        vertical-align: top;\n",
       "    }\n",
       "\n",
       "    .dataframe thead th {\n",
       "        text-align: right;\n",
       "    }\n",
       "</style>\n",
       "<table border=\"1\" class=\"dataframe\">\n",
       "  <thead>\n",
       "    <tr style=\"text-align: right;\">\n",
       "      <th></th>\n",
       "      <th>x</th>\n",
       "      <th>y</th>\n",
       "      <th>yhat_bl</th>\n",
       "      <th>yhat</th>\n",
       "    </tr>\n",
       "  </thead>\n",
       "  <tbody>\n",
       "    <tr>\n",
       "      <th>0</th>\n",
       "      <td>100</td>\n",
       "      <td>96</td>\n",
       "      <td>83.285714</td>\n",
       "      <td>97.635214</td>\n",
       "    </tr>\n",
       "    <tr>\n",
       "      <th>1</th>\n",
       "      <td>93</td>\n",
       "      <td>90</td>\n",
       "      <td>83.285714</td>\n",
       "      <td>91.676524</td>\n",
       "    </tr>\n",
       "    <tr>\n",
       "      <th>2</th>\n",
       "      <td>84</td>\n",
       "      <td>89</td>\n",
       "      <td>83.285714</td>\n",
       "      <td>84.015350</td>\n",
       "    </tr>\n",
       "    <tr>\n",
       "      <th>3</th>\n",
       "      <td>80</td>\n",
       "      <td>85</td>\n",
       "      <td>83.285714</td>\n",
       "      <td>80.610384</td>\n",
       "    </tr>\n",
       "    <tr>\n",
       "      <th>4</th>\n",
       "      <td>76</td>\n",
       "      <td>80</td>\n",
       "      <td>83.285714</td>\n",
       "      <td>77.205418</td>\n",
       "    </tr>\n",
       "  </tbody>\n",
       "</table>\n",
       "</div>"
      ],
      "text/plain": [
       "     x   y    yhat_bl       yhat\n",
       "0  100  96  83.285714  97.635214\n",
       "1   93  90  83.285714  91.676524\n",
       "2   84  89  83.285714  84.015350\n",
       "3   80  85  83.285714  80.610384\n",
       "4   76  80  83.285714  77.205418"
      ]
     },
     "execution_count": 116,
     "metadata": {},
     "output_type": "execute_result"
    }
   ],
   "source": [
    "from statsmodels.formula.api import ols\n",
    "\n",
    "ols_model = ols('y ~ x', data=df).fit()\n",
    "\n",
    "#predict\n",
    "df['yhat'] = ols_model.predict(x)\n",
    "\n",
    "df.head()"
   ]
  },
  {
   "cell_type": "code",
   "execution_count": 117,
   "metadata": {},
   "outputs": [
    {
     "data": {
      "image/png": "[encoded data removed]",
      "text/plain": [
       "<Figure size 576x360 with 1 Axes>"
      ]
     },
     "metadata": {
      "needs_background": "light"
     },
     "output_type": "display_data"
    }
   ],
   "source": [
    "viz.evaluation_example2(df, x, y)"
   ]
  },
  {
   "cell_type": "markdown",
   "metadata": {},
   "source": [
    "How could we determine which line is best, numerically? We will do that next. \n",
    "\n",
    "## Evaluate Part 1: RMSE"
   ]
  },
  {
   "cell_type": "markdown",
   "metadata": {},
   "source": [
    "### Manually\n",
    "\n",
    "**Manually Compute Evaluation Metrics**. \n",
    "\n",
    "1. Compute the **residual**, or error, for each data point.  \n",
    "2. Compute the **SSE**, Sum of Squared Errors, a.k.a. **RSS**, Residual Sum of Squares. This is simply squaring each of the errors computed in step one and summing them all together.  \n",
    "3. Compute the **MSE**, Mean Squared Error. We arrive at this by dividing your SSE by the total number of data points, i.e. the average of your errors that have each been squared.  \n",
    "4. Compute the **RMSE**, Root Mean Squared Error. Simply take the square root of the MSE.  \n",
    "\n",
    "#### Residuals\n",
    "\n",
    "Residuals: for each data point, $(\\hat{y} - y)$"
   ]
  },
  {
   "cell_type": "code",
   "execution_count": 118,
   "metadata": {},
   "outputs": [],
   "source": [
    "from scipy import stats\n",
    "from sklearn.metrics import mean_squared_error, r2_score, explained_variance_score\n",
    "\n",
    "from sklearn.linear_model import LinearRegression\n",
    "from sklearn.feature_selection import f_regression \n",
    "from math import sqrt\n",
    "import matplotlib.pyplot as plt\n",
    "%matplotlib inline\n",
    "import warnings\n",
    "warnings.filterwarnings('ignore')"
   ]
  },
  {
   "cell_type": "code",
   "execution_count": 119,
   "metadata": {},
   "outputs": [],
   "source": [
    "df['residual'] = df['yhat'] - df['y']\n",
    "df['residual_bl'] = df['yhat_bl'] - df['y']"
   ]
  },
  {
   "cell_type": "code",
   "execution_count": 120,
   "metadata": {},
   "outputs": [
    {
     "data": {
      "text/html": [
       "<div>\n",
       "<style scoped>\n",
       "    .dataframe tbody tr th:only-of-type {\n",
       "        vertical-align: middle;\n",
       "    }\n",
       "\n",
       "    .dataframe tbody tr th {\n",
       "        vertical-align: top;\n",
       "    }\n",
       "\n",
       "    .dataframe thead th {\n",
       "        text-align: right;\n",
       "    }\n",
       "</style>\n",
       "<table border=\"1\" class=\"dataframe\">\n",
       "  <thead>\n",
       "    <tr style=\"text-align: right;\">\n",
       "      <th></th>\n",
       "      <th>x</th>\n",
       "      <th>y</th>\n",
       "      <th>yhat_bl</th>\n",
       "      <th>yhat</th>\n",
       "      <th>residual</th>\n",
       "      <th>residual_bl</th>\n",
       "    </tr>\n",
       "  </thead>\n",
       "  <tbody>\n",
       "    <tr>\n",
       "      <th>0</th>\n",
       "      <td>100</td>\n",
       "      <td>96</td>\n",
       "      <td>83.285714</td>\n",
       "      <td>97.635214</td>\n",
       "      <td>1.635214</td>\n",
       "      <td>-12.714286</td>\n",
       "    </tr>\n",
       "    <tr>\n",
       "      <th>1</th>\n",
       "      <td>93</td>\n",
       "      <td>90</td>\n",
       "      <td>83.285714</td>\n",
       "      <td>91.676524</td>\n",
       "      <td>1.676524</td>\n",
       "      <td>-6.714286</td>\n",
       "    </tr>\n",
       "    <tr>\n",
       "      <th>2</th>\n",
       "      <td>84</td>\n",
       "      <td>89</td>\n",
       "      <td>83.285714</td>\n",
       "      <td>84.015350</td>\n",
       "      <td>-4.984650</td>\n",
       "      <td>-5.714286</td>\n",
       "    </tr>\n",
       "    <tr>\n",
       "      <th>3</th>\n",
       "      <td>80</td>\n",
       "      <td>85</td>\n",
       "      <td>83.285714</td>\n",
       "      <td>80.610384</td>\n",
       "      <td>-4.389616</td>\n",
       "      <td>-1.714286</td>\n",
       "    </tr>\n",
       "    <tr>\n",
       "      <th>4</th>\n",
       "      <td>76</td>\n",
       "      <td>80</td>\n",
       "      <td>83.285714</td>\n",
       "      <td>77.205418</td>\n",
       "      <td>-2.794582</td>\n",
       "      <td>3.285714</td>\n",
       "    </tr>\n",
       "  </tbody>\n",
       "</table>\n",
       "</div>"
      ],
      "text/plain": [
       "     x   y    yhat_bl       yhat  residual  residual_bl\n",
       "0  100  96  83.285714  97.635214  1.635214   -12.714286\n",
       "1   93  90  83.285714  91.676524  1.676524    -6.714286\n",
       "2   84  89  83.285714  84.015350 -4.984650    -5.714286\n",
       "3   80  85  83.285714  80.610384 -4.389616    -1.714286\n",
       "4   76  80  83.285714  77.205418 -2.794582     3.285714"
      ]
     },
     "execution_count": 120,
     "metadata": {},
     "output_type": "execute_result"
    }
   ],
   "source": [
    "df.head()"
   ]
  },
  {
   "cell_type": "code",
   "execution_count": 121,
   "metadata": {},
   "outputs": [
    {
     "data": {
      "image/png": "[encoded data removed]",
      "text/plain": [
       "<Figure size 576x360 with 1 Axes>"
      ]
     },
     "metadata": {
      "needs_background": "light"
     },
     "output_type": "display_data"
    }
   ],
   "source": [
    "viz.evaluation_example5(df, x, df.residual_bl)"
   ]
  },
  {
   "cell_type": "code",
   "execution_count": 122,
   "metadata": {},
   "outputs": [
    {
     "data": {
      "image/png": "[encoded data removed]",
      "text/plain": [
       "<Figure size 576x360 with 1 Axes>"
      ]
     },
     "metadata": {
      "needs_background": "light"
     },
     "output_type": "display_data"
    }
   ],
   "source": [
    "viz.evaluation_example5(df, x, df.residual)"
   ]
  },
  {
   "cell_type": "markdown",
   "metadata": {},
   "source": [
    "#### SSE\n",
    "\n",
    "$SSE = \\sum_{i=1}^{n}(\\hat{y}-y_{i})^2$"
   ]
  },
  {
   "cell_type": "code",
   "execution_count": 123,
   "metadata": {},
   "outputs": [
    {
     "data": {
      "text/html": [
       "<div>\n",
       "<style scoped>\n",
       "    .dataframe tbody tr th:only-of-type {\n",
       "        vertical-align: middle;\n",
       "    }\n",
       "\n",
       "    .dataframe tbody tr th {\n",
       "        vertical-align: top;\n",
       "    }\n",
       "\n",
       "    .dataframe thead th {\n",
       "        text-align: right;\n",
       "    }\n",
       "</style>\n",
       "<table border=\"1\" class=\"dataframe\">\n",
       "  <thead>\n",
       "    <tr style=\"text-align: right;\">\n",
       "      <th></th>\n",
       "      <th>x</th>\n",
       "      <th>y</th>\n",
       "      <th>yhat_bl</th>\n",
       "      <th>yhat</th>\n",
       "      <th>residual</th>\n",
       "      <th>residual_bl</th>\n",
       "      <th>model_sse</th>\n",
       "    </tr>\n",
       "  </thead>\n",
       "  <tbody>\n",
       "    <tr>\n",
       "      <th>0</th>\n",
       "      <td>100</td>\n",
       "      <td>96</td>\n",
       "      <td>83.285714</td>\n",
       "      <td>97.635214</td>\n",
       "      <td>1.635214</td>\n",
       "      <td>-12.714286</td>\n",
       "      <td>96.852596</td>\n",
       "    </tr>\n",
       "    <tr>\n",
       "      <th>1</th>\n",
       "      <td>93</td>\n",
       "      <td>90</td>\n",
       "      <td>83.285714</td>\n",
       "      <td>91.676524</td>\n",
       "      <td>1.676524</td>\n",
       "      <td>-6.714286</td>\n",
       "      <td>96.852596</td>\n",
       "    </tr>\n",
       "    <tr>\n",
       "      <th>2</th>\n",
       "      <td>84</td>\n",
       "      <td>89</td>\n",
       "      <td>83.285714</td>\n",
       "      <td>84.015350</td>\n",
       "      <td>-4.984650</td>\n",
       "      <td>-5.714286</td>\n",
       "      <td>96.852596</td>\n",
       "    </tr>\n",
       "    <tr>\n",
       "      <th>3</th>\n",
       "      <td>80</td>\n",
       "      <td>85</td>\n",
       "      <td>83.285714</td>\n",
       "      <td>80.610384</td>\n",
       "      <td>-4.389616</td>\n",
       "      <td>-1.714286</td>\n",
       "      <td>96.852596</td>\n",
       "    </tr>\n",
       "    <tr>\n",
       "      <th>4</th>\n",
       "      <td>76</td>\n",
       "      <td>80</td>\n",
       "      <td>83.285714</td>\n",
       "      <td>77.205418</td>\n",
       "      <td>-2.794582</td>\n",
       "      <td>3.285714</td>\n",
       "      <td>96.852596</td>\n",
       "    </tr>\n",
       "  </tbody>\n",
       "</table>\n",
       "</div>"
      ],
      "text/plain": [
       "     x   y    yhat_bl       yhat  residual  residual_bl  model_sse\n",
       "0  100  96  83.285714  97.635214  1.635214   -12.714286  96.852596\n",
       "1   93  90  83.285714  91.676524  1.676524    -6.714286  96.852596\n",
       "2   84  89  83.285714  84.015350 -4.984650    -5.714286  96.852596\n",
       "3   80  85  83.285714  80.610384 -4.389616    -1.714286  96.852596\n",
       "4   76  80  83.285714  77.205418 -2.794582     3.285714  96.852596"
      ]
     },
     "execution_count": 123,
     "metadata": {},
     "output_type": "execute_result"
    }
   ],
   "source": [
    "df['model_sse'] = sum(df['residual']**2)\n",
    "\n",
    "sse = sum(df['residual']**2)\n",
    "df.head()"
   ]
  },
  {
   "cell_type": "code",
   "execution_count": 124,
   "metadata": {},
   "outputs": [
    {
     "data": {
      "text/html": [
       "<div>\n",
       "<style scoped>\n",
       "    .dataframe tbody tr th:only-of-type {\n",
       "        vertical-align: middle;\n",
       "    }\n",
       "\n",
       "    .dataframe tbody tr th {\n",
       "        vertical-align: top;\n",
       "    }\n",
       "\n",
       "    .dataframe thead th {\n",
       "        text-align: right;\n",
       "    }\n",
       "</style>\n",
       "<table border=\"1\" class=\"dataframe\">\n",
       "  <thead>\n",
       "    <tr style=\"text-align: right;\">\n",
       "      <th></th>\n",
       "      <th>x</th>\n",
       "      <th>y</th>\n",
       "      <th>yhat_bl</th>\n",
       "      <th>yhat</th>\n",
       "      <th>residual</th>\n",
       "      <th>residual_bl</th>\n",
       "      <th>model_sse</th>\n",
       "      <th>bl_sse</th>\n",
       "    </tr>\n",
       "  </thead>\n",
       "  <tbody>\n",
       "    <tr>\n",
       "      <th>0</th>\n",
       "      <td>100</td>\n",
       "      <td>96</td>\n",
       "      <td>83.285714</td>\n",
       "      <td>97.635214</td>\n",
       "      <td>1.635214</td>\n",
       "      <td>-12.714286</td>\n",
       "      <td>96.852596</td>\n",
       "      <td>555.428571</td>\n",
       "    </tr>\n",
       "    <tr>\n",
       "      <th>1</th>\n",
       "      <td>93</td>\n",
       "      <td>90</td>\n",
       "      <td>83.285714</td>\n",
       "      <td>91.676524</td>\n",
       "      <td>1.676524</td>\n",
       "      <td>-6.714286</td>\n",
       "      <td>96.852596</td>\n",
       "      <td>555.428571</td>\n",
       "    </tr>\n",
       "    <tr>\n",
       "      <th>2</th>\n",
       "      <td>84</td>\n",
       "      <td>89</td>\n",
       "      <td>83.285714</td>\n",
       "      <td>84.015350</td>\n",
       "      <td>-4.984650</td>\n",
       "      <td>-5.714286</td>\n",
       "      <td>96.852596</td>\n",
       "      <td>555.428571</td>\n",
       "    </tr>\n",
       "    <tr>\n",
       "      <th>3</th>\n",
       "      <td>80</td>\n",
       "      <td>85</td>\n",
       "      <td>83.285714</td>\n",
       "      <td>80.610384</td>\n",
       "      <td>-4.389616</td>\n",
       "      <td>-1.714286</td>\n",
       "      <td>96.852596</td>\n",
       "      <td>555.428571</td>\n",
       "    </tr>\n",
       "    <tr>\n",
       "      <th>4</th>\n",
       "      <td>76</td>\n",
       "      <td>80</td>\n",
       "      <td>83.285714</td>\n",
       "      <td>77.205418</td>\n",
       "      <td>-2.794582</td>\n",
       "      <td>3.285714</td>\n",
       "      <td>96.852596</td>\n",
       "      <td>555.428571</td>\n",
       "    </tr>\n",
       "  </tbody>\n",
       "</table>\n",
       "</div>"
      ],
      "text/plain": [
       "     x   y    yhat_bl       yhat  residual  residual_bl  model_sse      bl_sse\n",
       "0  100  96  83.285714  97.635214  1.635214   -12.714286  96.852596  555.428571\n",
       "1   93  90  83.285714  91.676524  1.676524    -6.714286  96.852596  555.428571\n",
       "2   84  89  83.285714  84.015350 -4.984650    -5.714286  96.852596  555.428571\n",
       "3   80  85  83.285714  80.610384 -4.389616    -1.714286  96.852596  555.428571\n",
       "4   76  80  83.285714  77.205418 -2.794582     3.285714  96.852596  555.428571"
      ]
     },
     "execution_count": 124,
     "metadata": {},
     "output_type": "execute_result"
    }
   ],
   "source": [
    "df['bl_sse'] = sum(df['residual_bl']**2)\n",
    "sse_bl = sum(df['residual_bl']**2)\n",
    "df.head()"
   ]
  },
  {
   "cell_type": "markdown",
   "metadata": {},
   "source": [
    "#### MSE  \n",
    "\n",
    "$ MSE = \\frac{1}{n}\\sum_{i=1}^{n} (\\hat{y}-y_{i})^2 $"
   ]
  },
  {
   "cell_type": "code",
   "execution_count": 125,
   "metadata": {},
   "outputs": [],
   "source": [
    "mse = sse/len(df)\n",
    "\n",
    "sse = mse * len(df)"
   ]
  },
  {
   "cell_type": "code",
   "execution_count": 126,
   "metadata": {},
   "outputs": [],
   "source": [
    "mse_bl = sse_bl/len(df)"
   ]
  },
  {
   "cell_type": "code",
   "execution_count": 127,
   "metadata": {},
   "outputs": [
    {
     "name": "stdout",
     "output_type": "stream",
     "text": [
      "mse:  13.836085133827797\n",
      "mse_bl:  79.34693877551021\n"
     ]
    }
   ],
   "source": [
    "print(\"mse: \", mse)\n",
    "print(\"mse_bl: \", mse_bl)"
   ]
  },
  {
   "cell_type": "markdown",
   "metadata": {},
   "source": [
    "#### RMSE  \n",
    "\n",
    "$RMSE = \\sqrt{\\frac{1}{n}\\sum_{i=1}^{n} (\\hat{y}-y_{i})^2}$"
   ]
  },
  {
   "cell_type": "code",
   "execution_count": 128,
   "metadata": {},
   "outputs": [
    {
     "name": "stdout",
     "output_type": "stream",
     "text": [
      "rmse:  3.7196888490608724\n",
      "rmse_bl:  8.907689867497083\n"
     ]
    }
   ],
   "source": [
    "from math import sqrt\n",
    "rmse = sqrt(mse)\n",
    "rmse_bl = sqrt(mse_bl)\n",
    "\n",
    "print(\"rmse: \", rmse)\n",
    "print(\"rmse_bl: \", rmse_bl)"
   ]
  },
  {
   "cell_type": "code",
   "execution_count": 129,
   "metadata": {},
   "outputs": [
    {
     "data": {
      "text/html": [
       "<div>\n",
       "<style scoped>\n",
       "    .dataframe tbody tr th:only-of-type {\n",
       "        vertical-align: middle;\n",
       "    }\n",
       "\n",
       "    .dataframe tbody tr th {\n",
       "        vertical-align: top;\n",
       "    }\n",
       "\n",
       "    .dataframe thead th {\n",
       "        text-align: right;\n",
       "    }\n",
       "</style>\n",
       "<table border=\"1\" class=\"dataframe\">\n",
       "  <thead>\n",
       "    <tr style=\"text-align: right;\">\n",
       "      <th></th>\n",
       "      <th>x</th>\n",
       "      <th>y</th>\n",
       "      <th>yhat_bl</th>\n",
       "      <th>yhat</th>\n",
       "      <th>residual</th>\n",
       "      <th>residual_bl</th>\n",
       "      <th>model_sse</th>\n",
       "      <th>bl_sse</th>\n",
       "    </tr>\n",
       "  </thead>\n",
       "  <tbody>\n",
       "    <tr>\n",
       "      <th>count</th>\n",
       "      <td>7.000000</td>\n",
       "      <td>7.000000</td>\n",
       "      <td>7.000000</td>\n",
       "      <td>7.000000</td>\n",
       "      <td>7.000000e+00</td>\n",
       "      <td>7.000000e+00</td>\n",
       "      <td>7.000000e+00</td>\n",
       "      <td>7.000000</td>\n",
       "    </tr>\n",
       "    <tr>\n",
       "      <th>mean</th>\n",
       "      <td>83.142857</td>\n",
       "      <td>83.285714</td>\n",
       "      <td>83.285714</td>\n",
       "      <td>83.285714</td>\n",
       "      <td>3.248195e-14</td>\n",
       "      <td>6.090366e-15</td>\n",
       "      <td>9.685260e+01</td>\n",
       "      <td>555.428571</td>\n",
       "    </tr>\n",
       "    <tr>\n",
       "      <th>std</th>\n",
       "      <td>10.270160</td>\n",
       "      <td>9.621405</td>\n",
       "      <td>0.000000</td>\n",
       "      <td>8.742387</td>\n",
       "      <td>4.017723e+00</td>\n",
       "      <td>9.621405e+00</td>\n",
       "      <td>1.534948e-14</td>\n",
       "      <td>0.000000</td>\n",
       "    </tr>\n",
       "    <tr>\n",
       "      <th>min</th>\n",
       "      <td>70.000000</td>\n",
       "      <td>68.000000</td>\n",
       "      <td>83.285714</td>\n",
       "      <td>72.097968</td>\n",
       "      <td>-4.984650e+00</td>\n",
       "      <td>-1.271429e+01</td>\n",
       "      <td>9.685260e+01</td>\n",
       "      <td>555.428571</td>\n",
       "    </tr>\n",
       "    <tr>\n",
       "      <th>25%</th>\n",
       "      <td>77.500000</td>\n",
       "      <td>77.500000</td>\n",
       "      <td>83.285714</td>\n",
       "      <td>78.482280</td>\n",
       "      <td>-3.592099e+00</td>\n",
       "      <td>-6.214286e+00</td>\n",
       "      <td>9.685260e+01</td>\n",
       "      <td>555.428571</td>\n",
       "    </tr>\n",
       "    <tr>\n",
       "      <th>50%</th>\n",
       "      <td>80.000000</td>\n",
       "      <td>85.000000</td>\n",
       "      <td>83.285714</td>\n",
       "      <td>80.610384</td>\n",
       "      <td>1.635214e+00</td>\n",
       "      <td>-1.714286e+00</td>\n",
       "      <td>9.685260e+01</td>\n",
       "      <td>555.428571</td>\n",
       "    </tr>\n",
       "    <tr>\n",
       "      <th>75%</th>\n",
       "      <td>88.500000</td>\n",
       "      <td>89.500000</td>\n",
       "      <td>83.285714</td>\n",
       "      <td>87.845937</td>\n",
       "      <td>2.887246e+00</td>\n",
       "      <td>5.785714e+00</td>\n",
       "      <td>9.685260e+01</td>\n",
       "      <td>555.428571</td>\n",
       "    </tr>\n",
       "    <tr>\n",
       "      <th>max</th>\n",
       "      <td>100.000000</td>\n",
       "      <td>96.000000</td>\n",
       "      <td>83.285714</td>\n",
       "      <td>97.635214</td>\n",
       "      <td>4.759142e+00</td>\n",
       "      <td>1.528571e+01</td>\n",
       "      <td>9.685260e+01</td>\n",
       "      <td>555.428571</td>\n",
       "    </tr>\n",
       "  </tbody>\n",
       "</table>\n",
       "</div>"
      ],
      "text/plain": [
       "                x          y    yhat_bl       yhat      residual  \\\n",
       "count    7.000000   7.000000   7.000000   7.000000  7.000000e+00   \n",
       "mean    83.142857  83.285714  83.285714  83.285714  3.248195e-14   \n",
       "std     10.270160   9.621405   0.000000   8.742387  4.017723e+00   \n",
       "min     70.000000  68.000000  83.285714  72.097968 -4.984650e+00   \n",
       "25%     77.500000  77.500000  83.285714  78.482280 -3.592099e+00   \n",
       "50%     80.000000  85.000000  83.285714  80.610384  1.635214e+00   \n",
       "75%     88.500000  89.500000  83.285714  87.845937  2.887246e+00   \n",
       "max    100.000000  96.000000  83.285714  97.635214  4.759142e+00   \n",
       "\n",
       "        residual_bl     model_sse      bl_sse  \n",
       "count  7.000000e+00  7.000000e+00    7.000000  \n",
       "mean   6.090366e-15  9.685260e+01  555.428571  \n",
       "std    9.621405e+00  1.534948e-14    0.000000  \n",
       "min   -1.271429e+01  9.685260e+01  555.428571  \n",
       "25%   -6.214286e+00  9.685260e+01  555.428571  \n",
       "50%   -1.714286e+00  9.685260e+01  555.428571  \n",
       "75%    5.785714e+00  9.685260e+01  555.428571  \n",
       "max    1.528571e+01  9.685260e+01  555.428571  "
      ]
     },
     "execution_count": 129,
     "metadata": {},
     "output_type": "execute_result"
    }
   ],
   "source": [
    "df.describe()"
   ]
  },
  {
   "cell_type": "markdown",
   "metadata": {},
   "source": [
    "### Scikit-Learn"
   ]
  },
  {
   "cell_type": "code",
   "execution_count": 134,
   "metadata": {},
   "outputs": [],
   "source": [
    "from sklearn.metrics import mean_squared_error as mse\n",
    "from math import sqrt"
   ]
  },
  {
   "cell_type": "code",
   "execution_count": 135,
   "metadata": {},
   "outputs": [
    {
     "data": {
      "text/html": [
       "<div>\n",
       "<style scoped>\n",
       "    .dataframe tbody tr th:only-of-type {\n",
       "        vertical-align: middle;\n",
       "    }\n",
       "\n",
       "    .dataframe tbody tr th {\n",
       "        vertical-align: top;\n",
       "    }\n",
       "\n",
       "    .dataframe thead th {\n",
       "        text-align: right;\n",
       "    }\n",
       "</style>\n",
       "<table border=\"1\" class=\"dataframe\">\n",
       "  <thead>\n",
       "    <tr style=\"text-align: right;\">\n",
       "      <th></th>\n",
       "      <th>x</th>\n",
       "      <th>y</th>\n",
       "      <th>yhat_bl</th>\n",
       "      <th>yhat</th>\n",
       "    </tr>\n",
       "  </thead>\n",
       "  <tbody>\n",
       "    <tr>\n",
       "      <th>0</th>\n",
       "      <td>100</td>\n",
       "      <td>96</td>\n",
       "      <td>83.285714</td>\n",
       "      <td>97.635214</td>\n",
       "    </tr>\n",
       "    <tr>\n",
       "      <th>1</th>\n",
       "      <td>93</td>\n",
       "      <td>90</td>\n",
       "      <td>83.285714</td>\n",
       "      <td>91.676524</td>\n",
       "    </tr>\n",
       "    <tr>\n",
       "      <th>2</th>\n",
       "      <td>84</td>\n",
       "      <td>89</td>\n",
       "      <td>83.285714</td>\n",
       "      <td>84.015350</td>\n",
       "    </tr>\n",
       "    <tr>\n",
       "      <th>3</th>\n",
       "      <td>80</td>\n",
       "      <td>85</td>\n",
       "      <td>83.285714</td>\n",
       "      <td>80.610384</td>\n",
       "    </tr>\n",
       "    <tr>\n",
       "      <th>4</th>\n",
       "      <td>76</td>\n",
       "      <td>80</td>\n",
       "      <td>83.285714</td>\n",
       "      <td>77.205418</td>\n",
       "    </tr>\n",
       "  </tbody>\n",
       "</table>\n",
       "</div>"
      ],
      "text/plain": [
       "     x   y    yhat_bl       yhat\n",
       "0  100  96  83.285714  97.635214\n",
       "1   93  90  83.285714  91.676524\n",
       "2   84  89  83.285714  84.015350\n",
       "3   80  85  83.285714  80.610384\n",
       "4   76  80  83.285714  77.205418"
      ]
     },
     "execution_count": 135,
     "metadata": {},
     "output_type": "execute_result"
    }
   ],
   "source": [
    "df = df[['x','y','yhat_bl','yhat']]\n",
    "df.head()"
   ]
  },
  {
   "cell_type": "code",
   "execution_count": 144,
   "metadata": {},
   "outputs": [
    {
     "name": "stdout",
     "output_type": "stream",
     "text": [
      "RMSE baseline:  8.907689867497083\n",
      "RMSE model:  3.7196888490608724\n"
     ]
    }
   ],
   "source": [
    "rmse2 = sqrt(mse(df.y, df.yhat))\n",
    "rmse2_bl = sqrt(mse(df.y, df.yhat_bl))\n",
    "\n",
    "print('RMSE baseline: ', rmse2_bl)\n",
    "print('RMSE model: ', rmse2)"
   ]
  },
  {
   "cell_type": "code",
   "execution_count": 145,
   "metadata": {},
   "outputs": [
    {
     "data": {
      "image/png": "[encoded data removed]",
      "text/plain": [
       "<Figure size 576x360 with 1 Axes>"
      ]
     },
     "metadata": {
      "needs_background": "light"
     },
     "output_type": "display_data"
    }
   ],
   "source": [
    "viz.evaluation_example3(df, x, y, yhat = df.yhat)"
   ]
  },
  {
   "cell_type": "markdown",
   "metadata": {},
   "source": [
    "## Evaluate Part 2: Model Significance"
   ]
  },
  {
   "cell_type": "markdown",
   "metadata": {},
   "source": [
    "**Use sklearn and statsmodels to evaluate $R^2$**\n",
    "\n",
    "Compute explained variance, or $R^2$ by using `statsmodels.ols`. "
   ]
  },
  {
   "cell_type": "code",
   "execution_count": 146,
   "metadata": {},
   "outputs": [
    {
     "name": "stdout",
     "output_type": "stream",
     "text": [
      "R-squared = Explained Variance =  0.826\n"
     ]
    }
   ],
   "source": [
    "from statsmodels.formula.api import ols\n",
    "\n",
    "# remember?  ols_model = ols('y ~ x', data=df).fit()\n",
    "\n",
    "r2 = ols_model.rsquared\n",
    "print('R-squared = Explained Variance = ', round(r2,3))"
   ]
  },
  {
   "cell_type": "code",
   "execution_count": 147,
   "metadata": {},
   "outputs": [
    {
     "data": {
      "text/html": [
       "<table class=\"simpletable\">\n",
       "<caption>OLS Regression Results</caption>\n",
       "<tr>\n",
       "  <th>Dep. Variable:</th>            <td>y</td>        <th>  R-squared:         </th> <td>   0.826</td>\n",
       "</tr>\n",
       "<tr>\n",
       "  <th>Model:</th>                   <td>OLS</td>       <th>  Adj. R-squared:    </th> <td>   0.791</td>\n",
       "</tr>\n",
       "<tr>\n",
       "  <th>Method:</th>             <td>Least Squares</td>  <th>  F-statistic:       </th> <td>   23.67</td>\n",
       "</tr>\n",
       "<tr>\n",
       "  <th>Date:</th>             <td>Thu, 02 Apr 2020</td> <th>  Prob (F-statistic):</th>  <td>0.00461</td>\n",
       "</tr>\n",
       "<tr>\n",
       "  <th>Time:</th>                 <td>14:49:08</td>     <th>  Log-Likelihood:    </th> <td> -19.128</td>\n",
       "</tr>\n",
       "<tr>\n",
       "  <th>No. Observations:</th>      <td>     7</td>      <th>  AIC:               </th> <td>   42.26</td>\n",
       "</tr>\n",
       "<tr>\n",
       "  <th>Df Residuals:</th>          <td>     5</td>      <th>  BIC:               </th> <td>   42.15</td>\n",
       "</tr>\n",
       "<tr>\n",
       "  <th>Df Model:</th>              <td>     1</td>      <th>                     </th>     <td> </td>   \n",
       "</tr>\n",
       "<tr>\n",
       "  <th>Covariance Type:</th>      <td>nonrobust</td>    <th>                     </th>     <td> </td>   \n",
       "</tr>\n",
       "</table>\n",
       "<table class=\"simpletable\">\n",
       "<tr>\n",
       "      <td></td>         <th>coef</th>     <th>std err</th>      <th>t</th>      <th>P>|t|</th>  <th>[0.025</th>    <th>0.975]</th>  \n",
       "</tr>\n",
       "<tr>\n",
       "  <th>Intercept</th> <td>   12.5111</td> <td>   14.641</td> <td>    0.855</td> <td> 0.432</td> <td>  -25.124</td> <td>   50.146</td>\n",
       "</tr>\n",
       "<tr>\n",
       "  <th>x</th>         <td>    0.8512</td> <td>    0.175</td> <td>    4.866</td> <td> 0.005</td> <td>    0.402</td> <td>    1.301</td>\n",
       "</tr>\n",
       "</table>\n",
       "<table class=\"simpletable\">\n",
       "<tr>\n",
       "  <th>Omnibus:</th>       <td>   nan</td> <th>  Durbin-Watson:     </th> <td>   0.983</td>\n",
       "</tr>\n",
       "<tr>\n",
       "  <th>Prob(Omnibus):</th> <td>   nan</td> <th>  Jarque-Bera (JB):  </th> <td>   0.776</td>\n",
       "</tr>\n",
       "<tr>\n",
       "  <th>Skew:</th>          <td> 0.124</td> <th>  Prob(JB):          </th> <td>   0.678</td>\n",
       "</tr>\n",
       "<tr>\n",
       "  <th>Kurtosis:</th>      <td> 1.388</td> <th>  Cond. No.          </th> <td>    737.</td>\n",
       "</tr>\n",
       "</table><br/><br/>Warnings:<br/>[1] Standard Errors assume that the covariance matrix of the errors is correctly specified."
      ],
      "text/plain": [
       "<class 'statsmodels.iolib.summary.Summary'>\n",
       "\"\"\"\n",
       "                            OLS Regression Results                            \n",
       "==============================================================================\n",
       "Dep. Variable:                      y   R-squared:                       0.826\n",
       "Model:                            OLS   Adj. R-squared:                  0.791\n",
       "Method:                 Least Squares   F-statistic:                     23.67\n",
       "Date:                Thu, 02 Apr 2020   Prob (F-statistic):            0.00461\n",
       "Time:                        14:49:08   Log-Likelihood:                -19.128\n",
       "No. Observations:                   7   AIC:                             42.26\n",
       "Df Residuals:                       5   BIC:                             42.15\n",
       "Df Model:                           1                                         \n",
       "Covariance Type:            nonrobust                                         \n",
       "==============================================================================\n",
       "                 coef    std err          t      P>|t|      [0.025      0.975]\n",
       "------------------------------------------------------------------------------\n",
       "Intercept     12.5111     14.641      0.855      0.432     -25.124      50.146\n",
       "x              0.8512      0.175      4.866      0.005       0.402       1.301\n",
       "==============================================================================\n",
       "Omnibus:                          nan   Durbin-Watson:                   0.983\n",
       "Prob(Omnibus):                    nan   Jarque-Bera (JB):                0.776\n",
       "Skew:                           0.124   Prob(JB):                        0.678\n",
       "Kurtosis:                       1.388   Cond. No.                         737.\n",
       "==============================================================================\n",
       "\n",
       "Warnings:\n",
       "[1] Standard Errors assume that the covariance matrix of the errors is correctly specified.\n",
       "\"\"\""
      ]
     },
     "execution_count": 147,
     "metadata": {},
     "output_type": "execute_result"
    }
   ],
   "source": [
    "ols_model.summary()"
   ]
  },
  {
   "cell_type": "markdown",
   "metadata": {},
   "source": [
    "Compute $R^2$ using `sklearn.metrics.explained_variance_score`\n"
   ]
  },
  {
   "cell_type": "code",
   "execution_count": 148,
   "metadata": {},
   "outputs": [
    {
     "name": "stdout",
     "output_type": "stream",
     "text": [
      "R-squared = Explained Variance =  0.826\n"
     ]
    }
   ],
   "source": [
    "evs = explained_variance_score(df.y, df.yhat)\n",
    "print('R-squared = Explained Variance = ', round(evs,3))"
   ]
  },
  {
   "cell_type": "markdown",
   "metadata": {},
   "source": [
    "**Use statsmodels to evaluate the p-value**"
   ]
  },
  {
   "cell_type": "code",
   "execution_count": 149,
   "metadata": {},
   "outputs": [
    {
     "name": "stdout",
     "output_type": "stream",
     "text": [
      "p-value for model significance =  0.0046\n"
     ]
    }
   ],
   "source": [
    "f_pval = ols_model.f_pvalue\n",
    "print(\"p-value for model significance = \", round(f_pval,4))"
   ]
  },
  {
   "cell_type": "markdown",
   "metadata": {},
   "source": [
    "The tl;dr:\n",
    "\n",
    "We can conclude that the correlation between the model and the dependent variable is significant. \n",
    "Our model is valuable! \n",
    "\n",
    "The full explanation: \n",
    "\n",
    "For the model with no independent variables, the intercept-only model, all of the model’s predictions equal the mean of the dependent variable. Consequently, if the overall F-test is statistically significant, your model’s predictions are an improvement over using the mean.\n",
    "\n",
    "- If less than 0.05, you're OK => conclude that your regression model fits the data better than the model with no independent variables, meaning the independent variables in your model improve the fit.   \n",
    "- If greater than 0.05, it's probably better to stop using this set of features. \n",
    "\n",
    "If none of your independent variables are statistically significant, you can expect the overall F-test to also not be statistically significant.   \n",
    "\n",
    "Occasionally, however, the tests can produce conflicting results. This disagreement can occur because the F-test of overall significance assesses all of the coefficients jointly whereas the t-test for each coefficient examines them individually. For example, the overall F-test can find that the coefficients are significant jointly while the t-tests can fail to find significance individually.   \n",
    "\n",
    "How can this happen? The F-test sums the predictive power of all independent variables and determines that it is unlikely that all of the coefficients equal zero. However, it’s possible that each variable isn’t predictive enough on its own to be statistically significant. In other words, your sample provides sufficient evidence to conclude that your model is significant, but not enough to conclude that any individual variable is significant."
   ]
  },
  {
   "cell_type": "markdown",
   "metadata": {},
   "source": [
    "## Evaluate Part 3: Feature Significance\n",
    "\n",
    "**The t-test for feature significance**\n",
    "\n",
    "- **The null hypothesis** states that the model without this variable fits the data as well as your model. (Significance  > 0.05)   \n",
    "\n",
    "- **The alternative hypothesis** says that your model fits the data better with that independent variable than the model without that variable (Significance F <= 0.05)  \n",
    "\n",
    "Any independent variable with a p-value of <= 0.05 contributes to a better model than without it.  "
   ]
  },
  {
   "cell_type": "code",
   "execution_count": null,
   "metadata": {},
   "outputs": [],
   "source": [
    "ols_model.summary()"
   ]
  },
  {
   "cell_type": "markdown",
   "metadata": {},
   "source": [
    "Looking at $P>|t|$ for $x$, we can see a p-value of 0.005. As we would expect in a univariate model, this is basically equivalent to the P(F-statistic), the p-value for the F statistic. "
   ]
  },
  {
   "cell_type": "markdown",
   "metadata": {},
   "source": [
    "### Confidence Intervals\n",
    "\n",
    "**Parameters and confidence intervals**\n",
    "\n",
    "- 95% CI => 95% of the time the indicated parameter will fall in that range.\n",
    "- A narrow interval means more confidence in the value presented.\n",
    "- A wide interval indicates less confidence in the value presented."
   ]
  }
 ],
 "metadata": {
  "kernelspec": {
   "display_name": "Python 3",
   "language": "python",
   "name": "python3"
  },
  "language_info": {
   "codemirror_mode": {
    "name": "ipython",
    "version": 3
   },
   "file_extension": ".py",
   "mimetype": "text/x-python",
   "name": "python",
   "nbconvert_exporter": "python",
   "pygments_lexer": "ipython3",
   "version": "3.6.8"
  }
 },
 "nbformat": 4,
 "nbformat_minor": 2
}
