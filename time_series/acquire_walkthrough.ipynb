{
 "cells": [
  {
   "cell_type": "markdown",
   "metadata": {
    "toc": true
   },
   "source": [
    "<h1>Table of Contents<span class=\"tocSkip\"></span></h1>\n",
    "<div class=\"toc\"><ul class=\"toc-item\"><li><span><a href=\"#Acquire-Exercises\" data-toc-modified-id=\"Acquire-Exercises-1\"><span class=\"toc-item-num\">1&nbsp;&nbsp;</span>Acquire Exercises</a></span><ul class=\"toc-item\"><li><span><a href=\"#Here-is-the-Time-Series-Review-Notebook-through-Acquire.-I-will-add-to-it-as-we-go.\" data-toc-modified-id=\"Here-is-the-Time-Series-Review-Notebook-through-Acquire.-I-will-add-to-it-as-we-go.-1.1\"><span class=\"toc-item-num\">1.1&nbsp;&nbsp;</span><a href=\"https://faithkane3.github.io/time_series_review\" target=\"_blank\">Here</a> is the Time Series Review Notebook through Acquire. I will add to it as we go.</a></span></li><li><span><a href=\"#Requests-1-4\" data-toc-modified-id=\"Requests-1-4-1.2\"><span class=\"toc-item-num\">1.2&nbsp;&nbsp;</span>Requests 1-4</a></span></li><li><span><a href=\"#sales\" data-toc-modified-id=\"sales-1.3\"><span class=\"toc-item-num\">1.3&nbsp;&nbsp;</span>sales</a></span></li><li><span><a href=\"#stores\" data-toc-modified-id=\"stores-1.4\"><span class=\"toc-item-num\">1.4&nbsp;&nbsp;</span>stores</a></span></li><li><span><a href=\"#Let's-automate-this-with-a-function-that-works-on-all-of-the-pages-we-need-and-creates-csv-files.\" data-toc-modified-id=\"Let's-automate-this-with-a-function-that-works-on-all-of-the-pages-we-need-and-creates-csv-files.-1.5\"><span class=\"toc-item-num\">1.5&nbsp;&nbsp;</span>Let's automate this with a function that works on all of the pages we need and creates csv files.</a></span></li><li><span><a href=\"#Function-to-combine-all-three-DataFrames-using-our-helper-function-above.\" data-toc-modified-id=\"Function-to-combine-all-three-DataFrames-using-our-helper-function-above.-1.6\"><span class=\"toc-item-num\">1.6&nbsp;&nbsp;</span>Function to combine all three DataFrames using our helper function above.</a></span></li></ul></li><li><span><a href=\"#Use-read_csv-with-url-to-get-German-Engergy-Data\" data-toc-modified-id=\"Use-read_csv-with-url-to-get-German-Engergy-Data-2\"><span class=\"toc-item-num\">2&nbsp;&nbsp;</span>Use read_csv with url to get German Engergy Data</a></span><ul class=\"toc-item\"><li><span><a href=\"#Create-a-function-that-retrieves-German-Energy-data-and-reads/writes-csv\" data-toc-modified-id=\"Create-a-function-that-retrieves-German-Energy-data-and-reads/writes-csv-2.1\"><span class=\"toc-item-num\">2.1&nbsp;&nbsp;</span>Create a function that retrieves German Energy data and reads/writes csv</a></span></li></ul></li></ul></div>"
   ]
  },
  {
   "cell_type": "code",
   "execution_count": 1,
   "metadata": {},
   "outputs": [],
   "source": [
    "import pandas as pd\n",
    "import numpy as np\n",
    "\n",
    "import seaborn as sns\n",
    "import matplotlib.pyplot as plt\n",
    "%matplotlib inline\n",
    "\n",
    "plt.rc('figure', figsize=(11, 9))\n",
    "plt.rc('font', size=13)\n",
    "\n",
    "import os\n",
    "import requests\n",
    "\n",
    "import warnings\n",
    "warnings.filterwarnings(\"ignore\")"
   ]
  },
  {
   "cell_type": "markdown",
   "metadata": {},
   "source": [
    "## Acquire Exercises\n",
    "\n",
    "### [Here](https://faithkane3.github.io/time_series_review) is the Time Series Review Notebook through Acquire. I will add to it as we go.\n",
    "\n",
    "### Requests 1-4\n",
    "\n",
    "1. Using the code from the lesson as a guide, create a dataframe named items that has all of the data for items.\n",
    "\n",
    "\n",
    "2. Do the same thing, but for stores.\n",
    "\n",
    "\n",
    "3. Extract the data for sales. There are a lot of pages of data here, so your code will need to be a little more complex. Your code should continue fetching data from the next page until all of the data is extracted.\n",
    "\n",
    "\n",
    "4. Save the data in your files to local csv files so that it will be faster to access in the future."
   ]
  },
  {
   "cell_type": "code",
   "execution_count": 2,
   "metadata": {},
   "outputs": [
    {
     "name": "stdout",
     "output_type": "stream",
     "text": [
      "\n",
      "The API accepts GET requests for all endpoints, where endpoints are prefixed\n",
      "with\n",
      "\n",
      "    /api/{version}\n",
      "\n",
      "Where version is \"v1\"\n",
      "\n",
      "Valid endpoints:\n",
      "\n",
      "- /stores[/{store_id}]\n",
      "- /items[/{item_id}]\n",
      "- /sales[/{sale_id}]\n",
      "\n",
      "All endpoints accept a `page` parameter that can be used to navigate through\n",
      "the results.\n",
      "\n"
     ]
    }
   ],
   "source": [
    "# let's check out the documentation for this API\n",
    "\n",
    "base_url = 'https://python.zach.lol'\n",
    "response = requests.get(base_url + '/documentation')\n",
    "data = response.json()\n",
    "print(data['payload'])"
   ]
  },
  {
   "cell_type": "code",
   "execution_count": 3,
   "metadata": {},
   "outputs": [
    {
     "data": {
      "text/plain": [
       "True"
      ]
     },
     "execution_count": 3,
     "metadata": {},
     "output_type": "execute_result"
    }
   ],
   "source": [
    "# This is page 1 of items out of 3 pages\n",
    "\n",
    "api_url = base_url + '/api/v1/'\n",
    "response = requests.get(api_url + 'items')\n",
    "response.ok"
   ]
  },
  {
   "cell_type": "code",
   "execution_count": 4,
   "metadata": {},
   "outputs": [
    {
     "name": "stdout",
     "output_type": "stream",
     "text": [
      "<class 'dict'>\n"
     ]
    },
    {
     "data": {
      "text/plain": [
       "{'payload': {'items': [{'item_brand': 'Riceland',\n",
       "    'item_id': 1,\n",
       "    'item_name': 'Riceland American Jazmine Rice',\n",
       "    'item_price': 0.84,\n",
       "    'item_upc12': '35200264013',\n",
       "    'item_upc14': '35200264013'},\n",
       "   {'item_brand': 'Caress',\n",
       "    'item_id': 2,\n",
       "    'item_name': 'Caress Velvet Bliss Ultra Silkening Beauty Bar - 6 Ct',\n",
       "    'item_price': 6.44,\n",
       "    'item_upc12': '11111065925',\n",
       "    'item_upc14': '11111065925'},\n",
       "   {'item_brand': 'Earths Best',\n",
       "    'item_id': 3,\n",
       "    'item_name': 'Earths Best Organic Fruit Yogurt Smoothie Mixed Berry',\n",
       "    'item_price': 2.43,\n",
       "    'item_upc12': '23923330139',\n",
       "    'item_upc14': '23923330139'},\n",
       "   {'item_brand': 'Boars Head',\n",
       "    'item_id': 4,\n",
       "    'item_name': 'Boars Head Sliced White American Cheese - 120 Ct',\n",
       "    'item_price': 3.14,\n",
       "    'item_upc12': '208528800007',\n",
       "    'item_upc14': '208528800007'},\n",
       "   {'item_brand': 'Back To Nature',\n",
       "    'item_id': 5,\n",
       "    'item_name': 'Back To Nature Gluten Free White Cheddar Rice Thin Crackers',\n",
       "    'item_price': 2.61,\n",
       "    'item_upc12': '759283100036',\n",
       "    'item_upc14': '759283100036'},\n",
       "   {'item_brand': 'Sally Hansen',\n",
       "    'item_id': 6,\n",
       "    'item_name': 'Sally Hansen Nail Color Magnetic 903 Silver Elements',\n",
       "    'item_price': 6.93,\n",
       "    'item_upc12': '74170388732',\n",
       "    'item_upc14': '74170388732'},\n",
       "   {'item_brand': 'Twinings Of London',\n",
       "    'item_id': 7,\n",
       "    'item_name': 'Twinings Of London Classics Lady Grey Tea - 20 Ct',\n",
       "    'item_price': 9.64,\n",
       "    'item_upc12': '70177154004',\n",
       "    'item_upc14': '70177154004'},\n",
       "   {'item_brand': 'Lea & Perrins',\n",
       "    'item_id': 8,\n",
       "    'item_name': 'Lea & Perrins Marinade In-a-bag Cracked Peppercorn',\n",
       "    'item_price': 1.68,\n",
       "    'item_upc12': '51600080015',\n",
       "    'item_upc14': '51600080015'},\n",
       "   {'item_brand': 'Van De Kamps',\n",
       "    'item_id': 9,\n",
       "    'item_name': 'Van De Kamps Fillets Beer Battered - 10 Ct',\n",
       "    'item_price': 1.79,\n",
       "    'item_upc12': '19600923015',\n",
       "    'item_upc14': '19600923015'},\n",
       "   {'item_brand': 'Ahold',\n",
       "    'item_id': 10,\n",
       "    'item_name': 'Ahold Cocoa Almonds',\n",
       "    'item_price': 3.17,\n",
       "    'item_upc12': '688267141676',\n",
       "    'item_upc14': '688267141676'},\n",
       "   {'item_brand': 'Honest Tea',\n",
       "    'item_id': 11,\n",
       "    'item_name': 'Honest Tea Peach White Tea',\n",
       "    'item_price': 3.93,\n",
       "    'item_upc12': '657622604842',\n",
       "    'item_upc14': '657622604842'},\n",
       "   {'item_brand': 'Mueller',\n",
       "    'item_id': 12,\n",
       "    'item_name': 'Mueller Sport Care Basic Support Level Medium Elastic Knee Support',\n",
       "    'item_price': 8.4,\n",
       "    'item_upc12': '74676640211',\n",
       "    'item_upc14': '74676640211'},\n",
       "   {'item_brand': 'Garnier Nutritioniste',\n",
       "    'item_id': 13,\n",
       "    'item_name': 'Garnier Nutritioniste Moisture Rescue Fresh Cleansing Foam',\n",
       "    'item_price': 6.47,\n",
       "    'item_upc12': '603084234561',\n",
       "    'item_upc14': '603084234561'},\n",
       "   {'item_brand': 'Pamprin',\n",
       "    'item_id': 14,\n",
       "    'item_name': 'Pamprin Maximum Strength Multi-symptom Menstrual Pain Relief',\n",
       "    'item_price': 7.54,\n",
       "    'item_upc12': '41167300121',\n",
       "    'item_upc14': '41167300121'},\n",
       "   {'item_brand': 'Suave',\n",
       "    'item_id': 15,\n",
       "    'item_name': 'Suave Naturals Moisturizing Body Wash Creamy Tropical Coconut',\n",
       "    'item_price': 9.11,\n",
       "    'item_upc12': '79400847201',\n",
       "    'item_upc14': '79400847201'},\n",
       "   {'item_brand': 'Burts Bees',\n",
       "    'item_id': 16,\n",
       "    'item_name': 'Burts Bees Daily Moisturizing Cream Sensitive',\n",
       "    'item_price': 5.17,\n",
       "    'item_upc12': '792850014008',\n",
       "    'item_upc14': '792850014008'},\n",
       "   {'item_brand': 'Ducal',\n",
       "    'item_id': 17,\n",
       "    'item_name': 'Ducal Refried Red Beans',\n",
       "    'item_price': 1.16,\n",
       "    'item_upc12': '88313590791',\n",
       "    'item_upc14': '88313590791'},\n",
       "   {'item_brand': 'Scotch',\n",
       "    'item_id': 18,\n",
       "    'item_name': 'Scotch Removable Clear Mounting Squares - 35 Ct',\n",
       "    'item_price': 4.39,\n",
       "    'item_upc12': '21200725340',\n",
       "    'item_upc14': '21200725340'},\n",
       "   {'item_brand': 'Careone',\n",
       "    'item_id': 19,\n",
       "    'item_name': 'Careone Family Comb Set - 8 Ct',\n",
       "    'item_price': 0.74,\n",
       "    'item_upc12': '41520035646',\n",
       "    'item_upc14': '41520035646'},\n",
       "   {'item_brand': 'Usda Produce',\n",
       "    'item_id': 20,\n",
       "    'item_name': 'Plums Black',\n",
       "    'item_price': 5.62,\n",
       "    'item_upc12': '204040000000',\n",
       "    'item_upc14': '204040000000'}],\n",
       "  'max_page': 3,\n",
       "  'next_page': '/api/v1/items?page=2',\n",
       "  'page': 1,\n",
       "  'previous_page': None},\n",
       " 'status': 'ok'}"
      ]
     },
     "execution_count": 4,
     "metadata": {},
     "output_type": "execute_result"
    }
   ],
   "source": [
    "# Use .json() method on our response, and we have a dictionary object\n",
    "\n",
    "data = response.json()\n",
    "print(type(data))\n",
    "data"
   ]
  },
  {
   "cell_type": "code",
   "execution_count": 5,
   "metadata": {},
   "outputs": [
    {
     "data": {
      "text/plain": [
       "dict_keys(['payload', 'status'])"
      ]
     },
     "execution_count": 5,
     "metadata": {},
     "output_type": "execute_result"
    }
   ],
   "source": [
    "# the keys in our dictionary object are payload and status\n",
    "\n",
    "data.keys()"
   ]
  },
  {
   "cell_type": "code",
   "execution_count": 6,
   "metadata": {},
   "outputs": [
    {
     "data": {
      "text/plain": [
       "dict_keys(['items', 'max_page', 'next_page', 'page', 'previous_page'])"
      ]
     },
     "execution_count": 6,
     "metadata": {},
     "output_type": "execute_result"
    }
   ],
   "source": [
    "# let's look at the keys in payload\n",
    "# payload is also a key for a dictionary of items\n",
    "# items is the key for a list of dictionaries (items)\n",
    "\n",
    "data['payload'].keys()"
   ]
  },
  {
   "cell_type": "code",
   "execution_count": 7,
   "metadata": {},
   "outputs": [
    {
     "data": {
      "text/plain": [
       "[{'item_brand': 'Riceland',\n",
       "  'item_id': 1,\n",
       "  'item_name': 'Riceland American Jazmine Rice',\n",
       "  'item_price': 0.84,\n",
       "  'item_upc12': '35200264013',\n",
       "  'item_upc14': '35200264013'},\n",
       " {'item_brand': 'Caress',\n",
       "  'item_id': 2,\n",
       "  'item_name': 'Caress Velvet Bliss Ultra Silkening Beauty Bar - 6 Ct',\n",
       "  'item_price': 6.44,\n",
       "  'item_upc12': '11111065925',\n",
       "  'item_upc14': '11111065925'}]"
      ]
     },
     "execution_count": 7,
     "metadata": {},
     "output_type": "execute_result"
    }
   ],
   "source": [
    "# Look at first two item dictionaries in items list\n",
    "\n",
    "data['payload']['items'][:2]"
   ]
  },
  {
   "cell_type": "code",
   "execution_count": 8,
   "metadata": {},
   "outputs": [
    {
     "data": {
      "text/plain": [
       "20"
      ]
     },
     "execution_count": 8,
     "metadata": {},
     "output_type": "execute_result"
    }
   ],
   "source": [
    "# We have a list of 20 items from page one, and now we want to add items from the next page\n",
    "\n",
    "items = data['payload']['items']\n",
    "len(items)\n",
    "#type(items)"
   ]
  },
  {
   "cell_type": "code",
   "execution_count": 9,
   "metadata": {},
   "outputs": [
    {
     "data": {
      "text/plain": [
       "'/api/v1/items?page=2'"
      ]
     },
     "execution_count": 9,
     "metadata": {},
     "output_type": "execute_result"
    }
   ],
   "source": [
    "# Our next page will be page 2 of items out of 3\n",
    "\n",
    "data['payload']['next_page']"
   ]
  },
  {
   "cell_type": "code",
   "execution_count": 10,
   "metadata": {},
   "outputs": [],
   "source": [
    "# Grab the next page\n",
    "\n",
    "response = requests.get(base_url + data['payload']['next_page'])\n",
    "data = response.json()"
   ]
  },
  {
   "cell_type": "code",
   "execution_count": 11,
   "metadata": {
    "scrolled": true
   },
   "outputs": [
    {
     "data": {
      "text/plain": [
       "40"
      ]
     },
     "execution_count": 11,
     "metadata": {},
     "output_type": "execute_result"
    }
   ],
   "source": [
    "# Add items from the second page to our list\n",
    "\n",
    "items.extend(data['payload']['items'])\n",
    "len(items)"
   ]
  },
  {
   "cell_type": "code",
   "execution_count": 12,
   "metadata": {},
   "outputs": [
    {
     "data": {
      "text/plain": [
       "'/api/v1/items?page=3'"
      ]
     },
     "execution_count": 12,
     "metadata": {},
     "output_type": "execute_result"
    }
   ],
   "source": [
    "# Our next page is page 3 of items out of 3\n",
    "\n",
    "data['payload']['next_page']"
   ]
  },
  {
   "cell_type": "code",
   "execution_count": 13,
   "metadata": {},
   "outputs": [
    {
     "data": {
      "text/plain": [
       "50"
      ]
     },
     "execution_count": 13,
     "metadata": {},
     "output_type": "execute_result"
    }
   ],
   "source": [
    "# Grab the next page in the same way and add items to our list\n",
    "# There are only 10 items on this last page (len(data['payload']['items']))\n",
    "\n",
    "response = requests.get(base_url + data['payload']['next_page'])\n",
    "data = response.json()\n",
    "\n",
    "items.extend(data['payload']['items'])\n",
    "len(items)"
   ]
  },
  {
   "cell_type": "markdown",
   "metadata": {},
   "source": [
    ">**There is no next page, so `data['payload']['next_page']` returns `None`. This can come in handy when we write our function later.**"
   ]
  },
  {
   "cell_type": "code",
   "execution_count": 14,
   "metadata": {},
   "outputs": [
    {
     "data": {
      "text/plain": [
       "True"
      ]
     },
     "execution_count": 14,
     "metadata": {},
     "output_type": "execute_result"
    }
   ],
   "source": [
    "#data['payload']\n",
    "data['payload']['next_page'] == None"
   ]
  },
  {
   "cell_type": "code",
   "execution_count": 15,
   "metadata": {},
   "outputs": [
    {
     "name": "stdout",
     "output_type": "stream",
     "text": [
      "(50, 6)\n"
     ]
    },
    {
     "data": {
      "text/html": [
       "<div>\n",
       "<style scoped>\n",
       "    .dataframe tbody tr th:only-of-type {\n",
       "        vertical-align: middle;\n",
       "    }\n",
       "\n",
       "    .dataframe tbody tr th {\n",
       "        vertical-align: top;\n",
       "    }\n",
       "\n",
       "    .dataframe thead th {\n",
       "        text-align: right;\n",
       "    }\n",
       "</style>\n",
       "<table border=\"1\" class=\"dataframe\">\n",
       "  <thead>\n",
       "    <tr style=\"text-align: right;\">\n",
       "      <th></th>\n",
       "      <th>item_brand</th>\n",
       "      <th>item_id</th>\n",
       "      <th>item_name</th>\n",
       "      <th>item_price</th>\n",
       "      <th>item_upc12</th>\n",
       "      <th>item_upc14</th>\n",
       "    </tr>\n",
       "  </thead>\n",
       "  <tbody>\n",
       "    <tr>\n",
       "      <th>0</th>\n",
       "      <td>Riceland</td>\n",
       "      <td>1</td>\n",
       "      <td>Riceland American Jazmine Rice</td>\n",
       "      <td>0.84</td>\n",
       "      <td>35200264013</td>\n",
       "      <td>35200264013</td>\n",
       "    </tr>\n",
       "    <tr>\n",
       "      <th>1</th>\n",
       "      <td>Caress</td>\n",
       "      <td>2</td>\n",
       "      <td>Caress Velvet Bliss Ultra Silkening Beauty Bar...</td>\n",
       "      <td>6.44</td>\n",
       "      <td>11111065925</td>\n",
       "      <td>11111065925</td>\n",
       "    </tr>\n",
       "  </tbody>\n",
       "</table>\n",
       "</div>"
      ],
      "text/plain": [
       "  item_brand  item_id                                          item_name  \\\n",
       "0   Riceland        1                     Riceland American Jazmine Rice   \n",
       "1     Caress        2  Caress Velvet Bliss Ultra Silkening Beauty Bar...   \n",
       "\n",
       "   item_price   item_upc12   item_upc14  \n",
       "0        0.84  35200264013  35200264013  \n",
       "1        6.44  11111065925  11111065925  "
      ]
     },
     "execution_count": 15,
     "metadata": {},
     "output_type": "execute_result"
    }
   ],
   "source": [
    "# Use our items, our list of dictionaries, to create a DataFrame\n",
    "\n",
    "items_df = pd.DataFrame(items)\n",
    "print(items_df.shape)\n",
    "items_df.head(2)"
   ]
  },
  {
   "cell_type": "markdown",
   "metadata": {},
   "source": [
    "### sales"
   ]
  },
  {
   "cell_type": "code",
   "execution_count": 16,
   "metadata": {},
   "outputs": [
    {
     "data": {
      "text/plain": [
       "183"
      ]
     },
     "execution_count": 16,
     "metadata": {},
     "output_type": "execute_result"
    }
   ],
   "source": [
    "api_url = base_url + '/api/v1/'\n",
    "response = requests.get(api_url + 'sales')\n",
    "data = response.json()\n",
    "data['payload']['max_page']"
   ]
  },
  {
   "cell_type": "markdown",
   "metadata": {},
   "source": [
    "### stores"
   ]
  },
  {
   "cell_type": "code",
   "execution_count": 17,
   "metadata": {},
   "outputs": [
    {
     "data": {
      "text/plain": [
       "1"
      ]
     },
     "execution_count": 17,
     "metadata": {},
     "output_type": "execute_result"
    }
   ],
   "source": [
    "api_url = base_url + '/api/v1/'\n",
    "response = requests.get(api_url + 'stores')\n",
    "data = response.json()\n",
    "data['payload']['max_page']"
   ]
  },
  {
   "cell_type": "markdown",
   "metadata": {},
   "source": [
    "### Let's automate this with a function that works on all of the pages we need and creates csv files."
   ]
  },
  {
   "cell_type": "code",
   "execution_count": 18,
   "metadata": {},
   "outputs": [],
   "source": [
    "def get_df(name):\n",
    "    \"\"\"\n",
    "    This function takes in the string\n",
    "    'items', 'stores', or 'sales' and\n",
    "    returns a df containing all pages and\n",
    "    creates a .csv file for future use.\n",
    "    \"\"\"\n",
    "    base_url = 'https://python.zach.lol'\n",
    "    api_url = base_url + '/api/v1/'\n",
    "    response = requests.get(api_url + name)\n",
    "    data = response.json()\n",
    "    \n",
    "    # create list from 1st page\n",
    "    my_list = data['payload'][name]\n",
    "    \n",
    "    # loop through the pages and add to list\n",
    "    while data['payload']['next_page'] != None:\n",
    "        response = requests.get(base_url + data['payload']['next_page'])\n",
    "        data = response.json()\n",
    "        my_list.extend(data['payload'][name])\n",
    "    \n",
    "    # Create DataFrame from list\n",
    "    df = pd.DataFrame(my_list)\n",
    "    \n",
    "    # Write DataFrame to csv file for future use\n",
    "    df.to_csv(name + '.csv')\n",
    "    return df"
   ]
  },
  {
   "cell_type": "code",
   "execution_count": 19,
   "metadata": {},
   "outputs": [
    {
     "name": "stdout",
     "output_type": "stream",
     "text": [
      "(50, 6)\n"
     ]
    },
    {
     "data": {
      "text/html": [
       "<div>\n",
       "<style scoped>\n",
       "    .dataframe tbody tr th:only-of-type {\n",
       "        vertical-align: middle;\n",
       "    }\n",
       "\n",
       "    .dataframe tbody tr th {\n",
       "        vertical-align: top;\n",
       "    }\n",
       "\n",
       "    .dataframe thead th {\n",
       "        text-align: right;\n",
       "    }\n",
       "</style>\n",
       "<table border=\"1\" class=\"dataframe\">\n",
       "  <thead>\n",
       "    <tr style=\"text-align: right;\">\n",
       "      <th></th>\n",
       "      <th>item_brand</th>\n",
       "      <th>item_id</th>\n",
       "      <th>item_name</th>\n",
       "      <th>item_price</th>\n",
       "      <th>item_upc12</th>\n",
       "      <th>item_upc14</th>\n",
       "    </tr>\n",
       "  </thead>\n",
       "  <tbody>\n",
       "    <tr>\n",
       "      <th>0</th>\n",
       "      <td>Riceland</td>\n",
       "      <td>1</td>\n",
       "      <td>Riceland American Jazmine Rice</td>\n",
       "      <td>0.84</td>\n",
       "      <td>35200264013</td>\n",
       "      <td>35200264013</td>\n",
       "    </tr>\n",
       "    <tr>\n",
       "      <th>1</th>\n",
       "      <td>Caress</td>\n",
       "      <td>2</td>\n",
       "      <td>Caress Velvet Bliss Ultra Silkening Beauty Bar...</td>\n",
       "      <td>6.44</td>\n",
       "      <td>11111065925</td>\n",
       "      <td>11111065925</td>\n",
       "    </tr>\n",
       "    <tr>\n",
       "      <th>2</th>\n",
       "      <td>Earths Best</td>\n",
       "      <td>3</td>\n",
       "      <td>Earths Best Organic Fruit Yogurt Smoothie Mixe...</td>\n",
       "      <td>2.43</td>\n",
       "      <td>23923330139</td>\n",
       "      <td>23923330139</td>\n",
       "    </tr>\n",
       "    <tr>\n",
       "      <th>3</th>\n",
       "      <td>Boars Head</td>\n",
       "      <td>4</td>\n",
       "      <td>Boars Head Sliced White American Cheese - 120 Ct</td>\n",
       "      <td>3.14</td>\n",
       "      <td>208528800007</td>\n",
       "      <td>208528800007</td>\n",
       "    </tr>\n",
       "    <tr>\n",
       "      <th>4</th>\n",
       "      <td>Back To Nature</td>\n",
       "      <td>5</td>\n",
       "      <td>Back To Nature Gluten Free White Cheddar Rice ...</td>\n",
       "      <td>2.61</td>\n",
       "      <td>759283100036</td>\n",
       "      <td>759283100036</td>\n",
       "    </tr>\n",
       "  </tbody>\n",
       "</table>\n",
       "</div>"
      ],
      "text/plain": [
       "       item_brand  item_id                                          item_name  \\\n",
       "0        Riceland        1                     Riceland American Jazmine Rice   \n",
       "1          Caress        2  Caress Velvet Bliss Ultra Silkening Beauty Bar...   \n",
       "2     Earths Best        3  Earths Best Organic Fruit Yogurt Smoothie Mixe...   \n",
       "3      Boars Head        4   Boars Head Sliced White American Cheese - 120 Ct   \n",
       "4  Back To Nature        5  Back To Nature Gluten Free White Cheddar Rice ...   \n",
       "\n",
       "   item_price    item_upc12    item_upc14  \n",
       "0        0.84   35200264013   35200264013  \n",
       "1        6.44   11111065925   11111065925  \n",
       "2        2.43   23923330139   23923330139  \n",
       "3        3.14  208528800007  208528800007  \n",
       "4        2.61  759283100036  759283100036  "
      ]
     },
     "execution_count": 19,
     "metadata": {},
     "output_type": "execute_result"
    }
   ],
   "source": [
    "items_df = get_df('items')\n",
    "print(items_df.shape)\n",
    "items_df.head()"
   ]
  },
  {
   "cell_type": "code",
   "execution_count": 20,
   "metadata": {},
   "outputs": [
    {
     "name": "stdout",
     "output_type": "stream",
     "text": [
      "(913000, 5)\n"
     ]
    },
    {
     "data": {
      "text/html": [
       "<div>\n",
       "<style scoped>\n",
       "    .dataframe tbody tr th:only-of-type {\n",
       "        vertical-align: middle;\n",
       "    }\n",
       "\n",
       "    .dataframe tbody tr th {\n",
       "        vertical-align: top;\n",
       "    }\n",
       "\n",
       "    .dataframe thead th {\n",
       "        text-align: right;\n",
       "    }\n",
       "</style>\n",
       "<table border=\"1\" class=\"dataframe\">\n",
       "  <thead>\n",
       "    <tr style=\"text-align: right;\">\n",
       "      <th></th>\n",
       "      <th>item</th>\n",
       "      <th>sale_amount</th>\n",
       "      <th>sale_date</th>\n",
       "      <th>sale_id</th>\n",
       "      <th>store</th>\n",
       "    </tr>\n",
       "  </thead>\n",
       "  <tbody>\n",
       "    <tr>\n",
       "      <th>0</th>\n",
       "      <td>1</td>\n",
       "      <td>13.0</td>\n",
       "      <td>Tue, 01 Jan 2013 00:00:00 GMT</td>\n",
       "      <td>1</td>\n",
       "      <td>1</td>\n",
       "    </tr>\n",
       "    <tr>\n",
       "      <th>1</th>\n",
       "      <td>1</td>\n",
       "      <td>11.0</td>\n",
       "      <td>Wed, 02 Jan 2013 00:00:00 GMT</td>\n",
       "      <td>2</td>\n",
       "      <td>1</td>\n",
       "    </tr>\n",
       "    <tr>\n",
       "      <th>2</th>\n",
       "      <td>1</td>\n",
       "      <td>14.0</td>\n",
       "      <td>Thu, 03 Jan 2013 00:00:00 GMT</td>\n",
       "      <td>3</td>\n",
       "      <td>1</td>\n",
       "    </tr>\n",
       "    <tr>\n",
       "      <th>3</th>\n",
       "      <td>1</td>\n",
       "      <td>13.0</td>\n",
       "      <td>Fri, 04 Jan 2013 00:00:00 GMT</td>\n",
       "      <td>4</td>\n",
       "      <td>1</td>\n",
       "    </tr>\n",
       "    <tr>\n",
       "      <th>4</th>\n",
       "      <td>1</td>\n",
       "      <td>10.0</td>\n",
       "      <td>Sat, 05 Jan 2013 00:00:00 GMT</td>\n",
       "      <td>5</td>\n",
       "      <td>1</td>\n",
       "    </tr>\n",
       "  </tbody>\n",
       "</table>\n",
       "</div>"
      ],
      "text/plain": [
       "   item  sale_amount                      sale_date  sale_id  store\n",
       "0     1         13.0  Tue, 01 Jan 2013 00:00:00 GMT        1      1\n",
       "1     1         11.0  Wed, 02 Jan 2013 00:00:00 GMT        2      1\n",
       "2     1         14.0  Thu, 03 Jan 2013 00:00:00 GMT        3      1\n",
       "3     1         13.0  Fri, 04 Jan 2013 00:00:00 GMT        4      1\n",
       "4     1         10.0  Sat, 05 Jan 2013 00:00:00 GMT        5      1"
      ]
     },
     "execution_count": 20,
     "metadata": {},
     "output_type": "execute_result"
    }
   ],
   "source": [
    "sales_df = get_df('sales')\n",
    "print(sales_df.shape)\n",
    "sales_df.head()"
   ]
  },
  {
   "cell_type": "code",
   "execution_count": 21,
   "metadata": {},
   "outputs": [
    {
     "name": "stdout",
     "output_type": "stream",
     "text": [
      "(10, 5)\n"
     ]
    },
    {
     "data": {
      "text/html": [
       "<div>\n",
       "<style scoped>\n",
       "    .dataframe tbody tr th:only-of-type {\n",
       "        vertical-align: middle;\n",
       "    }\n",
       "\n",
       "    .dataframe tbody tr th {\n",
       "        vertical-align: top;\n",
       "    }\n",
       "\n",
       "    .dataframe thead th {\n",
       "        text-align: right;\n",
       "    }\n",
       "</style>\n",
       "<table border=\"1\" class=\"dataframe\">\n",
       "  <thead>\n",
       "    <tr style=\"text-align: right;\">\n",
       "      <th></th>\n",
       "      <th>store_address</th>\n",
       "      <th>store_city</th>\n",
       "      <th>store_id</th>\n",
       "      <th>store_state</th>\n",
       "      <th>store_zipcode</th>\n",
       "    </tr>\n",
       "  </thead>\n",
       "  <tbody>\n",
       "    <tr>\n",
       "      <th>0</th>\n",
       "      <td>12125 Alamo Ranch Pkwy</td>\n",
       "      <td>San Antonio</td>\n",
       "      <td>1</td>\n",
       "      <td>TX</td>\n",
       "      <td>78253</td>\n",
       "    </tr>\n",
       "    <tr>\n",
       "      <th>1</th>\n",
       "      <td>9255 FM 471 West</td>\n",
       "      <td>San Antonio</td>\n",
       "      <td>2</td>\n",
       "      <td>TX</td>\n",
       "      <td>78251</td>\n",
       "    </tr>\n",
       "    <tr>\n",
       "      <th>2</th>\n",
       "      <td>2118 Fredericksburg Rdj</td>\n",
       "      <td>San Antonio</td>\n",
       "      <td>3</td>\n",
       "      <td>TX</td>\n",
       "      <td>78201</td>\n",
       "    </tr>\n",
       "    <tr>\n",
       "      <th>3</th>\n",
       "      <td>516 S Flores St</td>\n",
       "      <td>San Antonio</td>\n",
       "      <td>4</td>\n",
       "      <td>TX</td>\n",
       "      <td>78204</td>\n",
       "    </tr>\n",
       "    <tr>\n",
       "      <th>4</th>\n",
       "      <td>1520 Austin Hwy</td>\n",
       "      <td>San Antonio</td>\n",
       "      <td>5</td>\n",
       "      <td>TX</td>\n",
       "      <td>78218</td>\n",
       "    </tr>\n",
       "  </tbody>\n",
       "</table>\n",
       "</div>"
      ],
      "text/plain": [
       "             store_address   store_city  store_id store_state store_zipcode\n",
       "0   12125 Alamo Ranch Pkwy  San Antonio         1          TX         78253\n",
       "1         9255 FM 471 West  San Antonio         2          TX         78251\n",
       "2  2118 Fredericksburg Rdj  San Antonio         3          TX         78201\n",
       "3          516 S Flores St  San Antonio         4          TX         78204\n",
       "4          1520 Austin Hwy  San Antonio         5          TX         78218"
      ]
     },
     "execution_count": 21,
     "metadata": {},
     "output_type": "execute_result"
    }
   ],
   "source": [
    "stores_df = get_df('stores')\n",
    "print(stores_df.shape)\n",
    "stores_df.head()"
   ]
  },
  {
   "cell_type": "code",
   "execution_count": 22,
   "metadata": {},
   "outputs": [
    {
     "data": {
      "text/html": [
       "<div>\n",
       "<style scoped>\n",
       "    .dataframe tbody tr th:only-of-type {\n",
       "        vertical-align: middle;\n",
       "    }\n",
       "\n",
       "    .dataframe tbody tr th {\n",
       "        vertical-align: top;\n",
       "    }\n",
       "\n",
       "    .dataframe thead th {\n",
       "        text-align: right;\n",
       "    }\n",
       "</style>\n",
       "<table border=\"1\" class=\"dataframe\">\n",
       "  <thead>\n",
       "    <tr style=\"text-align: right;\">\n",
       "      <th></th>\n",
       "      <th>item</th>\n",
       "      <th>sale_amount</th>\n",
       "      <th>sale_date</th>\n",
       "      <th>sale_id</th>\n",
       "      <th>store_address</th>\n",
       "      <th>store_city</th>\n",
       "      <th>store_id</th>\n",
       "      <th>store_state</th>\n",
       "      <th>store_zipcode</th>\n",
       "    </tr>\n",
       "  </thead>\n",
       "  <tbody>\n",
       "    <tr>\n",
       "      <th>0</th>\n",
       "      <td>1</td>\n",
       "      <td>13.0</td>\n",
       "      <td>Tue, 01 Jan 2013 00:00:00 GMT</td>\n",
       "      <td>1</td>\n",
       "      <td>12125 Alamo Ranch Pkwy</td>\n",
       "      <td>San Antonio</td>\n",
       "      <td>1</td>\n",
       "      <td>TX</td>\n",
       "      <td>78253</td>\n",
       "    </tr>\n",
       "    <tr>\n",
       "      <th>1</th>\n",
       "      <td>1</td>\n",
       "      <td>11.0</td>\n",
       "      <td>Wed, 02 Jan 2013 00:00:00 GMT</td>\n",
       "      <td>2</td>\n",
       "      <td>12125 Alamo Ranch Pkwy</td>\n",
       "      <td>San Antonio</td>\n",
       "      <td>1</td>\n",
       "      <td>TX</td>\n",
       "      <td>78253</td>\n",
       "    </tr>\n",
       "  </tbody>\n",
       "</table>\n",
       "</div>"
      ],
      "text/plain": [
       "   item  sale_amount                      sale_date  sale_id  \\\n",
       "0     1         13.0  Tue, 01 Jan 2013 00:00:00 GMT        1   \n",
       "1     1         11.0  Wed, 02 Jan 2013 00:00:00 GMT        2   \n",
       "\n",
       "            store_address   store_city  store_id store_state store_zipcode  \n",
       "0  12125 Alamo Ranch Pkwy  San Antonio         1          TX         78253  \n",
       "1  12125 Alamo Ranch Pkwy  San Antonio         1          TX         78253  "
      ]
     },
     "execution_count": 22,
     "metadata": {},
     "output_type": "execute_result"
    }
   ],
   "source": [
    "df = pd.merge(sales_df, stores_df, left_on='store', right_on='store_id').drop(columns={'store'})\n",
    "df.head(2)"
   ]
  },
  {
   "cell_type": "code",
   "execution_count": 23,
   "metadata": {},
   "outputs": [
    {
     "data": {
      "text/html": [
       "<div>\n",
       "<style scoped>\n",
       "    .dataframe tbody tr th:only-of-type {\n",
       "        vertical-align: middle;\n",
       "    }\n",
       "\n",
       "    .dataframe tbody tr th {\n",
       "        vertical-align: top;\n",
       "    }\n",
       "\n",
       "    .dataframe thead th {\n",
       "        text-align: right;\n",
       "    }\n",
       "</style>\n",
       "<table border=\"1\" class=\"dataframe\">\n",
       "  <thead>\n",
       "    <tr style=\"text-align: right;\">\n",
       "      <th></th>\n",
       "      <th>sale_amount</th>\n",
       "      <th>sale_date</th>\n",
       "      <th>sale_id</th>\n",
       "      <th>store_address</th>\n",
       "      <th>store_city</th>\n",
       "      <th>store_id</th>\n",
       "      <th>store_state</th>\n",
       "      <th>store_zipcode</th>\n",
       "      <th>item_brand</th>\n",
       "      <th>item_id</th>\n",
       "      <th>item_name</th>\n",
       "      <th>item_price</th>\n",
       "      <th>item_upc12</th>\n",
       "      <th>item_upc14</th>\n",
       "    </tr>\n",
       "  </thead>\n",
       "  <tbody>\n",
       "    <tr>\n",
       "      <th>0</th>\n",
       "      <td>13.0</td>\n",
       "      <td>Tue, 01 Jan 2013 00:00:00 GMT</td>\n",
       "      <td>1</td>\n",
       "      <td>12125 Alamo Ranch Pkwy</td>\n",
       "      <td>San Antonio</td>\n",
       "      <td>1</td>\n",
       "      <td>TX</td>\n",
       "      <td>78253</td>\n",
       "      <td>Riceland</td>\n",
       "      <td>1</td>\n",
       "      <td>Riceland American Jazmine Rice</td>\n",
       "      <td>0.84</td>\n",
       "      <td>35200264013</td>\n",
       "      <td>35200264013</td>\n",
       "    </tr>\n",
       "    <tr>\n",
       "      <th>1</th>\n",
       "      <td>11.0</td>\n",
       "      <td>Wed, 02 Jan 2013 00:00:00 GMT</td>\n",
       "      <td>2</td>\n",
       "      <td>12125 Alamo Ranch Pkwy</td>\n",
       "      <td>San Antonio</td>\n",
       "      <td>1</td>\n",
       "      <td>TX</td>\n",
       "      <td>78253</td>\n",
       "      <td>Riceland</td>\n",
       "      <td>1</td>\n",
       "      <td>Riceland American Jazmine Rice</td>\n",
       "      <td>0.84</td>\n",
       "      <td>35200264013</td>\n",
       "      <td>35200264013</td>\n",
       "    </tr>\n",
       "  </tbody>\n",
       "</table>\n",
       "</div>"
      ],
      "text/plain": [
       "   sale_amount                      sale_date  sale_id  \\\n",
       "0         13.0  Tue, 01 Jan 2013 00:00:00 GMT        1   \n",
       "1         11.0  Wed, 02 Jan 2013 00:00:00 GMT        2   \n",
       "\n",
       "            store_address   store_city  store_id store_state store_zipcode  \\\n",
       "0  12125 Alamo Ranch Pkwy  San Antonio         1          TX         78253   \n",
       "1  12125 Alamo Ranch Pkwy  San Antonio         1          TX         78253   \n",
       "\n",
       "  item_brand  item_id                       item_name  item_price  \\\n",
       "0   Riceland        1  Riceland American Jazmine Rice        0.84   \n",
       "1   Riceland        1  Riceland American Jazmine Rice        0.84   \n",
       "\n",
       "    item_upc12   item_upc14  \n",
       "0  35200264013  35200264013  \n",
       "1  35200264013  35200264013  "
      ]
     },
     "execution_count": 23,
     "metadata": {},
     "output_type": "execute_result"
    }
   ],
   "source": [
    "df = pd.merge(df, items_df, left_on='item', right_on='item_id').drop(columns={'item'})\n",
    "df.head(2)"
   ]
  },
  {
   "cell_type": "code",
   "execution_count": 24,
   "metadata": {},
   "outputs": [
    {
     "data": {
      "text/plain": [
       "(913000, 14)"
      ]
     },
     "execution_count": 24,
     "metadata": {},
     "output_type": "execute_result"
    }
   ],
   "source": [
    "df.shape"
   ]
  },
  {
   "cell_type": "markdown",
   "metadata": {},
   "source": [
    "### Function to combine all three DataFrames using our helper function above.\n",
    "\n",
    "5. Combine the data from your three separate dataframes into one large dataframe."
   ]
  },
  {
   "cell_type": "code",
   "execution_count": 34,
   "metadata": {},
   "outputs": [],
   "source": [
    "# Create a function that checks for a csv, and if one doesn't exist it creates one\n",
    "# The function should also create one large df using all three df\n",
    "\n",
    "def get_store_data():\n",
    "    \"\"\"\n",
    "    This function checks for csv files\n",
    "    for items, sales, and stores, and \n",
    "    if there are none, it creates them and \n",
    "    merges them into one df that it writes\n",
    "    to csv and reads in the future\n",
    "    \"\"\"\n",
    "    # check for csv files or create them\n",
    "    if os.path.isfile('items.csv'):\n",
    "        items_df = pd.read_csv('items.csv', index_col=0)\n",
    "    else:\n",
    "        items_df = get_df('items')\n",
    "        \n",
    "    if os.path.isfile('stores.csv'):\n",
    "        stores_df = pd.read_csv('stores.csv', index_col=0)\n",
    "    else:\n",
    "        stores_df = get_df('stores')\n",
    "        \n",
    "    if os.path.isfile('sales.csv'):\n",
    "        sales_df = pd.read_csv('sales.csv', index_col=0)\n",
    "    else:\n",
    "        sales_df = get_df('sales')\n",
    "        \n",
    "    if os.path.isfile('big_df.csv'):\n",
    "        df = pd.read_csv('big_df.csv', parse_dates=True, index_col='sale_date')\n",
    "        return df\n",
    "    else:\n",
    "        # merge all of the DataFrames into one\n",
    "        df = pd.merge(sales_df, stores_df, left_on='store', right_on='store_id').drop(columns={'store'})\n",
    "        df = pd.merge(df, items_df, left_on='item', right_on='item_id').drop(columns={'item'})\n",
    "\n",
    "        # convert sale_date to DateTime Index\n",
    "        df['sale_date'] = pd.to_datetime(df.sale_date)\n",
    "        df = df.set_index('sale_date').sort_index()\n",
    "\n",
    "        # write merged DateTime df with all data to directory for future use\n",
    "        df.to_csv('big_df.csv')\n",
    "        return df"
   ]
  },
  {
   "cell_type": "code",
   "execution_count": 35,
   "metadata": {},
   "outputs": [
    {
     "data": {
      "text/html": [
       "<div>\n",
       "<style scoped>\n",
       "    .dataframe tbody tr th:only-of-type {\n",
       "        vertical-align: middle;\n",
       "    }\n",
       "\n",
       "    .dataframe tbody tr th {\n",
       "        vertical-align: top;\n",
       "    }\n",
       "\n",
       "    .dataframe thead th {\n",
       "        text-align: right;\n",
       "    }\n",
       "</style>\n",
       "<table border=\"1\" class=\"dataframe\">\n",
       "  <thead>\n",
       "    <tr style=\"text-align: right;\">\n",
       "      <th></th>\n",
       "      <th>sale_amount</th>\n",
       "      <th>sale_id</th>\n",
       "      <th>store_address</th>\n",
       "      <th>store_city</th>\n",
       "      <th>store_id</th>\n",
       "      <th>store_state</th>\n",
       "      <th>store_zipcode</th>\n",
       "      <th>item_brand</th>\n",
       "      <th>item_id</th>\n",
       "      <th>item_name</th>\n",
       "      <th>item_price</th>\n",
       "      <th>item_upc12</th>\n",
       "      <th>item_upc14</th>\n",
       "    </tr>\n",
       "    <tr>\n",
       "      <th>sale_date</th>\n",
       "      <th></th>\n",
       "      <th></th>\n",
       "      <th></th>\n",
       "      <th></th>\n",
       "      <th></th>\n",
       "      <th></th>\n",
       "      <th></th>\n",
       "      <th></th>\n",
       "      <th></th>\n",
       "      <th></th>\n",
       "      <th></th>\n",
       "      <th></th>\n",
       "      <th></th>\n",
       "    </tr>\n",
       "  </thead>\n",
       "  <tbody>\n",
       "    <tr>\n",
       "      <th>2013-01-01 00:00:00+00:00</th>\n",
       "      <td>13.0</td>\n",
       "      <td>1</td>\n",
       "      <td>12125 Alamo Ranch Pkwy</td>\n",
       "      <td>San Antonio</td>\n",
       "      <td>1</td>\n",
       "      <td>TX</td>\n",
       "      <td>78253</td>\n",
       "      <td>Riceland</td>\n",
       "      <td>1</td>\n",
       "      <td>Riceland American Jazmine Rice</td>\n",
       "      <td>0.84</td>\n",
       "      <td>35200264013</td>\n",
       "      <td>35200264013</td>\n",
       "    </tr>\n",
       "    <tr>\n",
       "      <th>2013-01-01 00:00:00+00:00</th>\n",
       "      <td>26.0</td>\n",
       "      <td>211817</td>\n",
       "      <td>12018 Perrin Beitel Rd</td>\n",
       "      <td>San Antonio</td>\n",
       "      <td>7</td>\n",
       "      <td>TX</td>\n",
       "      <td>78217</td>\n",
       "      <td>Mueller</td>\n",
       "      <td>12</td>\n",
       "      <td>Mueller Sport Care Basic Support Level Medium ...</td>\n",
       "      <td>8.40</td>\n",
       "      <td>74676640211</td>\n",
       "      <td>74676640211</td>\n",
       "    </tr>\n",
       "  </tbody>\n",
       "</table>\n",
       "</div>"
      ],
      "text/plain": [
       "                           sale_amount  sale_id           store_address  \\\n",
       "sale_date                                                                 \n",
       "2013-01-01 00:00:00+00:00         13.0        1  12125 Alamo Ranch Pkwy   \n",
       "2013-01-01 00:00:00+00:00         26.0   211817  12018 Perrin Beitel Rd   \n",
       "\n",
       "                            store_city  store_id store_state  store_zipcode  \\\n",
       "sale_date                                                                     \n",
       "2013-01-01 00:00:00+00:00  San Antonio         1          TX          78253   \n",
       "2013-01-01 00:00:00+00:00  San Antonio         7          TX          78217   \n",
       "\n",
       "                          item_brand  item_id  \\\n",
       "sale_date                                       \n",
       "2013-01-01 00:00:00+00:00   Riceland        1   \n",
       "2013-01-01 00:00:00+00:00    Mueller       12   \n",
       "\n",
       "                                                                   item_name  \\\n",
       "sale_date                                                                      \n",
       "2013-01-01 00:00:00+00:00                     Riceland American Jazmine Rice   \n",
       "2013-01-01 00:00:00+00:00  Mueller Sport Care Basic Support Level Medium ...   \n",
       "\n",
       "                           item_price   item_upc12   item_upc14  \n",
       "sale_date                                                        \n",
       "2013-01-01 00:00:00+00:00        0.84  35200264013  35200264013  \n",
       "2013-01-01 00:00:00+00:00        8.40  74676640211  74676640211  "
      ]
     },
     "execution_count": 35,
     "metadata": {},
     "output_type": "execute_result"
    }
   ],
   "source": [
    "df = get_store_data()\n",
    "df.head(2)"
   ]
  },
  {
   "cell_type": "code",
   "execution_count": 36,
   "metadata": {},
   "outputs": [
    {
     "data": {
      "text/plain": [
       "(913000, 13)"
      ]
     },
     "execution_count": 36,
     "metadata": {},
     "output_type": "execute_result"
    }
   ],
   "source": [
    "df.shape"
   ]
  },
  {
   "cell_type": "code",
   "execution_count": 37,
   "metadata": {},
   "outputs": [
    {
     "name": "stdout",
     "output_type": "stream",
     "text": [
      "<class 'pandas.core.frame.DataFrame'>\n",
      "DatetimeIndex: 913000 entries, 2013-01-01 00:00:00+00:00 to 2017-12-31 00:00:00+00:00\n",
      "Data columns (total 13 columns):\n",
      " #   Column         Non-Null Count   Dtype  \n",
      "---  ------         --------------   -----  \n",
      " 0   sale_amount    913000 non-null  float64\n",
      " 1   sale_id        913000 non-null  int64  \n",
      " 2   store_address  913000 non-null  object \n",
      " 3   store_city     913000 non-null  object \n",
      " 4   store_id       913000 non-null  int64  \n",
      " 5   store_state    913000 non-null  object \n",
      " 6   store_zipcode  913000 non-null  int64  \n",
      " 7   item_brand     913000 non-null  object \n",
      " 8   item_id        913000 non-null  int64  \n",
      " 9   item_name      913000 non-null  object \n",
      " 10  item_price     913000 non-null  float64\n",
      " 11  item_upc12     913000 non-null  int64  \n",
      " 12  item_upc14     913000 non-null  int64  \n",
      "dtypes: float64(2), int64(6), object(5)\n",
      "memory usage: 97.5+ MB\n"
     ]
    }
   ],
   "source": [
    "df.info()"
   ]
  },
  {
   "cell_type": "markdown",
   "metadata": {},
   "source": [
    "## Use read_csv with url to get German Engergy Data\n",
    "\n",
    "6. Acquire the Open Power Systems Data for Germany, which has been rapidly expanding its renewable energy production in recent years. The data set includes country-wide totals of electricity consumption, wind power production, and solar power production for 2006-2017. You can get the data here: https://raw.githubusercontent.com/jenfly/opsd/master/opsd_germany_daily.csv"
   ]
  },
  {
   "cell_type": "code",
   "execution_count": 29,
   "metadata": {},
   "outputs": [
    {
     "data": {
      "text/html": [
       "<div>\n",
       "<style scoped>\n",
       "    .dataframe tbody tr th:only-of-type {\n",
       "        vertical-align: middle;\n",
       "    }\n",
       "\n",
       "    .dataframe tbody tr th {\n",
       "        vertical-align: top;\n",
       "    }\n",
       "\n",
       "    .dataframe thead th {\n",
       "        text-align: right;\n",
       "    }\n",
       "</style>\n",
       "<table border=\"1\" class=\"dataframe\">\n",
       "  <thead>\n",
       "    <tr style=\"text-align: right;\">\n",
       "      <th></th>\n",
       "      <th>Consumption</th>\n",
       "      <th>Wind</th>\n",
       "      <th>Solar</th>\n",
       "      <th>Wind+Solar</th>\n",
       "    </tr>\n",
       "    <tr>\n",
       "      <th>Date</th>\n",
       "      <th></th>\n",
       "      <th></th>\n",
       "      <th></th>\n",
       "      <th></th>\n",
       "    </tr>\n",
       "  </thead>\n",
       "  <tbody>\n",
       "    <tr>\n",
       "      <th>2006-01-01</th>\n",
       "      <td>1069.184</td>\n",
       "      <td>NaN</td>\n",
       "      <td>NaN</td>\n",
       "      <td>NaN</td>\n",
       "    </tr>\n",
       "    <tr>\n",
       "      <th>2006-01-02</th>\n",
       "      <td>1380.521</td>\n",
       "      <td>NaN</td>\n",
       "      <td>NaN</td>\n",
       "      <td>NaN</td>\n",
       "    </tr>\n",
       "    <tr>\n",
       "      <th>2006-01-03</th>\n",
       "      <td>1442.533</td>\n",
       "      <td>NaN</td>\n",
       "      <td>NaN</td>\n",
       "      <td>NaN</td>\n",
       "    </tr>\n",
       "    <tr>\n",
       "      <th>2006-01-04</th>\n",
       "      <td>1457.217</td>\n",
       "      <td>NaN</td>\n",
       "      <td>NaN</td>\n",
       "      <td>NaN</td>\n",
       "    </tr>\n",
       "    <tr>\n",
       "      <th>2006-01-05</th>\n",
       "      <td>1477.131</td>\n",
       "      <td>NaN</td>\n",
       "      <td>NaN</td>\n",
       "      <td>NaN</td>\n",
       "    </tr>\n",
       "  </tbody>\n",
       "</table>\n",
       "</div>"
      ],
      "text/plain": [
       "            Consumption  Wind  Solar  Wind+Solar\n",
       "Date                                            \n",
       "2006-01-01     1069.184   NaN    NaN         NaN\n",
       "2006-01-02     1380.521   NaN    NaN         NaN\n",
       "2006-01-03     1442.533   NaN    NaN         NaN\n",
       "2006-01-04     1457.217   NaN    NaN         NaN\n",
       "2006-01-05     1477.131   NaN    NaN         NaN"
      ]
     },
     "execution_count": 29,
     "metadata": {},
     "output_type": "execute_result"
    }
   ],
   "source": [
    "url = 'https://raw.githubusercontent.com/jenfly/opsd/master/opsd_germany_daily.csv'\n",
    "df = pd.read_csv(url, parse_dates=True, index_col='Date')\n",
    "df.head()"
   ]
  },
  {
   "cell_type": "code",
   "execution_count": 30,
   "metadata": {},
   "outputs": [
    {
     "name": "stdout",
     "output_type": "stream",
     "text": [
      "<class 'pandas.core.frame.DataFrame'>\n",
      "DatetimeIndex: 4383 entries, 2006-01-01 to 2017-12-31\n",
      "Data columns (total 4 columns):\n",
      " #   Column       Non-Null Count  Dtype  \n",
      "---  ------       --------------  -----  \n",
      " 0   Consumption  4383 non-null   float64\n",
      " 1   Wind         2920 non-null   float64\n",
      " 2   Solar        2188 non-null   float64\n",
      " 3   Wind+Solar   2187 non-null   float64\n",
      "dtypes: float64(4)\n",
      "memory usage: 171.2 KB\n"
     ]
    }
   ],
   "source": [
    "df.info()"
   ]
  },
  {
   "cell_type": "markdown",
   "metadata": {},
   "source": [
    "### Create a function that retrieves German Energy data and reads/writes csv\n",
    "\n",
    ">**`pd.read_csv()` accepts the arguments `parse_dates` and `index_col`. Pass in `parse_dates=True` or `parse_dates=[date_col]`, so that your date column is read in as a DateTime object and `index_col='date'`, so that your date column is set to the index. You can then use `.sort_index()` to make sure your DataFrame is in time order. A DataTime Index is great for exploration and visualization!**"
   ]
  },
  {
   "cell_type": "code",
   "execution_count": 31,
   "metadata": {},
   "outputs": [],
   "source": [
    "# Function that checks for a csv, and if it doesn't exist it reads url and creates one\n",
    "# Function returns the df with a DateTime Index by using parse_dates=True\n",
    "\n",
    "def german_energy_csv():\n",
    "    \"\"\"\n",
    "    This function returns a df with a datetime index\n",
    "    using the opsd_germany url/csv.\n",
    "    \"\"\"\n",
    "    if os.path.isfile('german_energy.csv'):\n",
    "        df = pd.read_csv('german_energy.csv', parse_dates=True, index_col='Date').sort_index()\n",
    "    else:\n",
    "        url = 'https://raw.githubusercontent.com/jenfly/opsd/master/opsd_germany_daily.csv'\n",
    "        df = pd.read_csv(url, parse_dates=True, index_col=\"Date\").sort_index()\n",
    "        df.to_csv('german_energy.csv')\n",
    "    return df"
   ]
  },
  {
   "cell_type": "code",
   "execution_count": 32,
   "metadata": {},
   "outputs": [
    {
     "data": {
      "text/html": [
       "<div>\n",
       "<style scoped>\n",
       "    .dataframe tbody tr th:only-of-type {\n",
       "        vertical-align: middle;\n",
       "    }\n",
       "\n",
       "    .dataframe tbody tr th {\n",
       "        vertical-align: top;\n",
       "    }\n",
       "\n",
       "    .dataframe thead th {\n",
       "        text-align: right;\n",
       "    }\n",
       "</style>\n",
       "<table border=\"1\" class=\"dataframe\">\n",
       "  <thead>\n",
       "    <tr style=\"text-align: right;\">\n",
       "      <th></th>\n",
       "      <th>Consumption</th>\n",
       "      <th>Wind</th>\n",
       "      <th>Solar</th>\n",
       "      <th>Wind+Solar</th>\n",
       "    </tr>\n",
       "    <tr>\n",
       "      <th>Date</th>\n",
       "      <th></th>\n",
       "      <th></th>\n",
       "      <th></th>\n",
       "      <th></th>\n",
       "    </tr>\n",
       "  </thead>\n",
       "  <tbody>\n",
       "    <tr>\n",
       "      <th>2006-01-01</th>\n",
       "      <td>1069.184</td>\n",
       "      <td>NaN</td>\n",
       "      <td>NaN</td>\n",
       "      <td>NaN</td>\n",
       "    </tr>\n",
       "    <tr>\n",
       "      <th>2006-01-02</th>\n",
       "      <td>1380.521</td>\n",
       "      <td>NaN</td>\n",
       "      <td>NaN</td>\n",
       "      <td>NaN</td>\n",
       "    </tr>\n",
       "  </tbody>\n",
       "</table>\n",
       "</div>"
      ],
      "text/plain": [
       "            Consumption  Wind  Solar  Wind+Solar\n",
       "Date                                            \n",
       "2006-01-01     1069.184   NaN    NaN         NaN\n",
       "2006-01-02     1380.521   NaN    NaN         NaN"
      ]
     },
     "execution_count": 32,
     "metadata": {},
     "output_type": "execute_result"
    }
   ],
   "source": [
    "gdf = german_energy_csv()\n",
    "gdf.head(2)"
   ]
  },
  {
   "cell_type": "code",
   "execution_count": 33,
   "metadata": {},
   "outputs": [
    {
     "name": "stdout",
     "output_type": "stream",
     "text": [
      "<class 'pandas.core.frame.DataFrame'>\n",
      "DatetimeIndex: 4383 entries, 2006-01-01 to 2017-12-31\n",
      "Data columns (total 4 columns):\n",
      " #   Column       Non-Null Count  Dtype  \n",
      "---  ------       --------------  -----  \n",
      " 0   Consumption  4383 non-null   float64\n",
      " 1   Wind         2920 non-null   float64\n",
      " 2   Solar        2188 non-null   float64\n",
      " 3   Wind+Solar   2187 non-null   float64\n",
      "dtypes: float64(4)\n",
      "memory usage: 171.2 KB\n"
     ]
    }
   ],
   "source": [
    "gdf.info()"
   ]
  }
 ],
 "metadata": {
  "kernelspec": {
   "display_name": "Python 3",
   "language": "python",
   "name": "python3"
  },
  "language_info": {
   "codemirror_mode": {
    "name": "ipython",
    "version": 3
   },
   "file_extension": ".py",
   "mimetype": "text/x-python",
   "name": "python",
   "nbconvert_exporter": "python",
   "pygments_lexer": "ipython3",
   "version": "3.7.4"
  },
  "toc": {
   "base_numbering": 1,
   "nav_menu": {},
   "number_sections": true,
   "sideBar": true,
   "skip_h1_title": true,
   "title_cell": "Table of Contents",
   "title_sidebar": "Contents",
   "toc_cell": true,
   "toc_position": {
    "height": "calc(100% - 180px)",
    "left": "10px",
    "top": "150px",
    "width": "201.594px"
   },
   "toc_section_display": true,
   "toc_window_display": true
  }
 },
 "nbformat": 4,
 "nbformat_minor": 4
}
