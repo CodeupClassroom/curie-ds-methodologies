{
 "cells": [
  {
   "cell_type": "code",
   "execution_count": 1,
   "metadata": {},
   "outputs": [],
   "source": [
    "import pandas as pd\n",
    "import requests"
   ]
  },
  {
   "cell_type": "markdown",
   "metadata": {},
   "source": [
    "# How the Internet Works (in broad terms)\n",
    "- Clients send **requests** to servers\n",
    "    - clients are browsers or applications or wearables\n",
    "- Servers determine what or if they should send back as a **response**\n",
    "- We need to have sent a **request** in order to get a **response**"
   ]
  },
  {
   "cell_type": "markdown",
   "metadata": {},
   "source": [
    "![request-reponse diagram](request-response-diagram.jpg)"
   ]
  },
  {
   "cell_type": "markdown",
   "metadata": {},
   "source": [
    "## Main Types of Requests:\n",
    "- GET is Download request\n",
    "- POST is Upload request (almost all form submissions)"
   ]
  },
  {
   "cell_type": "markdown",
   "metadata": {},
   "source": [
    "## Responses from Server\n",
    "- Servers send back responses with a status code.\n",
    "- For more info on status codes:\n",
    "    - https://httpstatusdogs.com/ or https://http.cat/"
   ]
  },
  {
   "cell_type": "code",
   "execution_count": 12,
   "metadata": {},
   "outputs": [],
   "source": [
    "url = \"https://ryanorsinger.glitch.me/\"\n",
    "response = requests.get(url)\n",
    "\n",
    "# .text gives us back the plain text of the response.\n",
    "# response.text"
   ]
  },
  {
   "cell_type": "markdown",
   "metadata": {},
   "source": [
    "### How We'll Use Requests Right Now\n",
    "- We'll be sending HTTP requests to a REST API that returns JSON\n",
    "- That means we're using the `requests.get` as a programmatic replacement for our browser, \n",
    "- REST is a convention (not an engineering standard, sadly) for mapping URL patterns to functions the server runs.\n",
    "- Imagine we're an imaginary API for a car buying site. Here's a diagram that shows which URLs call which functions and what they do.\n",
    "- \"endpoint\" is the part of the URL that goes after the base url like carmax.com or similar.\n",
    "- The \"method\" column here is a function that the web server would run to produce the appropriate response given the data from the request URL\n",
    "- This is REST, at a high level :)\n",
    "\n",
    "| What it does                    | Endpoint            | Request Type | Method |\n",
    "| ------------------------------- | ------------------- | ------------ | ------ |\n",
    "| Show an index of all cars     | /cars             | GET          |  show_all()      |\n",
    "| Show a random car             | /cars/random      | GET          |  random()      |\n",
    "| Show car w/ id 5              | /cars/5/show      | GET          |  show(id)      |\n",
    "| Load car 5 to edit            | /cars/5/edit      | GET          |  edit(id)      |\n",
    "| Search for Toyota MR2            | /cars/search?make=Toyota&model=mr2      | GET          |  search(term)      |"
   ]
  },
  {
   "cell_type": "markdown",
   "metadata": {},
   "source": [
    "## Handling Text Responses\n",
    "- If it's plain text you can handle and parse, go for it\n",
    "- If the string contains HTML,\n",
    "    - Save and render in a browser to see results\n",
    "    - Or parse with BeautifulSoup or similar library\n",
    "- Scraping is a function of getting HTML and then parsing the data you want from it. We'll do this a bunch in NLP."
   ]
  },
  {
   "cell_type": "code",
   "execution_count": 7,
   "metadata": {},
   "outputs": [],
   "source": [
    "response = requests.get(\"http://aphorisms.glitch.me/api/random\")"
   ]
  },
  {
   "cell_type": "code",
   "execution_count": 8,
   "metadata": {},
   "outputs": [
    {
     "data": {
      "text/plain": [
       "{'quote': 'The first rule of magic: Get off your ass!',\n",
       " 'author': 'Ryan Orsinger'}"
      ]
     },
     "execution_count": 8,
     "metadata": {},
     "output_type": "execute_result"
    }
   ],
   "source": [
    "# .json returns the parsed JSON from a response\n",
    "response.json()"
   ]
  },
  {
   "cell_type": "code",
   "execution_count": null,
   "metadata": {},
   "outputs": [],
   "source": []
  }
 ],
 "metadata": {
  "kernelspec": {
   "display_name": "Python 3",
   "language": "python",
   "name": "python3"
  },
  "language_info": {
   "codemirror_mode": {
    "name": "ipython",
    "version": 3
   },
   "file_extension": ".py",
   "mimetype": "text/x-python",
   "name": "python",
   "nbconvert_exporter": "python",
   "pygments_lexer": "ipython3",
   "version": "3.7.3"
  }
 },
 "nbformat": 4,
 "nbformat_minor": 4
}
