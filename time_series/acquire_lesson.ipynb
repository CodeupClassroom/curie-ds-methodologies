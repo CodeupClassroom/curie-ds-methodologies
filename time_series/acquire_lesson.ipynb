{
 "cells": [
  {
   "cell_type": "code",
   "execution_count": null,
   "metadata": {},
   "outputs": [],
   "source": [
    "import pandas as pd\n",
    "import requests"
   ]
  },
  {
   "cell_type": "markdown",
   "metadata": {},
   "source": [
    "# How the Internet Works (in broad terms)\n",
    "- Clients send **requests** to servers\n",
    "    - clients are browsers or applications or wearables\n",
    "- Servers determine what or if they should send back as a **response**\n",
    "- We need to have sent a **request** in order to get a **response**"
   ]
  },
  {
   "cell_type": "markdown",
   "metadata": {},
   "source": [
    "![request-reponse diagram](request-response-diagram.jpg)"
   ]
  },
  {
   "cell_type": "markdown",
   "metadata": {},
   "source": [
    "## Main Types of HTTP Requests:\n",
    "- GET is Download request\n",
    "    - GET Request can have key=>value pairs \n",
    "    - Those key=>value pairs go in the URL https://www.youtube.com/results?search_query=python\n",
    "- POST is Upload request (almost all form submissions, and definitely login and registration forms use POST)"
   ]
  },
  {
   "cell_type": "markdown",
   "metadata": {},
   "source": [
    "## Responses from Server\n",
    "- Servers send back responses with a status code.\n",
    "- For more info on status codes:\n",
    "    - https://httpstatusdogs.com/ or https://http.cat/"
   ]
  },
  {
   "cell_type": "code",
   "execution_count": null,
   "metadata": {},
   "outputs": [],
   "source": [
    "url = \"https://101exercises.com\"\n",
    "response = requests.get(url)\n",
    "\n",
    "# .text gives us back the plain text of the response.\n",
    "# response.text"
   ]
  },
  {
   "cell_type": "markdown",
   "metadata": {},
   "source": [
    "# Application-Program-Interface\n",
    "- Rest API that returns JSON == web service listening for HTTP requests to determine what function to run and return JSON\n",
    "- Light Switch is an API to the positive, negative, and ground wires behind the panel\n",
    "- The interface is a way of getting what you want from a program\n",
    "- On a dataframe, any function/property we call on `df` is part of the interface for that dataframe\n",
    "- The functions available on a module are that module's API\n",
    "- When you build your `wrangle.py` script and you've got 20 functions in it, but the only function you call from outide is `get_prepped_titanic_data()`, then that's your API\n",
    "- \"I used an API to get the data\" -- that means someone used a web service (REST API that returns JSON)"
   ]
  },
  {
   "cell_type": "markdown",
   "metadata": {},
   "source": [
    "### How We'll Use Requests Right Now\n",
    "- We'll be sending HTTP requests to a REST API that returns JSON\n",
    "- That means we're using the `requests.get` as a programmatic way to send GET requests instead of using the browser, \n",
    "- REST is a convention (not an engineering standard, sadly) for mapping URL patterns to functions the server runs.\n",
    "- Imagine we're an imaginary API for a car buying site. Here's a diagram that shows which URLs call which functions and what they do.\n",
    "- \"endpoint\" is the part of the URL that goes after the base url like carmax.com or similar.\n",
    "- The \"method\" column here is a function that the web server would run to produce the appropriate response given the data from the request URL\n",
    "- This is REST at a high level\n",
    "\n",
    "| What it does                    | Endpoint            | Request Type | Method |\n",
    "| ------------------------------- | ------------------- | ------------ | ------ |\n",
    "| Show an index of all cars     | /cars             | GET          |  show_all()      |\n",
    "| Show a random car             | /cars/random      | GET          |  random()      |\n",
    "| Show car w/ id 5              | /cars/5      | GET          |  show(id)      |\n",
    "| Load car 5 to edit            | /cars/5/edit      | GET          |  edit(id)      |\n",
    "| Search for Toyota MR2            | /cars/search?make=Toyota&model=mr2      | GET          |  search(term)      |"
   ]
  },
  {
   "cell_type": "markdown",
   "metadata": {},
   "source": [
    "## Handling Text Responses\n",
    "- If it's plain text you can handle and parse, go for it\n",
    "- If the string contains HTML,\n",
    "    - Save and render in a browser to see results\n",
    "    - Or parse with BeautifulSoup or similar library\n",
    "- Scraping is a function of getting HTML and then parsing the data you want from it. We'll do this a bunch in NLP."
   ]
  },
  {
   "cell_type": "code",
   "execution_count": null,
   "metadata": {},
   "outputs": [],
   "source": [
    "response = requests.get(\"http://aphorisms.glitch.me/api/random\")"
   ]
  },
  {
   "cell_type": "code",
   "execution_count": null,
   "metadata": {},
   "outputs": [],
   "source": [
    "# .json returns the parsed JSON from a response\n",
    "response.json()"
   ]
  },
  {
   "cell_type": "code",
   "execution_count": null,
   "metadata": {},
   "outputs": [],
   "source": [
    "response = requests.get(\"http://aphorisms.glitch.me/api/all\")\n",
    "quotes = pd.DataFrame(response.json())"
   ]
  },
  {
   "cell_type": "code",
   "execution_count": null,
   "metadata": {},
   "outputs": [],
   "source": [
    "quotes.head()"
   ]
  },
  {
   "cell_type": "code",
   "execution_count": null,
   "metadata": {},
   "outputs": [],
   "source": []
  },
  {
   "cell_type": "code",
   "execution_count": null,
   "metadata": {},
   "outputs": [],
   "source": [
    "response = requests.get(\"https://swapi.dev/api/starships/3/\")\n",
    "response.json()"
   ]
  },
  {
   "cell_type": "code",
   "execution_count": null,
   "metadata": {},
   "outputs": [],
   "source": [
    "url = response.json()[\"films\"][0]\n",
    "response = requests.get(url)\n",
    "response.json()"
   ]
  },
  {
   "cell_type": "code",
   "execution_count": null,
   "metadata": {},
   "outputs": [],
   "source": [
    "base_url = 'https://python.zach.lol'\n",
    "response = requests.get(base_url)\n",
    "response.json()"
   ]
  },
  {
   "cell_type": "code",
   "execution_count": null,
   "metadata": {},
   "outputs": [],
   "source": [
    "response = requests.get(base_url + \"/documentation\")\n",
    "print(response.json()[\"payload\"])"
   ]
  },
  {
   "cell_type": "code",
   "execution_count": null,
   "metadata": {},
   "outputs": [],
   "source": [
    "base_url =  \"https://python.zach.lol/api/v1\""
   ]
  },
  {
   "cell_type": "code",
   "execution_count": null,
   "metadata": {},
   "outputs": [],
   "source": [
    "response = requests.get(base_url + \"/stores\")\n",
    "response.json()"
   ]
  },
  {
   "cell_type": "code",
   "execution_count": null,
   "metadata": {},
   "outputs": [],
   "source": [
    "\n",
    "response = requests.get('https://python.zach.lol/api/v1/items')\n",
    "\n",
    "data = response.json()\n",
    "data"
   ]
  },
  {
   "cell_type": "code",
   "execution_count": null,
   "metadata": {},
   "outputs": [],
   "source": [
    "# This variable is just a dictionary, we can get the keys with .keys\n",
    "data.keys()"
   ]
  },
  {
   "cell_type": "code",
   "execution_count": null,
   "metadata": {},
   "outputs": [],
   "source": [
    "data[\"payload\"].keys()"
   ]
  },
  {
   "cell_type": "code",
   "execution_count": null,
   "metadata": {},
   "outputs": [],
   "source": [
    "first_page_of_items = data[\"payload\"][\"items\"]"
   ]
  },
  {
   "cell_type": "code",
   "execution_count": null,
   "metadata": {},
   "outputs": [],
   "source": [
    "url_for_second_page = data[\"payload\"][\"next_page\"]\n",
    "response = requests.get(\"https://python.zach.lol\" + url_for_second_page)\n",
    "second_page_of_items = data[\"payload\"][\"items\"]"
   ]
  },
  {
   "cell_type": "code",
   "execution_count": null,
   "metadata": {},
   "outputs": [],
   "source": [
    "url_for_third_page = data[\"payload\"][\"next_page\"]\n",
    "response = requests.get(\"https://python.zach.lol\" + url_for_third_page)\n",
    "third_page_of_items = data[\"payload\"][\"items\"]\n",
    "third_page_of_items"
   ]
  },
  {
   "cell_type": "code",
   "execution_count": null,
   "metadata": {},
   "outputs": [],
   "source": [
    "items = []\n",
    "items = first_page_of_items + second_page_of_items + third_page_of_items\n",
    "items = pd.DataFrame(items)"
   ]
  },
  {
   "cell_type": "code",
   "execution_count": null,
   "metadata": {},
   "outputs": [],
   "source": [
    "items.head(5)"
   ]
  },
  {
   "cell_type": "code",
   "execution_count": null,
   "metadata": {},
   "outputs": [],
   "source": []
  },
  {
   "cell_type": "code",
   "execution_count": null,
   "metadata": {},
   "outputs": [],
   "source": [
    "response = requests.get(\"https://python.zach.lol/api/v1/sales\")\n",
    "response.json()"
   ]
  },
  {
   "cell_type": "code",
   "execution_count": null,
   "metadata": {},
   "outputs": [],
   "source": []
  }
 ],
 "metadata": {
  "kernelspec": {
   "display_name": "Python 3",
   "language": "python",
   "name": "python3"
  },
  "language_info": {
   "codemirror_mode": {
    "name": "ipython",
    "version": 3
   },
   "file_extension": ".py",
   "mimetype": "text/x-python",
   "name": "python",
   "nbconvert_exporter": "python",
   "pygments_lexer": "ipython3",
   "version": "3.7.3"
  }
 },
 "nbformat": 4,
 "nbformat_minor": 4
}
