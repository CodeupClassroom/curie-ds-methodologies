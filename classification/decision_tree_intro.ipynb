{
 "cells": [
  {
   "cell_type": "markdown",
   "metadata": {},
   "source": [
    "# Decision Tree Lesson"
   ]
  },
  {
   "cell_type": "markdown",
   "metadata": {},
   "source": [
    "## What are Decision Trees?\n",
    "\n",
    "- Classification is a supervised machine learning process. That means we train on labeled data.\n",
    "- We use the training data to train the tree to find a `decision boundary` to use as a `decision rule` for future data\n",
    "- Decision trees are like playing \"20 Questions\" with your features used to predict the target. Each question is a \"Yes\" or a \"No\"\n",
    "- That number of questions is the depth of your tree.\n",
    "- Given enough depth, decision trees are overfitting machines.\n",
    "- For much more detail, see https://scikit-learn.org/stable/modules/tree.html\n",
    "\n",
    "### Pros:\n",
    "- Simple to explain and makes a good chart!\n",
    "- Interpretable and simple to understand\n",
    "- Easy to visualize\n",
    "- Requires little data prep vs. other algorithms (trees can work with strings!)\n",
    "- Pretty flexible. We can use a Decision Tree for a classifier or a regressor\n",
    "\n",
    "### Cons\n",
    "- Prone to overfitting\n",
    "- Can become unstable due to tiny variations in the data\n",
    "\n",
    "### How to handle overfitting:\n",
    "- Obtain more training data (this is always the first answer)\n",
    "- Feature engineering \n",
    "- Simplest approach is to set your `max_depth` argument to a lower integer)\n",
    "- Other hyperparameter tuning\n",
    "- Use a validate split to ensure we're not overfitting hyperparameters on train\n",
    "- Tree pruning\n",
    "    - Pre-modeling - setting max depth before training your model (or training your model then cranking down the max_depth)\n",
    "    - (if you have time) Post pruning - go for totally overfit, then then prune that overfit tree. \n",
    "\n",
    "### Visualizing a Decision Tree:\n",
    "- Each decision from a yes/no question draws a horizontal or veritcal line on a feature axis\n",
    "<img src=\"https://github.com/ryanorsinger/machine-learning-classification-workshop/blob/master/decision_tree_diagram.png?raw=true\" width=500>"
   ]
  },
  {
   "cell_type": "code",
   "execution_count": null,
   "metadata": {},
   "outputs": [],
   "source": []
  },
  {
   "cell_type": "markdown",
   "metadata": {},
   "source": []
  }
 ],
 "metadata": {
  "kernelspec": {
   "display_name": "Python 3",
   "language": "python",
   "name": "python3"
  },
  "language_info": {
   "codemirror_mode": {
    "name": "ipython",
    "version": 3
   },
   "file_extension": ".py",
   "mimetype": "text/x-python",
   "name": "python",
   "nbconvert_exporter": "python",
   "pygments_lexer": "ipython3",
   "version": "3.7.3"
  }
 },
 "nbformat": 4,
 "nbformat_minor": 4
}
