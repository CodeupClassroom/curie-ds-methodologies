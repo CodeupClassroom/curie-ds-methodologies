{
 "cells": [
  {
   "cell_type": "markdown",
   "metadata": {},
   "source": [
    "# I have clusters...what now?\n",
    "\n",
    "## Cluster for exploration\n",
    "> I cluster multiple variables in order to be able to explore and understand my data better. As an example:\n",
    "> 1. cluster by bedrooms, bathrooms and square feet to understand the different groups of combinations.\n",
    "> 2. plot 2 dimensions, such at logerror and lot size, and color by cluster id to see multiple dimensions in a single plot and understand the interaction of all these variables on your target, logerror in this case, a bit better. \n",
    "> 3. use the clusters to run an anova to see if there is a significant difference in the log error among these groups. "
   ]
  },
  {
   "cell_type": "markdown",
   "metadata": {},
   "source": [
    "## Cluster for labels\n",
    "> I want to classify H-E-B customers by what they shop for. But I don't know what the distinct groups are yet. \n",
    "> 1. cluster based on something like average number of items per store department per visit. \n",
    "> 2. review clusters through exploration to create useful labels. \n",
    "> 3. use classification ML methods and a sample of the original data used to cluster to create a model for \"predicting\" those classes. \n",
    "> 4. after selecting the best model on train, test your model on the out-of-sample data that was already clustered (therefore it has labels) and evaluate. \n",
    "> 5. run the model on all data to add labels to all existing data. \n",
    "> 6. take some random samples to manually verify and do a little exploration to verify the new labels are doing what you expect. "
   ]
  },
  {
   "cell_type": "markdown",
   "metadata": {},
   "source": [
    "## Cluster for features\n",
    "\n",
    "> Use clusters to create new, more descriptive features. Could also reduce number of dimensions. \n",
    "> 1. cluster by latitude, longitude and age to get \"area clusters\"\n",
    "> 2. cluster by home and lot size to get \"size clusters\"\n",
    "> 3. get descriptive stats of the value per sqft\n",
    "> 4. somehow use a stat or 2 as a feature (or to create a feature). Standard deviation & median of the dollar per square foot for the cluster of the observation. "
   ]
  },
  {
   "cell_type": "markdown",
   "metadata": {},
   "source": [
    "## Acquire\n",
    "SQL Query from zillow db\n",
    "```sql\n",
    "select \n",
    "\tprop.parcelid\n",
    "\t, pred.logerror\n",
    "\t, pred.transactiondate\n",
    "\t, bathroomcnt\n",
    "\t, bedroomcnt\n",
    "\t, calculatedfinishedsquarefeet\n",
    "\t, fips\n",
    "\t, latitude\n",
    "\t, longitude\n",
    "\t, lotsizesquarefeet\n",
    "\t, regionidcity\n",
    "\t, regionidcounty\n",
    "\t, regionidneighborhood\n",
    "\t, regionidzip\n",
    "\t, yearbuilt\n",
    "\t, structuretaxvaluedollarcnt\n",
    "\t, taxvaluedollarcnt\n",
    "\t, landtaxvaluedollarcnt\n",
    "\t, taxamount\n",
    "from properties_2017 prop\n",
    "inner join predictions_2017 pred on prop.parcelid = pred.parcelid\n",
    "where propertylandusetypeid = 261;\n",
    "```"
   ]
  },
  {
   "cell_type": "code",
   "execution_count": 1,
   "metadata": {},
   "outputs": [],
   "source": [
    "import numpy as np\n",
    "import pandas as pd\n",
    "import matplotlib.pyplot as plt\n",
    "import seaborn as sns\n",
    "from sklearn.cluster import KMeans\n",
    "from sklearn.preprocessing import MinMaxScaler\n",
    "from sklearn.model_selection import train_test_split\n",
    "\n",
    "# from env import get_url\n",
    "df = pd.read_csv('../../../zillow/single_family.csv')"
   ]
  },
  {
   "cell_type": "markdown",
   "metadata": {},
   "source": [
    "## Prepare\n",
    "\n",
    "### Nulls\n",
    "To keep this quick and simple, I will drop all nulls, either via rows or columns, dependent on the number missing for each variable. "
   ]
  },
  {
   "cell_type": "code",
   "execution_count": 2,
   "metadata": {},
   "outputs": [
    {
     "data": {
      "text/plain": [
       "parcelid                         0.00\n",
       "logerror                         0.00\n",
       "transactiondate                  0.00\n",
       "bathroomcnt                      0.00\n",
       "bedroomcnt                       0.00\n",
       "calculatedfinishedsquarefeet     0.16\n",
       "fips                             0.00\n",
       "latitude                         0.00\n",
       "longitude                        0.00\n",
       "lotsizesquarefeet                0.70\n",
       "regionidcity                     1.98\n",
       "regionidcounty                   0.00\n",
       "regionidneighborhood            63.71\n",
       "regionidzip                      0.05\n",
       "yearbuilt                        0.22\n",
       "structuretaxvaluedollarcnt       0.16\n",
       "taxvaluedollarcnt                0.00\n",
       "landtaxvaluedollarcnt            0.00\n",
       "taxamount                        0.01\n",
       "dtype: float64"
      ]
     },
     "execution_count": 2,
     "metadata": {},
     "output_type": "execute_result"
    }
   ],
   "source": [
    "round(df.isna().sum()/len(df)*100,2)"
   ]
  },
  {
   "cell_type": "markdown",
   "metadata": {},
   "source": [
    "**Tasks**\n",
    "\n",
    "1. Remove regionidneighborhood...33k missing values. \n",
    "2. Then delete all rows with any other missing values\n",
    "3. Drop transactiondate, it can't be used in the model (it's \"seeing into the future\")"
   ]
  },
  {
   "cell_type": "code",
   "execution_count": 3,
   "metadata": {},
   "outputs": [],
   "source": [
    "# drop regionidneighborhood and transactiondate\n",
    "df = df.drop(columns=['regionidneighborhood', 'transactiondate'])\n",
    "\n",
    "# drop all remaining rows with null values\n",
    "df = df.dropna()\n",
    "\n",
    "# df.info()"
   ]
  },
  {
   "cell_type": "markdown",
   "metadata": {},
   "source": [
    "**Tasks**\n",
    "\n",
    "1. Replace fips/county with the county name and create dummy vars for county, or split into 3 different dataframes. \n",
    "2. Create feature of age, which is 2017 - year built.\n",
    "3. Compute tax rate and create a feature out of that so that we don't use clearly dependent variables: taxamount and the taxvaluedollarcnt fields (total, land & structure). We can then remove taxamount and taxvaluedollarcnt, and will keeps taxrate, structuretaxvaluedollarcnt, and landtaxvalue. \n",
    "\n",
    "**Later**\n",
    "\n",
    "- Create new features out of bathroom, bedroom and square feet to separate the information contained in each of those.\n",
    "\n",
    "### Features\n",
    "\n",
    "**FIPS and County**"
   ]
  },
  {
   "cell_type": "code",
   "execution_count": 4,
   "metadata": {},
   "outputs": [
    {
     "data": {
      "text/html": [
       "<div>\n",
       "<style scoped>\n",
       "    .dataframe tbody tr th:only-of-type {\n",
       "        vertical-align: middle;\n",
       "    }\n",
       "\n",
       "    .dataframe tbody tr th {\n",
       "        vertical-align: top;\n",
       "    }\n",
       "\n",
       "    .dataframe thead th {\n",
       "        text-align: right;\n",
       "    }\n",
       "</style>\n",
       "<table border=\"1\" class=\"dataframe\">\n",
       "  <thead>\n",
       "    <tr style=\"text-align: right;\">\n",
       "      <th>regionidcounty</th>\n",
       "      <th>1286</th>\n",
       "      <th>2061</th>\n",
       "      <th>3101</th>\n",
       "    </tr>\n",
       "    <tr>\n",
       "      <th>fips</th>\n",
       "      <th></th>\n",
       "      <th></th>\n",
       "      <th></th>\n",
       "    </tr>\n",
       "  </thead>\n",
       "  <tbody>\n",
       "    <tr>\n",
       "      <th>6037</th>\n",
       "      <td>0</td>\n",
       "      <td>0</td>\n",
       "      <td>32855</td>\n",
       "    </tr>\n",
       "    <tr>\n",
       "      <th>6059</th>\n",
       "      <td>13708</td>\n",
       "      <td>0</td>\n",
       "      <td>0</td>\n",
       "    </tr>\n",
       "    <tr>\n",
       "      <th>6111</th>\n",
       "      <td>0</td>\n",
       "      <td>4350</td>\n",
       "      <td>0</td>\n",
       "    </tr>\n",
       "  </tbody>\n",
       "</table>\n",
       "</div>"
      ],
      "text/plain": [
       "regionidcounty   1286  2061   3101\n",
       "fips                              \n",
       "6037                0     0  32855\n",
       "6059            13708     0      0\n",
       "6111                0  4350      0"
      ]
     },
     "execution_count": 4,
     "metadata": {},
     "output_type": "execute_result"
    }
   ],
   "source": [
    "pd.crosstab(df.fips, df.regionidcounty)"
   ]
  },
  {
   "cell_type": "markdown",
   "metadata": {},
   "source": [
    "FIPS:  \n",
    "\n",
    "- 6037: Los Angeles County\n",
    "- 6059: Orange County\n",
    "- 6111: Ventura County\n",
    "\n",
    "https://www.nrcs.usda.gov/wps/portal/nrcs/detail/?cid=nrcs143_013697"
   ]
  },
  {
   "cell_type": "code",
   "execution_count": 5,
   "metadata": {},
   "outputs": [
    {
     "data": {
      "text/html": [
       "<div>\n",
       "<style scoped>\n",
       "    .dataframe tbody tr th:only-of-type {\n",
       "        vertical-align: middle;\n",
       "    }\n",
       "\n",
       "    .dataframe tbody tr th {\n",
       "        vertical-align: top;\n",
       "    }\n",
       "\n",
       "    .dataframe thead th {\n",
       "        text-align: right;\n",
       "    }\n",
       "</style>\n",
       "<table border=\"1\" class=\"dataframe\">\n",
       "  <thead>\n",
       "    <tr style=\"text-align: right;\">\n",
       "      <th></th>\n",
       "      <th>6037</th>\n",
       "      <th>6059</th>\n",
       "      <th>6111</th>\n",
       "    </tr>\n",
       "  </thead>\n",
       "  <tbody>\n",
       "    <tr>\n",
       "      <th>14</th>\n",
       "      <td>0</td>\n",
       "      <td>0</td>\n",
       "      <td>1</td>\n",
       "    </tr>\n",
       "    <tr>\n",
       "      <th>15</th>\n",
       "      <td>0</td>\n",
       "      <td>0</td>\n",
       "      <td>1</td>\n",
       "    </tr>\n",
       "    <tr>\n",
       "      <th>16</th>\n",
       "      <td>0</td>\n",
       "      <td>0</td>\n",
       "      <td>1</td>\n",
       "    </tr>\n",
       "    <tr>\n",
       "      <th>17</th>\n",
       "      <td>0</td>\n",
       "      <td>0</td>\n",
       "      <td>1</td>\n",
       "    </tr>\n",
       "    <tr>\n",
       "      <th>18</th>\n",
       "      <td>0</td>\n",
       "      <td>0</td>\n",
       "      <td>1</td>\n",
       "    </tr>\n",
       "    <tr>\n",
       "      <th>...</th>\n",
       "      <td>...</td>\n",
       "      <td>...</td>\n",
       "      <td>...</td>\n",
       "    </tr>\n",
       "    <tr>\n",
       "      <th>52437</th>\n",
       "      <td>1</td>\n",
       "      <td>0</td>\n",
       "      <td>0</td>\n",
       "    </tr>\n",
       "    <tr>\n",
       "      <th>52438</th>\n",
       "      <td>1</td>\n",
       "      <td>0</td>\n",
       "      <td>0</td>\n",
       "    </tr>\n",
       "    <tr>\n",
       "      <th>52439</th>\n",
       "      <td>1</td>\n",
       "      <td>0</td>\n",
       "      <td>0</td>\n",
       "    </tr>\n",
       "    <tr>\n",
       "      <th>52440</th>\n",
       "      <td>1</td>\n",
       "      <td>0</td>\n",
       "      <td>0</td>\n",
       "    </tr>\n",
       "    <tr>\n",
       "      <th>52441</th>\n",
       "      <td>1</td>\n",
       "      <td>0</td>\n",
       "      <td>0</td>\n",
       "    </tr>\n",
       "  </tbody>\n",
       "</table>\n",
       "<p>50913 rows × 3 columns</p>\n",
       "</div>"
      ],
      "text/plain": [
       "       6037  6059  6111\n",
       "14        0     0     1\n",
       "15        0     0     1\n",
       "16        0     0     1\n",
       "17        0     0     1\n",
       "18        0     0     1\n",
       "...     ...   ...   ...\n",
       "52437     1     0     0\n",
       "52438     1     0     0\n",
       "52439     1     0     0\n",
       "52440     1     0     0\n",
       "52441     1     0     0\n",
       "\n",
       "[50913 rows x 3 columns]"
      ]
     },
     "execution_count": 5,
     "metadata": {},
     "output_type": "execute_result"
    }
   ],
   "source": [
    "# create dummy vars of fips id\n",
    "county_df = pd.get_dummies(df.fips)\n",
    "county_df"
   ]
  },
  {
   "cell_type": "code",
   "execution_count": 6,
   "metadata": {},
   "outputs": [],
   "source": [
    "# rename columns to be the name of the county instead of the fips code\n",
    "county_df.columns = ['LA', 'Orange', 'Ventura']"
   ]
  },
  {
   "cell_type": "code",
   "execution_count": 7,
   "metadata": {},
   "outputs": [
    {
     "name": "stdout",
     "output_type": "stream",
     "text": [
      "(50913, 3)\n",
      "(50913, 17)\n"
     ]
    }
   ],
   "source": [
    "print(county_df.shape)\n",
    "print(df.shape)"
   ]
  },
  {
   "cell_type": "code",
   "execution_count": 8,
   "metadata": {},
   "outputs": [],
   "source": [
    "# concatenate the dataframe with the 3 county columns to the original dataframe\n",
    "df = pd.concat([df, county_df], axis = 1)\n",
    "\n",
    "# drop regionidcounty and fips columns\n",
    "df = df.drop(columns = ['regionidcounty', 'fips'])"
   ]
  },
  {
   "cell_type": "markdown",
   "metadata": {},
   "source": [
    "**Zip**"
   ]
  },
  {
   "cell_type": "code",
   "execution_count": 9,
   "metadata": {},
   "outputs": [],
   "source": [
    "# df[df.LA == 1].regionidzip.value_counts()"
   ]
  },
  {
   "cell_type": "markdown",
   "metadata": {},
   "source": [
    "**Age**"
   ]
  },
  {
   "cell_type": "code",
   "execution_count": 10,
   "metadata": {},
   "outputs": [],
   "source": [
    "df['age'] = 2017 - df.yearbuilt"
   ]
  },
  {
   "cell_type": "markdown",
   "metadata": {},
   "source": [
    "**Tax**\n",
    "\n",
    "1. New feature: taxrate = taxamount / taxvaluedollarcnt \n",
    "2. Remove: taxamount, taxvaluedollarcnt\n",
    "3. Keep: taxrate, landtaxvaluedollarcnt, structuretaxvaluedollarcnt"
   ]
  },
  {
   "cell_type": "code",
   "execution_count": 11,
   "metadata": {},
   "outputs": [],
   "source": [
    "# create taxrate variable\n",
    "df['taxrate'] = df.taxamount/df.taxvaluedollarcnt\n",
    "\n",
    "df = df.drop(columns = ['taxamount', 'taxvaluedollarcnt', 'yearbuilt'])"
   ]
  },
  {
   "cell_type": "code",
   "execution_count": 12,
   "metadata": {},
   "outputs": [],
   "source": [
    "# bin taxes\n",
    "df['tax_bin'] = pd.cut(df.taxrate, bins = [0, .01, .011, .012, .013, .015, .02, .03, .05],\n",
    "                      labels = [0, .01, .011, .012, .013, .015, .02, .03]\n",
    "                     )"
   ]
  },
  {
   "cell_type": "code",
   "execution_count": 13,
   "metadata": {},
   "outputs": [
    {
     "data": {
      "text/plain": [
       "0.000      687\n",
       "0.010     5742\n",
       "0.011    10910\n",
       "0.012    16794\n",
       "0.013     8444\n",
       "0.015     6363\n",
       "0.020     1692\n",
       "0.030      199\n",
       "Name: tax_bin, dtype: int64"
      ]
     },
     "execution_count": 13,
     "metadata": {},
     "output_type": "execute_result"
    }
   ],
   "source": [
    "df.tax_bin.value_counts(sort = False)"
   ]
  },
  {
   "cell_type": "markdown",
   "metadata": {},
   "source": [
    "**Lot Size**\n",
    "\n",
    "1. convert to acres\n",
    "2. bin"
   ]
  },
  {
   "cell_type": "code",
   "execution_count": 14,
   "metadata": {},
   "outputs": [],
   "source": [
    "# create acres variable\n",
    "df['acres'] = df.lotsizesquarefeet/43560"
   ]
  },
  {
   "cell_type": "code",
   "execution_count": 15,
   "metadata": {},
   "outputs": [
    {
     "data": {
      "text/plain": [
       "0.00      5246\n",
       "0.10     17455\n",
       "0.15     20222\n",
       "0.25      5516\n",
       "0.50      1546\n",
       "1.00       815\n",
       "5.00        61\n",
       "10.00       34\n",
       "20.00       18\n",
       "Name: acres_bin, dtype: int64"
      ]
     },
     "execution_count": 15,
     "metadata": {},
     "output_type": "execute_result"
    }
   ],
   "source": [
    "# bin acres\n",
    "df['acres_bin'] = pd.cut(df.acres, bins = [0, .10, .15, .25, .5, 1, 5, 10, 20, 200], \n",
    "                       labels = [0, .1, .15, .25, .5, 1, 5, 10, 20])\n",
    "\n",
    "df.acres_bin.value_counts(sort=False)"
   ]
  },
  {
   "cell_type": "markdown",
   "metadata": {},
   "source": [
    "**Structure Size**"
   ]
  },
  {
   "cell_type": "code",
   "execution_count": 16,
   "metadata": {},
   "outputs": [
    {
     "data": {
      "text/plain": [
       "<matplotlib.axes._subplots.AxesSubplot at 0x10c893fd0>"
      ]
     },
     "execution_count": 16,
     "metadata": {},
     "output_type": "execute_result"
    },
    {
     "data": {
      "image/png": "[encoded data removed]",
      "text/plain": [
       "<Figure size 432x288 with 1 Axes>"
      ]
     },
     "metadata": {
      "needs_background": "light"
     },
     "output_type": "display_data"
    }
   ],
   "source": [
    "df['sqft_bin'] = pd.cut(df.calculatedfinishedsquarefeet, \n",
    "                        bins = [0, 800, 1000, 1250, 1500, 2000, 2500, 3000, 4000, 7000, 12000],\n",
    "                        labels = [0, 800, 1000, 1250, 1500, 2000, 2500, 3000, 4000, 7000]\n",
    "                       )\n",
    "\n",
    "df.sqft_bin.value_counts(sort = False).plot.bar()"
   ]
  },
  {
   "cell_type": "markdown",
   "metadata": {},
   "source": [
    "1. Remove extremes in bedrooms and baths, we will keeps homes with between 1 and 7 baths, between 0 and 7 bedrooms   \n",
    "2. There is an error in zip, so we will remove those whose zips are invalid numbers (> 99999).   \n",
    "3. remove square feet > 7000 for now\n",
    "4. remove lot size (acres) > 10 for now\n",
    "5. What is this tax rate of almost 50%?? Remove tax rate > 5% for now. "
   ]
  },
  {
   "cell_type": "code",
   "execution_count": 17,
   "metadata": {},
   "outputs": [],
   "source": [
    "# remove outliers in bed, bath, zip, & tax rate\n",
    "df = df[((df.bathroomcnt <= 7) & (df.bedroomcnt <= 7) & \n",
    "         (df.regionidzip < 100000) & \n",
    "         (df.bathroomcnt > 0) & \n",
    "         (df.bedroomcnt > 0) & \n",
    "         (df.acres < 10) &\n",
    "         (df.calculatedfinishedsquarefeet < 7000) & \n",
    "         (df.taxrate < .05)\n",
    "        )]"
   ]
  },
  {
   "cell_type": "markdown",
   "metadata": {},
   "source": [
    "**Dollar/square foot**"
   ]
  },
  {
   "cell_type": "code",
   "execution_count": 18,
   "metadata": {},
   "outputs": [],
   "source": [
    "df['structure_dollar_per_sqft'] = df.structuretaxvaluedollarcnt/df.calculatedfinishedsquarefeet\n",
    "df['land_dollar_per_sqft'] = df.landtaxvaluedollarcnt/df.lotsizesquarefeet"
   ]
  },
  {
   "cell_type": "code",
   "execution_count": 19,
   "metadata": {},
   "outputs": [],
   "source": [
    "df['structure_dollar_sqft_bin'] = pd.cut(df.structure_dollar_per_sqft, bins = [0, 25, 50, 75, 100, 150, 200, 500, 1500],\n",
    "                                         labels = [0, 25, 50, 75, 100, 150, 200, 500]\n",
    "                                        )"
   ]
  },
  {
   "cell_type": "code",
   "execution_count": 20,
   "metadata": {},
   "outputs": [],
   "source": [
    "df['lot_dollar_sqft_bin'] = pd.cut(df.land_dollar_per_sqft, bins = [0, 1, 5, 20, 50, 100, 500, 1900],\n",
    "                                   labels = [0, 1, 5, 20, 50, 100, 500]\n",
    "                                  )"
   ]
  },
  {
   "cell_type": "code",
   "execution_count": 21,
   "metadata": {},
   "outputs": [],
   "source": [
    "df['bed_bath_ratio'] = df.bedroomcnt/df.bathroomcnt"
   ]
  },
  {
   "cell_type": "code",
   "execution_count": 22,
   "metadata": {},
   "outputs": [],
   "source": [
    "df = df.astype({'tax_bin': 'float64', 'sqft_bin': 'float64', 'acres_bin': 'float64', \n",
    "                'structure_dollar_sqft_bin': 'float64', 'lot_dollar_sqft_bin': 'float64'})"
   ]
  },
  {
   "cell_type": "markdown",
   "metadata": {},
   "source": [
    "**Cities**\n",
    "\n",
    "I am thinking that LA is going to have the largest number of records as well as the widest range in values, so I want to add a boolean feature for city of LA. That will help the model for LA county. "
   ]
  },
  {
   "cell_type": "code",
   "execution_count": 23,
   "metadata": {},
   "outputs": [],
   "source": [
    "# df[df.LA==1].regionidcity.value_counts()\n",
    "# plt.hist(df[df.Orange==1].regionidcity.value_counts())\n",
    "# plt.hist(df[df.Ventura==1].regionidcity.value_counts())\n"
   ]
  },
  {
   "cell_type": "markdown",
   "metadata": {},
   "source": [
    "So, 12447 is the ID for LA county. I confirmed through sampling and plotting, as well as looking up a few addresses."
   ]
  },
  {
   "cell_type": "code",
   "execution_count": 24,
   "metadata": {},
   "outputs": [],
   "source": [
    "df['cola'] = df['regionidcity'].apply(lambda x: 1 if x == 12447.0 else 0)"
   ]
  },
  {
   "cell_type": "markdown",
   "metadata": {},
   "source": [
    "For now, I will focus on the most difficult and diverse county, LA county. I'll add the others in after I see what I can find. \n",
    "\n",
    "I'll create an X dataframe in the following way: \n",
    "\n",
    "- I'm not sure where I will use bins and where I will use actual values, so for now I think i'll go with bins for tax only.  \n",
    "\n",
    "- I'll go keep fields as is for: bedroomcnt, latitude, longitude, age, calculatedfinishedsquarefeet, acres, structure_dollar_per_sqft, land_dollar_per_sqft, bed_bath_ratio, cola.   \n",
    "\n",
    "- I will remove parcelid, bathroomcnt, regionidcity, regionidzip, sqft_bin, acres_bin, landtaxvaluedollarcnt, taxrate, acres, structure_dollar_sqft_bin, lot_dollar_sqft_bin, LA, Orange, Ventura\n",
    "\n",
    "I will create a dataframe with our `y` variable, `logerror`. "
   ]
  },
  {
   "cell_type": "code",
   "execution_count": 25,
   "metadata": {},
   "outputs": [],
   "source": [
    "X = df[df.LA == 1].drop(columns = ['parcelid', 'logerror', 'bathroomcnt', 'sqft_bin', \n",
    "                                   'lotsizesquarefeet', 'regionidcity', 'regionidzip', 'structuretaxvaluedollarcnt', \n",
    "                                   'landtaxvaluedollarcnt', 'taxrate', 'acres_bin', 'structure_dollar_sqft_bin', \n",
    "                                   'lot_dollar_sqft_bin', 'LA', 'Ventura', 'Orange']) \n",
    "y = df[df.LA == 1][['logerror']]"
   ]
  },
  {
   "cell_type": "code",
   "execution_count": 26,
   "metadata": {},
   "outputs": [
    {
     "name": "stdout",
     "output_type": "stream",
     "text": [
      "(32534, 11)\n",
      "(32534, 1)\n"
     ]
    }
   ],
   "source": [
    "print(X.shape)\n",
    "print(y.shape)"
   ]
  },
  {
   "cell_type": "code",
   "execution_count": 27,
   "metadata": {},
   "outputs": [],
   "source": [
    "# X.head()"
   ]
  },
  {
   "cell_type": "code",
   "execution_count": 28,
   "metadata": {},
   "outputs": [],
   "source": [
    "# y.head()"
   ]
  },
  {
   "cell_type": "markdown",
   "metadata": {},
   "source": [
    "## Split"
   ]
  },
  {
   "cell_type": "code",
   "execution_count": 29,
   "metadata": {},
   "outputs": [],
   "source": [
    "X_train, X_test, y_train, y_test = train_test_split(X, y, test_size = .30, random_state = 447)"
   ]
  },
  {
   "cell_type": "markdown",
   "metadata": {},
   "source": [
    "## Scale\n"
   ]
  },
  {
   "cell_type": "code",
   "execution_count": 30,
   "metadata": {},
   "outputs": [
    {
     "name": "stderr",
     "output_type": "stream",
     "text": [
      "/Users/maggiegiust/anaconda3/lib/python3.6/site-packages/sklearn/preprocessing/data.py:323: DataConversionWarning: Data with input dtype int64, float64 were all converted to float64 by MinMaxScaler.\n",
      "  return self.partial_fit(X, y)\n"
     ]
    },
    {
     "data": {
      "text/html": [
       "<div>\n",
       "<style scoped>\n",
       "    .dataframe tbody tr th:only-of-type {\n",
       "        vertical-align: middle;\n",
       "    }\n",
       "\n",
       "    .dataframe tbody tr th {\n",
       "        vertical-align: top;\n",
       "    }\n",
       "\n",
       "    .dataframe thead th {\n",
       "        text-align: right;\n",
       "    }\n",
       "</style>\n",
       "<table border=\"1\" class=\"dataframe\">\n",
       "  <thead>\n",
       "    <tr style=\"text-align: right;\">\n",
       "      <th></th>\n",
       "      <th>bedroomcnt</th>\n",
       "      <th>calculatedfinishedsquarefeet</th>\n",
       "      <th>latitude</th>\n",
       "      <th>longitude</th>\n",
       "      <th>age</th>\n",
       "      <th>tax_bin</th>\n",
       "      <th>acres</th>\n",
       "      <th>structure_dollar_per_sqft</th>\n",
       "      <th>land_dollar_per_sqft</th>\n",
       "      <th>bed_bath_ratio</th>\n",
       "      <th>cola</th>\n",
       "    </tr>\n",
       "  </thead>\n",
       "  <tbody>\n",
       "    <tr>\n",
       "      <th>31418</th>\n",
       "      <td>0.166667</td>\n",
       "      <td>0.186741</td>\n",
       "      <td>0.592407</td>\n",
       "      <td>0.541827</td>\n",
       "      <td>0.396947</td>\n",
       "      <td>0.400000</td>\n",
       "      <td>0.013457</td>\n",
       "      <td>0.039393</td>\n",
       "      <td>0.018985</td>\n",
       "      <td>0.142857</td>\n",
       "      <td>0.0</td>\n",
       "    </tr>\n",
       "    <tr>\n",
       "      <th>25233</th>\n",
       "      <td>0.333333</td>\n",
       "      <td>0.238548</td>\n",
       "      <td>0.339240</td>\n",
       "      <td>0.418606</td>\n",
       "      <td>0.435115</td>\n",
       "      <td>0.366667</td>\n",
       "      <td>0.013926</td>\n",
       "      <td>0.065176</td>\n",
       "      <td>0.060540</td>\n",
       "      <td>0.250000</td>\n",
       "      <td>0.0</td>\n",
       "    </tr>\n",
       "    <tr>\n",
       "      <th>24713</th>\n",
       "      <td>0.166667</td>\n",
       "      <td>0.198449</td>\n",
       "      <td>0.258553</td>\n",
       "      <td>0.467107</td>\n",
       "      <td>0.480916</td>\n",
       "      <td>0.433333</td>\n",
       "      <td>0.014594</td>\n",
       "      <td>0.058534</td>\n",
       "      <td>0.041985</td>\n",
       "      <td>0.142857</td>\n",
       "      <td>1.0</td>\n",
       "    </tr>\n",
       "    <tr>\n",
       "      <th>39840</th>\n",
       "      <td>0.333333</td>\n",
       "      <td>0.167569</td>\n",
       "      <td>0.395438</td>\n",
       "      <td>0.399014</td>\n",
       "      <td>0.496183</td>\n",
       "      <td>0.400000</td>\n",
       "      <td>0.013855</td>\n",
       "      <td>0.015691</td>\n",
       "      <td>0.004823</td>\n",
       "      <td>0.250000</td>\n",
       "      <td>0.0</td>\n",
       "    </tr>\n",
       "    <tr>\n",
       "      <th>22172</th>\n",
       "      <td>0.500000</td>\n",
       "      <td>0.239426</td>\n",
       "      <td>0.436532</td>\n",
       "      <td>0.857093</td>\n",
       "      <td>0.396947</td>\n",
       "      <td>0.500000</td>\n",
       "      <td>0.019935</td>\n",
       "      <td>0.033432</td>\n",
       "      <td>0.001621</td>\n",
       "      <td>0.357143</td>\n",
       "      <td>0.0</td>\n",
       "    </tr>\n",
       "  </tbody>\n",
       "</table>\n",
       "</div>"
      ],
      "text/plain": [
       "       bedroomcnt  calculatedfinishedsquarefeet  latitude  longitude  \\\n",
       "31418    0.166667                      0.186741  0.592407   0.541827   \n",
       "25233    0.333333                      0.238548  0.339240   0.418606   \n",
       "24713    0.166667                      0.198449  0.258553   0.467107   \n",
       "39840    0.333333                      0.167569  0.395438   0.399014   \n",
       "22172    0.500000                      0.239426  0.436532   0.857093   \n",
       "\n",
       "            age   tax_bin     acres  structure_dollar_per_sqft  \\\n",
       "31418  0.396947  0.400000  0.013457                   0.039393   \n",
       "25233  0.435115  0.366667  0.013926                   0.065176   \n",
       "24713  0.480916  0.433333  0.014594                   0.058534   \n",
       "39840  0.496183  0.400000  0.013855                   0.015691   \n",
       "22172  0.396947  0.500000  0.019935                   0.033432   \n",
       "\n",
       "       land_dollar_per_sqft  bed_bath_ratio  cola  \n",
       "31418              0.018985        0.142857   0.0  \n",
       "25233              0.060540        0.250000   0.0  \n",
       "24713              0.041985        0.142857   1.0  \n",
       "39840              0.004823        0.250000   0.0  \n",
       "22172              0.001621        0.357143   0.0  "
      ]
     },
     "execution_count": 30,
     "metadata": {},
     "output_type": "execute_result"
    }
   ],
   "source": [
    "scaler = MinMaxScaler(copy=True, feature_range=(0,1)).fit(X_train)\n",
    "\n",
    "train_scaled = pd.DataFrame(scaler.transform(X_train), columns=X_train.columns.values).set_index([X_train.index.values])\n",
    "\n",
    "test_scaled = pd.DataFrame(scaler.transform(X_test), columns=X_test.columns.values).set_index([X_test.index.values])\n",
    "\n",
    "train_scaled.head()"
   ]
  },
  {
   "cell_type": "markdown",
   "metadata": {},
   "source": [
    "As I think about where it's difficult to predict housing prices, I think about areas where price and condition of homes vary drastically. This is generally in areas with older homes. So, how can we increase the information we have about those areas so that estimating the condition, and therefore the price, can be more accurate? There are so many ways to go about this, and who knows what will work best until we start trying them out. One idea I had was figure out a way to identify neighborhoods that are similar. Neighborhoods, in terms of the data available through the field `regionidneighborhood`, have many problems. The primary challenge is that so much of the data is missing. Secondly, there are many areas without defined neighborhoods. And the final point I'll mention (though there are more), is that there are so many neighborhoods that I wouldn't have to computing power to model each neighborhood separately! There is a way to do this, I'm sure, but that is going to wait until an iteration much in the future, and when it's possible to find the missing neighborhoods. \n",
    "\n",
    "So, all of that said, I want to find a way to cluster properties at a higher level than neighborhood and zip code in some cases, and can span both geographic areas. \n",
    "\n",
    "What if we could predict the error using the variance or standard deviation of the property assessed values of similar neighborhoods? Large standard deviation leads to larger errors. \n",
    "If we cluster by latitude, longitude and age maybe we can get city segments that were developed closer in time to one another, at a level higher than zip code and neighborhood. And maybe it will help separate terrain a bit, like coast vs mountains. We can then get basic statistics of dollar/sqft and lot/sqft of those areas and use those statistics as features. So we will use the clusters to extract statistics that describe them, and use those stats as features. \n",
    "\n",
    "I could also try clustering sizes. Acres, square feet, and location, e.g."
   ]
  },
  {
   "cell_type": "code",
   "execution_count": 31,
   "metadata": {},
   "outputs": [],
   "source": [
    "# train_scaled.head()\n",
    "\n",
    "# X_train, train_scaled, X_test, test_scaled, y_train, y_test"
   ]
  },
  {
   "cell_type": "code",
   "execution_count": null,
   "metadata": {},
   "outputs": [],
   "source": [
    "cluster_vars = train_scaled[['latitude', 'longitude', 'age']]\n",
    "\n",
    "ks = range(2,20)\n",
    "sse = []\n",
    "for k in ks:\n",
    "    kmeans = KMeans(n_clusters=k)\n",
    "    kmeans.fit(cluster_vars)\n",
    "\n",
    "    # inertia: Sum of squared distances of samples to their closest cluster center.\n",
    "    sse.append(kmeans.inertia_)\n",
    "\n",
    "print(pd.DataFrame(dict(k=ks, sse=sse)))\n",
    "\n",
    "plt.plot(ks, sse, 'bx-')\n",
    "plt.xlabel('k')\n",
    "plt.ylabel('SSE')\n",
    "plt.title('The Elbow Method to find the optimal k')\n",
    "plt.show()"
   ]
  },
  {
   "cell_type": "markdown",
   "metadata": {},
   "source": [
    "I'm going to go with more clusters beyond the elbow because I want to try for little more refinement than 4 different groups. We will see what happens with the count of records in each of those. "
   ]
  },
  {
   "cell_type": "markdown",
   "metadata": {},
   "source": [
    "We have a function later that is going to do the following 3 steps:\n",
    "\n",
    "1. find the clusters\n",
    "2. create df with cluster_id per index\n",
    "3. count of observations per cluster id"
   ]
  },
  {
   "cell_type": "code",
   "execution_count": null,
   "metadata": {},
   "outputs": [],
   "source": [
    " # find clusters\n",
    "\n",
    "kmeans = KMeans(n_clusters=10, random_state = 447)\n",
    "train_cluster_array = kmeans.fit_predict(train_scaled[['longitude', 'latitude', 'age']])\n",
    "test_cluster_array = kmeans.predict(test_scaled[['longitude', 'latitude', 'age']])    \n",
    "\n",
    "train_cluster_array"
   ]
  },
  {
   "cell_type": "code",
   "execution_count": null,
   "metadata": {},
   "outputs": [],
   "source": [
    "# create df of cluster id with each observation\n",
    "\n",
    "train_clusters = pd.DataFrame(train_cluster_array, columns = ['area_cluster_id'], index = train_scaled.index)\n",
    "\n",
    "test_clusters = pd.DataFrame(test_cluster_array, columns = ['area_cluster_id'], index = test_scaled.index)\n",
    "\n",
    "train_clusters.head()"
   ]
  },
  {
   "cell_type": "code",
   "execution_count": null,
   "metadata": {},
   "outputs": [],
   "source": [
    "# output number of observations in each cluster\n",
    "cluster_counts = train_clusters['area_cluster_id'].value_counts()\n",
    "cluster_counts"
   ]
  },
  {
   "cell_type": "code",
   "execution_count": 32,
   "metadata": {},
   "outputs": [],
   "source": [
    "def get_clusters_and_counts(k, var_list, cluster_col_name):\n",
    "    \"\"\"\n",
    "    be sure your scaled X dataframes are named: train_scaled and test_scaled\n",
    "    takes in k, list of vars to cluster on, and the new cluster id column name\n",
    "    and returns the kmeans fitted object, dataframe of the train clusters with their observations, \n",
    "    test clusters and their observations, and a df of the number of observations per cluster on train. \n",
    "    \"\"\"\n",
    "    \n",
    "    # find clusters\n",
    "    kmeans = KMeans(n_clusters=k, random_state = 447)\n",
    "    train_cluster_array = kmeans.fit_predict(train_scaled[var_list])\n",
    "    test_cluster_array = kmeans.predict(test_scaled[var_list])\n",
    "    \n",
    "    # create df of cluster id with each observation\n",
    "    train_clusters = pd.DataFrame(train_cluster_array, columns = [cluster_col_name], index = train_scaled.index)\n",
    "    test_clusters = pd.DataFrame(test_cluster_array, columns = [cluster_col_name], index = test_scaled.index)\n",
    "    \n",
    "    # output number of observations in each cluster\n",
    "    cluster_counts = train_clusters[cluster_col_name].value_counts()\n",
    "    \n",
    "    return kmeans, train_clusters, test_clusters, cluster_counts"
   ]
  },
  {
   "cell_type": "code",
   "execution_count": 33,
   "metadata": {},
   "outputs": [],
   "source": [
    "def append_clusters_and_centroids(X_train, train_scaled, X_test, test_scaled, \n",
    "                                  cluster_col_name, centroid_col_names_list):\n",
    "\n",
    "    \"\"\"\n",
    "    be sure your dataframes are named: X_train, X_test, train_scaled, test_scaled (dataframes of X scaled)\n",
    "    takes in list of vars to cluster on, \n",
    "    and the new cluster id column name\n",
    "    and returns the kmeans fitted object, dataframe of the train clusters with their observations, \n",
    "    test clusters and their observations, and a df of the number of observations per cluster on train. \n",
    "    \"\"\"\n",
    "    \n",
    "    # join the cluster ID's with the X dataframes (the scaled and unscaled, train and test\n",
    "    \n",
    "    X_train = pd.concat([X_train, train_clusters], axis = 1)\n",
    "    train_scaled = pd.concat([train_scaled, train_clusters], axis = 1)\n",
    "\n",
    "    X_test = pd.concat([X_test, test_clusters], axis = 1)\n",
    "    test_scaled = pd.concat([test_scaled, test_clusters], axis = 1)\n",
    "      \n",
    "    # get the centroids for each distinct cluster...\n",
    "    centroids = pd.DataFrame(kmeans.cluster_centers_, columns=centroid_col_names_list).reset_index()\n",
    "    centroids.rename(columns = {'index': cluster_col_name}, inplace = True)\n",
    "    \n",
    "    # merge the centroids with the X dataframes (both the scaled and unscaled)\n",
    "    X_train = X_train.merge(centroids, how='left', on=cluster_col_name).set_index(X_train.index)\n",
    "    train_scaled = train_scaled.merge(centroids, how = 'left', on = cluster_col_name).set_index(train_scaled.index)\n",
    "    \n",
    "    X_test = X_test.merge(centroids, how = 'left', on = cluster_col_name).set_index(X_test.index)\n",
    "    test_scaled = test_scaled.merge(centroids, how = 'left', on = cluster_col_name).set_index(test_scaled.index)\n",
    "    \n",
    "    return X_train, train_scaled, X_test, test_scaled, centroids"
   ]
  },
  {
   "cell_type": "code",
   "execution_count": 34,
   "metadata": {},
   "outputs": [],
   "source": [
    "# set vars for functions\n",
    "cluster_vars = ['longitude', 'latitude', 'age']\n",
    "cluster_col_name = 'area_cluster_id'\n",
    "centroid_col_names = ['centroid_' + i for i in cluster_vars]\n",
    "\n",
    "# run kmeans, get clusters and counts per cluster\n",
    "kmeans, train_clusters, test_clusters, cluster_counts = get_clusters_and_counts(k = 10, \n",
    "                                                                                var_list = cluster_vars, \n",
    "                                                                                cluster_col_name = cluster_col_name)\n",
    "\n",
    "# print(cluster_counts)\n",
    "\n",
    "# append cluster id with centroid to our X dataframes (scaled and original, train and test)\n",
    "X_train, train_scaled, X_test, test_scaled, centroids = append_clusters_and_centroids(\n",
    "    X_train = X_train, train_scaled = train_scaled, \n",
    "    X_test = X_test, test_scaled = test_scaled, \n",
    "    cluster_col_name = cluster_col_name, centroid_col_names_list = centroid_col_names)"
   ]
  },
  {
   "cell_type": "markdown",
   "metadata": {},
   "source": [
    "Now, I'd like to cluster by size. Then I will group by the two different cluster types (area/age & size) and compute summary statistics. "
   ]
  },
  {
   "cell_type": "code",
   "execution_count": null,
   "metadata": {},
   "outputs": [],
   "source": [
    "cluster_vars = train_scaled[['calculatedfinishedsquarefeet', 'acres']]\n",
    "\n",
    "ks = range(2,20)\n",
    "sse = []\n",
    "for k in ks:\n",
    "    kmeans = KMeans(n_clusters=k)\n",
    "    kmeans.fit(cluster_vars)\n",
    "\n",
    "    # inertia: Sum of squared distances of samples to their closest cluster center.\n",
    "    sse.append(kmeans.inertia_)\n",
    "    \n",
    "print(pd.DataFrame(dict(k=ks, sse=sse)))\n",
    "\n",
    "plt.plot(ks, sse, 'bx-')\n",
    "plt.xlabel('k')\n",
    "plt.ylabel('SSE')\n",
    "plt.title('The Elbow Method to find the optimal k')\n",
    "plt.show()"
   ]
  },
  {
   "cell_type": "code",
   "execution_count": null,
   "metadata": {},
   "outputs": [],
   "source": [
    "# set vars\n",
    "cluster_vars = ['calculatedfinishedsquarefeet', 'acres']\n",
    "cluster_col_name = 'size_cluster_id'\n",
    "\n",
    "# run kmeans, get clusters and counts per cluster\n",
    "for k in range(3,9):\n",
    "    kmeans = KMeans(n_clusters=k, random_state = 447)\n",
    "    train_cluster_array = kmeans.fit_predict(train_scaled[cluster_vars])\n",
    "    \n",
    "    # create df of cluster id with each observation\n",
    "    train_clusters = pd.DataFrame(train_cluster_array, columns = [cluster_col_name], index = train_scaled.index)\n",
    "    \n",
    "    # output number of observations in each cluster\n",
    "    cluster_counts = train_clusters[cluster_col_name].value_counts()\n",
    "    \n",
    "    print(cluster_counts)"
   ]
  },
  {
   "cell_type": "code",
   "execution_count": 35,
   "metadata": {},
   "outputs": [],
   "source": [
    "# set vars for functions\n",
    "cluster_vars = ['calculatedfinishedsquarefeet', 'acres']\n",
    "cluster_col_name = 'size_cluster_id'\n",
    "centroid_col_names = ['centroid_' + i for i in cluster_vars]\n",
    "\n",
    "# run kmeans, get clusters and counts per cluster\n",
    "kmeans, train_clusters, test_clusters, cluster_counts = get_clusters_and_counts(k = 5, \n",
    "                                                                                var_list = cluster_vars, \n",
    "                                                                                cluster_col_name = cluster_col_name)\n",
    "\n",
    "# append cluster id with centroid to our X dataframes (scaled and original, train and test)\n",
    "X_train, train_scaled, X_test, test_scaled, size_centroids = append_clusters_and_centroids(\n",
    "    X_train = X_train, X_test = X_test, train_scaled = train_scaled, test_scaled = test_scaled,\n",
    "    cluster_col_name = cluster_col_name, centroid_col_names_list = centroid_col_names)"
   ]
  },
  {
   "cell_type": "code",
   "execution_count": 36,
   "metadata": {},
   "outputs": [
    {
     "data": {
      "text/html": [
       "<div>\n",
       "<style scoped>\n",
       "    .dataframe tbody tr th:only-of-type {\n",
       "        vertical-align: middle;\n",
       "    }\n",
       "\n",
       "    .dataframe tbody tr th {\n",
       "        vertical-align: top;\n",
       "    }\n",
       "\n",
       "    .dataframe thead th {\n",
       "        text-align: right;\n",
       "    }\n",
       "</style>\n",
       "<table border=\"1\" class=\"dataframe\">\n",
       "  <thead>\n",
       "    <tr style=\"text-align: right;\">\n",
       "      <th></th>\n",
       "      <th>bedroomcnt</th>\n",
       "      <th>calculatedfinishedsquarefeet</th>\n",
       "      <th>latitude</th>\n",
       "      <th>longitude</th>\n",
       "      <th>age</th>\n",
       "      <th>tax_bin</th>\n",
       "      <th>acres</th>\n",
       "      <th>structure_dollar_per_sqft</th>\n",
       "      <th>land_dollar_per_sqft</th>\n",
       "      <th>bed_bath_ratio</th>\n",
       "      <th>cola</th>\n",
       "      <th>area_cluster_id</th>\n",
       "      <th>centroid_longitude</th>\n",
       "      <th>centroid_latitude</th>\n",
       "      <th>centroid_age</th>\n",
       "      <th>size_cluster_id</th>\n",
       "      <th>centroid_calculatedfinishedsquarefeet</th>\n",
       "      <th>centroid_acres</th>\n",
       "    </tr>\n",
       "  </thead>\n",
       "  <tbody>\n",
       "    <tr>\n",
       "      <th>31418</th>\n",
       "      <td>2</td>\n",
       "      <td>1428.0</td>\n",
       "      <td>34216379</td>\n",
       "      <td>-118221536</td>\n",
       "      <td>53.0</td>\n",
       "      <td>0.012</td>\n",
       "      <td>0.155051</td>\n",
       "      <td>57.044118</td>\n",
       "      <td>31.889399</td>\n",
       "      <td>1.0</td>\n",
       "      <td>0</td>\n",
       "      <td>4</td>\n",
       "      <td>0.424876</td>\n",
       "      <td>0.544239</td>\n",
       "      <td>0.530352</td>\n",
       "      <td>0</td>\n",
       "      <td>0.213420</td>\n",
       "      <td>0.017530</td>\n",
       "    </tr>\n",
       "    <tr>\n",
       "      <th>25233</th>\n",
       "      <td>3</td>\n",
       "      <td>1782.0</td>\n",
       "      <td>33842219</td>\n",
       "      <td>-118374196</td>\n",
       "      <td>58.0</td>\n",
       "      <td>0.011</td>\n",
       "      <td>0.159734</td>\n",
       "      <td>94.276094</td>\n",
       "      <td>101.609658</td>\n",
       "      <td>1.5</td>\n",
       "      <td>0</td>\n",
       "      <td>7</td>\n",
       "      <td>0.456173</td>\n",
       "      <td>0.354196</td>\n",
       "      <td>0.474303</td>\n",
       "      <td>0</td>\n",
       "      <td>0.213420</td>\n",
       "      <td>0.017530</td>\n",
       "    </tr>\n",
       "    <tr>\n",
       "      <th>24713</th>\n",
       "      <td>2</td>\n",
       "      <td>1508.0</td>\n",
       "      <td>33722971</td>\n",
       "      <td>-118314108</td>\n",
       "      <td>64.0</td>\n",
       "      <td>0.013</td>\n",
       "      <td>0.166391</td>\n",
       "      <td>84.685676</td>\n",
       "      <td>70.478201</td>\n",
       "      <td>1.0</td>\n",
       "      <td>1</td>\n",
       "      <td>7</td>\n",
       "      <td>0.456173</td>\n",
       "      <td>0.354196</td>\n",
       "      <td>0.474303</td>\n",
       "      <td>0</td>\n",
       "      <td>0.213420</td>\n",
       "      <td>0.017530</td>\n",
       "    </tr>\n",
       "    <tr>\n",
       "      <th>39840</th>\n",
       "      <td>3</td>\n",
       "      <td>1297.0</td>\n",
       "      <td>33925275</td>\n",
       "      <td>-118398469</td>\n",
       "      <td>66.0</td>\n",
       "      <td>0.012</td>\n",
       "      <td>0.159022</td>\n",
       "      <td>22.817271</td>\n",
       "      <td>8.128627</td>\n",
       "      <td>1.5</td>\n",
       "      <td>0</td>\n",
       "      <td>7</td>\n",
       "      <td>0.456173</td>\n",
       "      <td>0.354196</td>\n",
       "      <td>0.474303</td>\n",
       "      <td>3</td>\n",
       "      <td>0.133982</td>\n",
       "      <td>0.014076</td>\n",
       "    </tr>\n",
       "    <tr>\n",
       "      <th>22172</th>\n",
       "      <td>4</td>\n",
       "      <td>1788.0</td>\n",
       "      <td>33986008</td>\n",
       "      <td>-117830950</td>\n",
       "      <td>53.0</td>\n",
       "      <td>0.015</td>\n",
       "      <td>0.219651</td>\n",
       "      <td>48.435682</td>\n",
       "      <td>2.756062</td>\n",
       "      <td>2.0</td>\n",
       "      <td>0</td>\n",
       "      <td>6</td>\n",
       "      <td>0.827730</td>\n",
       "      <td>0.490073</td>\n",
       "      <td>0.394873</td>\n",
       "      <td>0</td>\n",
       "      <td>0.213420</td>\n",
       "      <td>0.017530</td>\n",
       "    </tr>\n",
       "  </tbody>\n",
       "</table>\n",
       "</div>"
      ],
      "text/plain": [
       "       bedroomcnt  calculatedfinishedsquarefeet  latitude  longitude   age  \\\n",
       "31418           2                        1428.0  34216379 -118221536  53.0   \n",
       "25233           3                        1782.0  33842219 -118374196  58.0   \n",
       "24713           2                        1508.0  33722971 -118314108  64.0   \n",
       "39840           3                        1297.0  33925275 -118398469  66.0   \n",
       "22172           4                        1788.0  33986008 -117830950  53.0   \n",
       "\n",
       "       tax_bin     acres  structure_dollar_per_sqft  land_dollar_per_sqft  \\\n",
       "31418    0.012  0.155051                  57.044118             31.889399   \n",
       "25233    0.011  0.159734                  94.276094            101.609658   \n",
       "24713    0.013  0.166391                  84.685676             70.478201   \n",
       "39840    0.012  0.159022                  22.817271              8.128627   \n",
       "22172    0.015  0.219651                  48.435682              2.756062   \n",
       "\n",
       "       bed_bath_ratio  cola  area_cluster_id  centroid_longitude  \\\n",
       "31418             1.0     0                4            0.424876   \n",
       "25233             1.5     0                7            0.456173   \n",
       "24713             1.0     1                7            0.456173   \n",
       "39840             1.5     0                7            0.456173   \n",
       "22172             2.0     0                6            0.827730   \n",
       "\n",
       "       centroid_latitude  centroid_age  size_cluster_id  \\\n",
       "31418           0.544239      0.530352                0   \n",
       "25233           0.354196      0.474303                0   \n",
       "24713           0.354196      0.474303                0   \n",
       "39840           0.354196      0.474303                3   \n",
       "22172           0.490073      0.394873                0   \n",
       "\n",
       "       centroid_calculatedfinishedsquarefeet  centroid_acres  \n",
       "31418                               0.213420        0.017530  \n",
       "25233                               0.213420        0.017530  \n",
       "24713                               0.213420        0.017530  \n",
       "39840                               0.133982        0.014076  \n",
       "22172                               0.213420        0.017530  "
      ]
     },
     "execution_count": 36,
     "metadata": {},
     "output_type": "execute_result"
    }
   ],
   "source": [
    "X_train.head()"
   ]
  },
  {
   "cell_type": "code",
   "execution_count": 37,
   "metadata": {},
   "outputs": [],
   "source": [
    "# plt.scatter(X_train.acres, X_train.calculatedfinishedsquarefeet, c = X_train.size_cluster_id)"
   ]
  },
  {
   "cell_type": "code",
   "execution_count": 38,
   "metadata": {},
   "outputs": [],
   "source": [
    "# plt.scatter(X_train.longitude, X_train.latitude, c = X_train.area_cluster_id)"
   ]
  },
  {
   "cell_type": "markdown",
   "metadata": {},
   "source": [
    "Use the 2 cluster types and compute some stats. These could be our features. "
   ]
  },
  {
   "cell_type": "code",
   "execution_count": 39,
   "metadata": {},
   "outputs": [],
   "source": [
    "# X_train.groupby(['area_cluster_id', 'size_cluster_id'])['structure_dollar_per_sqft'].describe()"
   ]
  },
  {
   "cell_type": "code",
   "execution_count": 40,
   "metadata": {},
   "outputs": [
    {
     "data": {
      "text/html": [
       "<div>\n",
       "<style scoped>\n",
       "    .dataframe tbody tr th:only-of-type {\n",
       "        vertical-align: middle;\n",
       "    }\n",
       "\n",
       "    .dataframe tbody tr th {\n",
       "        vertical-align: top;\n",
       "    }\n",
       "\n",
       "    .dataframe thead th {\n",
       "        text-align: right;\n",
       "    }\n",
       "</style>\n",
       "<table border=\"1\" class=\"dataframe\">\n",
       "  <thead>\n",
       "    <tr style=\"text-align: right;\">\n",
       "      <th></th>\n",
       "      <th>area_cluster_id</th>\n",
       "      <th>size_cluster_id</th>\n",
       "      <th>count</th>\n",
       "      <th>mean</th>\n",
       "      <th>std</th>\n",
       "      <th>min</th>\n",
       "      <th>25%</th>\n",
       "      <th>50%</th>\n",
       "      <th>75%</th>\n",
       "      <th>max</th>\n",
       "    </tr>\n",
       "  </thead>\n",
       "  <tbody>\n",
       "    <tr>\n",
       "      <th>0</th>\n",
       "      <td>0</td>\n",
       "      <td>0</td>\n",
       "      <td>884.0</td>\n",
       "      <td>79.671338</td>\n",
       "      <td>77.652727</td>\n",
       "      <td>3.900378</td>\n",
       "      <td>35.729544</td>\n",
       "      <td>66.907925</td>\n",
       "      <td>101.704008</td>\n",
       "      <td>1188.260300</td>\n",
       "    </tr>\n",
       "    <tr>\n",
       "      <th>1</th>\n",
       "      <td>0</td>\n",
       "      <td>1</td>\n",
       "      <td>44.0</td>\n",
       "      <td>139.183188</td>\n",
       "      <td>104.566314</td>\n",
       "      <td>8.898533</td>\n",
       "      <td>63.303912</td>\n",
       "      <td>113.342377</td>\n",
       "      <td>211.797310</td>\n",
       "      <td>451.919614</td>\n",
       "    </tr>\n",
       "    <tr>\n",
       "      <th>2</th>\n",
       "      <td>0</td>\n",
       "      <td>2</td>\n",
       "      <td>168.0</td>\n",
       "      <td>116.895546</td>\n",
       "      <td>76.442390</td>\n",
       "      <td>0.332569</td>\n",
       "      <td>55.887795</td>\n",
       "      <td>103.925501</td>\n",
       "      <td>157.944673</td>\n",
       "      <td>355.406141</td>\n",
       "    </tr>\n",
       "    <tr>\n",
       "      <th>3</th>\n",
       "      <td>0</td>\n",
       "      <td>3</td>\n",
       "      <td>1765.0</td>\n",
       "      <td>75.934121</td>\n",
       "      <td>64.124725</td>\n",
       "      <td>1.284497</td>\n",
       "      <td>35.745006</td>\n",
       "      <td>65.216458</td>\n",
       "      <td>100.717428</td>\n",
       "      <td>1083.118971</td>\n",
       "    </tr>\n",
       "    <tr>\n",
       "      <th>4</th>\n",
       "      <td>0</td>\n",
       "      <td>4</td>\n",
       "      <td>388.0</td>\n",
       "      <td>96.093102</td>\n",
       "      <td>76.831777</td>\n",
       "      <td>0.442845</td>\n",
       "      <td>45.414474</td>\n",
       "      <td>77.864939</td>\n",
       "      <td>125.943600</td>\n",
       "      <td>791.103896</td>\n",
       "    </tr>\n",
       "  </tbody>\n",
       "</table>\n",
       "</div>"
      ],
      "text/plain": [
       "   area_cluster_id  size_cluster_id   count        mean         std       min  \\\n",
       "0                0                0   884.0   79.671338   77.652727  3.900378   \n",
       "1                0                1    44.0  139.183188  104.566314  8.898533   \n",
       "2                0                2   168.0  116.895546   76.442390  0.332569   \n",
       "3                0                3  1765.0   75.934121   64.124725  1.284497   \n",
       "4                0                4   388.0   96.093102   76.831777  0.442845   \n",
       "\n",
       "         25%         50%         75%          max  \n",
       "0  35.729544   66.907925  101.704008  1188.260300  \n",
       "1  63.303912  113.342377  211.797310   451.919614  \n",
       "2  55.887795  103.925501  157.944673   355.406141  \n",
       "3  35.745006   65.216458  100.717428  1083.118971  \n",
       "4  45.414474   77.864939  125.943600   791.103896  "
      ]
     },
     "execution_count": 40,
     "metadata": {},
     "output_type": "execute_result"
    }
   ],
   "source": [
    "# get summary stats of the dollar per sqft to possibly use one/some of these as new variables\n",
    "cluster_stats = X_train.groupby(['area_cluster_id', 'size_cluster_id'])['structure_dollar_per_sqft'].describe().reset_index()\n",
    "scaled_cluster_stats = train_scaled.groupby(['area_cluster_id', 'size_cluster_id'])['structure_dollar_per_sqft'].describe().reset_index()\n",
    "\n",
    "cluster_stats.head()"
   ]
  },
  {
   "cell_type": "code",
   "execution_count": 41,
   "metadata": {},
   "outputs": [
    {
     "data": {
      "text/html": [
       "<div>\n",
       "<style scoped>\n",
       "    .dataframe tbody tr th:only-of-type {\n",
       "        vertical-align: middle;\n",
       "    }\n",
       "\n",
       "    .dataframe tbody tr th {\n",
       "        vertical-align: top;\n",
       "    }\n",
       "\n",
       "    .dataframe thead th {\n",
       "        text-align: right;\n",
       "    }\n",
       "</style>\n",
       "<table border=\"1\" class=\"dataframe\">\n",
       "  <thead>\n",
       "    <tr style=\"text-align: right;\">\n",
       "      <th></th>\n",
       "      <th>area_cluster_id</th>\n",
       "      <th>size_cluster_id</th>\n",
       "      <th>count</th>\n",
       "      <th>mean</th>\n",
       "      <th>std</th>\n",
       "      <th>min</th>\n",
       "      <th>25%</th>\n",
       "      <th>50%</th>\n",
       "      <th>75%</th>\n",
       "      <th>max</th>\n",
       "    </tr>\n",
       "  </thead>\n",
       "  <tbody>\n",
       "    <tr>\n",
       "      <th>0</th>\n",
       "      <td>0</td>\n",
       "      <td>0</td>\n",
       "      <td>884.0</td>\n",
       "      <td>0.055062</td>\n",
       "      <td>0.053774</td>\n",
       "      <td>0.002591</td>\n",
       "      <td>0.024633</td>\n",
       "      <td>0.046224</td>\n",
       "      <td>0.070319</td>\n",
       "      <td>0.822750</td>\n",
       "    </tr>\n",
       "    <tr>\n",
       "      <th>1</th>\n",
       "      <td>0</td>\n",
       "      <td>1</td>\n",
       "      <td>44.0</td>\n",
       "      <td>0.096273</td>\n",
       "      <td>0.072411</td>\n",
       "      <td>0.006053</td>\n",
       "      <td>0.043728</td>\n",
       "      <td>0.078379</td>\n",
       "      <td>0.146558</td>\n",
       "      <td>0.312840</td>\n",
       "    </tr>\n",
       "    <tr>\n",
       "      <th>2</th>\n",
       "      <td>0</td>\n",
       "      <td>2</td>\n",
       "      <td>168.0</td>\n",
       "      <td>0.080839</td>\n",
       "      <td>0.052936</td>\n",
       "      <td>0.000121</td>\n",
       "      <td>0.038592</td>\n",
       "      <td>0.071858</td>\n",
       "      <td>0.109266</td>\n",
       "      <td>0.246006</td>\n",
       "    </tr>\n",
       "    <tr>\n",
       "      <th>3</th>\n",
       "      <td>0</td>\n",
       "      <td>3</td>\n",
       "      <td>1765.0</td>\n",
       "      <td>0.052474</td>\n",
       "      <td>0.044406</td>\n",
       "      <td>0.000780</td>\n",
       "      <td>0.024643</td>\n",
       "      <td>0.045052</td>\n",
       "      <td>0.069636</td>\n",
       "      <td>0.749940</td>\n",
       "    </tr>\n",
       "    <tr>\n",
       "      <th>4</th>\n",
       "      <td>0</td>\n",
       "      <td>4</td>\n",
       "      <td>388.0</td>\n",
       "      <td>0.066434</td>\n",
       "      <td>0.053205</td>\n",
       "      <td>0.000197</td>\n",
       "      <td>0.031339</td>\n",
       "      <td>0.053811</td>\n",
       "      <td>0.087105</td>\n",
       "      <td>0.547722</td>\n",
       "    </tr>\n",
       "  </tbody>\n",
       "</table>\n",
       "</div>"
      ],
      "text/plain": [
       "   area_cluster_id  size_cluster_id   count      mean       std       min  \\\n",
       "0                0                0   884.0  0.055062  0.053774  0.002591   \n",
       "1                0                1    44.0  0.096273  0.072411  0.006053   \n",
       "2                0                2   168.0  0.080839  0.052936  0.000121   \n",
       "3                0                3  1765.0  0.052474  0.044406  0.000780   \n",
       "4                0                4   388.0  0.066434  0.053205  0.000197   \n",
       "\n",
       "        25%       50%       75%       max  \n",
       "0  0.024633  0.046224  0.070319  0.822750  \n",
       "1  0.043728  0.078379  0.146558  0.312840  \n",
       "2  0.038592  0.071858  0.109266  0.246006  \n",
       "3  0.024643  0.045052  0.069636  0.749940  \n",
       "4  0.031339  0.053811  0.087105  0.547722  "
      ]
     },
     "execution_count": 41,
     "metadata": {},
     "output_type": "execute_result"
    }
   ],
   "source": [
    "scaled_cluster_stats.head()"
   ]
  },
  {
   "cell_type": "markdown",
   "metadata": {},
   "source": [
    "Use the median and standard deviation for each of these as variables. "
   ]
  },
  {
   "cell_type": "code",
   "execution_count": 42,
   "metadata": {},
   "outputs": [],
   "source": [
    "cluster_stats = cluster_stats[['area_cluster_id', 'size_cluster_id', 'std', '50%']]\n",
    "scaled_cluster_stats = scaled_cluster_stats[['area_cluster_id', 'size_cluster_id', 'std', '50%']]"
   ]
  },
  {
   "cell_type": "markdown",
   "metadata": {},
   "source": [
    "Null values will occur when there is only 1 record for the clusters. Fill null values with the median. \n",
    "Add to dataframe (non-scaled and scaled)"
   ]
  },
  {
   "cell_type": "code",
   "execution_count": 43,
   "metadata": {},
   "outputs": [],
   "source": [
    "X_train = X_train.merge(cluster_stats, how='left', on=['area_cluster_id', 'size_cluster_id']).set_index(X_train.index)\n",
    "train_scaled = train_scaled.merge(scaled_cluster_stats, how='left', on=['area_cluster_id', 'size_cluster_id']).set_index(train_scaled.index)\n",
    "\n",
    "X_test = X_test.merge(cluster_stats, how='left', on=['area_cluster_id', 'size_cluster_id']).set_index(X_test.index)\n",
    "test_scaled = test_scaled.merge(scaled_cluster_stats, how='left', on=['area_cluster_id', 'size_cluster_id']).set_index(test_scaled.index)"
   ]
  },
  {
   "cell_type": "code",
   "execution_count": 44,
   "metadata": {},
   "outputs": [
    {
     "name": "stdout",
     "output_type": "stream",
     "text": [
      "(22773, 20)\n",
      "(9761, 20)\n",
      "(22773, 20)\n",
      "(9761, 20)\n"
     ]
    }
   ],
   "source": [
    "print(X_train.shape)\n",
    "print(X_test.shape)\n",
    "print(train_scaled.shape)\n",
    "print(test_scaled.shape)"
   ]
  },
  {
   "cell_type": "markdown",
   "metadata": {},
   "source": [
    "At this point, here is what I would do to solidify features and move on:\n",
    "\n",
    "1. I might try to use the difference of structure_dollar_per_sqft for the observation from the median as a feature  \n",
    "2. Keep the standard deviation as a feature. \n",
    "3. Remove latitude, longitude, area_cluster_id, size_cluster_id, centroid_*, \n",
    "4. Try to model with and without each of the following features: age, calculatedfinishedsquarefeet (they were used in the clustering, and maybe information needed has been captured). "
   ]
  },
  {
   "cell_type": "code",
   "execution_count": 45,
   "metadata": {},
   "outputs": [
    {
     "data": {
      "text/html": [
       "<div>\n",
       "<style scoped>\n",
       "    .dataframe tbody tr th:only-of-type {\n",
       "        vertical-align: middle;\n",
       "    }\n",
       "\n",
       "    .dataframe tbody tr th {\n",
       "        vertical-align: top;\n",
       "    }\n",
       "\n",
       "    .dataframe thead th {\n",
       "        text-align: right;\n",
       "    }\n",
       "</style>\n",
       "<table border=\"1\" class=\"dataframe\">\n",
       "  <thead>\n",
       "    <tr style=\"text-align: right;\">\n",
       "      <th></th>\n",
       "      <th>bedroomcnt</th>\n",
       "      <th>calculatedfinishedsquarefeet</th>\n",
       "      <th>latitude</th>\n",
       "      <th>longitude</th>\n",
       "      <th>age</th>\n",
       "      <th>tax_bin</th>\n",
       "      <th>acres</th>\n",
       "      <th>structure_dollar_per_sqft</th>\n",
       "      <th>land_dollar_per_sqft</th>\n",
       "      <th>bed_bath_ratio</th>\n",
       "      <th>cola</th>\n",
       "      <th>area_cluster_id</th>\n",
       "      <th>centroid_longitude</th>\n",
       "      <th>centroid_latitude</th>\n",
       "      <th>centroid_age</th>\n",
       "      <th>size_cluster_id</th>\n",
       "      <th>centroid_calculatedfinishedsquarefeet</th>\n",
       "      <th>centroid_acres</th>\n",
       "      <th>std</th>\n",
       "      <th>50%</th>\n",
       "    </tr>\n",
       "  </thead>\n",
       "  <tbody>\n",
       "    <tr>\n",
       "      <th>31418</th>\n",
       "      <td>2</td>\n",
       "      <td>1428.0</td>\n",
       "      <td>34216379</td>\n",
       "      <td>-118221536</td>\n",
       "      <td>53.0</td>\n",
       "      <td>0.012</td>\n",
       "      <td>0.155051</td>\n",
       "      <td>57.044118</td>\n",
       "      <td>31.889399</td>\n",
       "      <td>1.0</td>\n",
       "      <td>0</td>\n",
       "      <td>4</td>\n",
       "      <td>0.424876</td>\n",
       "      <td>0.544239</td>\n",
       "      <td>0.530352</td>\n",
       "      <td>0</td>\n",
       "      <td>0.213420</td>\n",
       "      <td>0.017530</td>\n",
       "      <td>61.131294</td>\n",
       "      <td>84.860733</td>\n",
       "    </tr>\n",
       "    <tr>\n",
       "      <th>25233</th>\n",
       "      <td>3</td>\n",
       "      <td>1782.0</td>\n",
       "      <td>33842219</td>\n",
       "      <td>-118374196</td>\n",
       "      <td>58.0</td>\n",
       "      <td>0.011</td>\n",
       "      <td>0.159734</td>\n",
       "      <td>94.276094</td>\n",
       "      <td>101.609658</td>\n",
       "      <td>1.5</td>\n",
       "      <td>0</td>\n",
       "      <td>7</td>\n",
       "      <td>0.456173</td>\n",
       "      <td>0.354196</td>\n",
       "      <td>0.474303</td>\n",
       "      <td>0</td>\n",
       "      <td>0.213420</td>\n",
       "      <td>0.017530</td>\n",
       "      <td>63.355885</td>\n",
       "      <td>66.806492</td>\n",
       "    </tr>\n",
       "    <tr>\n",
       "      <th>24713</th>\n",
       "      <td>2</td>\n",
       "      <td>1508.0</td>\n",
       "      <td>33722971</td>\n",
       "      <td>-118314108</td>\n",
       "      <td>64.0</td>\n",
       "      <td>0.013</td>\n",
       "      <td>0.166391</td>\n",
       "      <td>84.685676</td>\n",
       "      <td>70.478201</td>\n",
       "      <td>1.0</td>\n",
       "      <td>1</td>\n",
       "      <td>7</td>\n",
       "      <td>0.456173</td>\n",
       "      <td>0.354196</td>\n",
       "      <td>0.474303</td>\n",
       "      <td>0</td>\n",
       "      <td>0.213420</td>\n",
       "      <td>0.017530</td>\n",
       "      <td>63.355885</td>\n",
       "      <td>66.806492</td>\n",
       "    </tr>\n",
       "    <tr>\n",
       "      <th>39840</th>\n",
       "      <td>3</td>\n",
       "      <td>1297.0</td>\n",
       "      <td>33925275</td>\n",
       "      <td>-118398469</td>\n",
       "      <td>66.0</td>\n",
       "      <td>0.012</td>\n",
       "      <td>0.159022</td>\n",
       "      <td>22.817271</td>\n",
       "      <td>8.128627</td>\n",
       "      <td>1.5</td>\n",
       "      <td>0</td>\n",
       "      <td>7</td>\n",
       "      <td>0.456173</td>\n",
       "      <td>0.354196</td>\n",
       "      <td>0.474303</td>\n",
       "      <td>3</td>\n",
       "      <td>0.133982</td>\n",
       "      <td>0.014076</td>\n",
       "      <td>70.598115</td>\n",
       "      <td>69.463542</td>\n",
       "    </tr>\n",
       "    <tr>\n",
       "      <th>22172</th>\n",
       "      <td>4</td>\n",
       "      <td>1788.0</td>\n",
       "      <td>33986008</td>\n",
       "      <td>-117830950</td>\n",
       "      <td>53.0</td>\n",
       "      <td>0.015</td>\n",
       "      <td>0.219651</td>\n",
       "      <td>48.435682</td>\n",
       "      <td>2.756062</td>\n",
       "      <td>2.0</td>\n",
       "      <td>0</td>\n",
       "      <td>6</td>\n",
       "      <td>0.827730</td>\n",
       "      <td>0.490073</td>\n",
       "      <td>0.394873</td>\n",
       "      <td>0</td>\n",
       "      <td>0.213420</td>\n",
       "      <td>0.017530</td>\n",
       "      <td>32.534308</td>\n",
       "      <td>78.289303</td>\n",
       "    </tr>\n",
       "  </tbody>\n",
       "</table>\n",
       "</div>"
      ],
      "text/plain": [
       "       bedroomcnt  calculatedfinishedsquarefeet  latitude  longitude   age  \\\n",
       "31418           2                        1428.0  34216379 -118221536  53.0   \n",
       "25233           3                        1782.0  33842219 -118374196  58.0   \n",
       "24713           2                        1508.0  33722971 -118314108  64.0   \n",
       "39840           3                        1297.0  33925275 -118398469  66.0   \n",
       "22172           4                        1788.0  33986008 -117830950  53.0   \n",
       "\n",
       "       tax_bin     acres  structure_dollar_per_sqft  land_dollar_per_sqft  \\\n",
       "31418    0.012  0.155051                  57.044118             31.889399   \n",
       "25233    0.011  0.159734                  94.276094            101.609658   \n",
       "24713    0.013  0.166391                  84.685676             70.478201   \n",
       "39840    0.012  0.159022                  22.817271              8.128627   \n",
       "22172    0.015  0.219651                  48.435682              2.756062   \n",
       "\n",
       "       bed_bath_ratio  cola  area_cluster_id  centroid_longitude  \\\n",
       "31418             1.0     0                4            0.424876   \n",
       "25233             1.5     0                7            0.456173   \n",
       "24713             1.0     1                7            0.456173   \n",
       "39840             1.5     0                7            0.456173   \n",
       "22172             2.0     0                6            0.827730   \n",
       "\n",
       "       centroid_latitude  centroid_age  size_cluster_id  \\\n",
       "31418           0.544239      0.530352                0   \n",
       "25233           0.354196      0.474303                0   \n",
       "24713           0.354196      0.474303                0   \n",
       "39840           0.354196      0.474303                3   \n",
       "22172           0.490073      0.394873                0   \n",
       "\n",
       "       centroid_calculatedfinishedsquarefeet  centroid_acres        std  \\\n",
       "31418                               0.213420        0.017530  61.131294   \n",
       "25233                               0.213420        0.017530  63.355885   \n",
       "24713                               0.213420        0.017530  63.355885   \n",
       "39840                               0.133982        0.014076  70.598115   \n",
       "22172                               0.213420        0.017530  32.534308   \n",
       "\n",
       "             50%  \n",
       "31418  84.860733  \n",
       "25233  66.806492  \n",
       "24713  66.806492  \n",
       "39840  69.463542  \n",
       "22172  78.289303  "
      ]
     },
     "execution_count": 45,
     "metadata": {},
     "output_type": "execute_result"
    }
   ],
   "source": [
    "X_train.head()"
   ]
  },
  {
   "cell_type": "code",
   "execution_count": 47,
   "metadata": {},
   "outputs": [
    {
     "data": {
      "text/html": [
       "<div>\n",
       "<style scoped>\n",
       "    .dataframe tbody tr th:only-of-type {\n",
       "        vertical-align: middle;\n",
       "    }\n",
       "\n",
       "    .dataframe tbody tr th {\n",
       "        vertical-align: top;\n",
       "    }\n",
       "\n",
       "    .dataframe thead th {\n",
       "        text-align: right;\n",
       "    }\n",
       "</style>\n",
       "<table border=\"1\" class=\"dataframe\">\n",
       "  <thead>\n",
       "    <tr style=\"text-align: right;\">\n",
       "      <th></th>\n",
       "      <th>bedroomcnt</th>\n",
       "      <th>calculatedfinishedsquarefeet</th>\n",
       "      <th>latitude</th>\n",
       "      <th>longitude</th>\n",
       "      <th>age</th>\n",
       "      <th>tax_bin</th>\n",
       "      <th>acres</th>\n",
       "      <th>structure_dollar_per_sqft</th>\n",
       "      <th>land_dollar_per_sqft</th>\n",
       "      <th>bed_bath_ratio</th>\n",
       "      <th>cola</th>\n",
       "      <th>area_cluster_id</th>\n",
       "      <th>centroid_longitude</th>\n",
       "      <th>centroid_latitude</th>\n",
       "      <th>centroid_age</th>\n",
       "      <th>size_cluster_id</th>\n",
       "      <th>centroid_calculatedfinishedsquarefeet</th>\n",
       "      <th>centroid_acres</th>\n",
       "      <th>std</th>\n",
       "      <th>50%</th>\n",
       "    </tr>\n",
       "  </thead>\n",
       "  <tbody>\n",
       "    <tr>\n",
       "      <th>31418</th>\n",
       "      <td>0.166667</td>\n",
       "      <td>0.186741</td>\n",
       "      <td>0.592407</td>\n",
       "      <td>0.541827</td>\n",
       "      <td>0.396947</td>\n",
       "      <td>0.400000</td>\n",
       "      <td>0.013457</td>\n",
       "      <td>0.039393</td>\n",
       "      <td>0.018985</td>\n",
       "      <td>0.142857</td>\n",
       "      <td>0.0</td>\n",
       "      <td>4</td>\n",
       "      <td>0.424876</td>\n",
       "      <td>0.544239</td>\n",
       "      <td>0.530352</td>\n",
       "      <td>0</td>\n",
       "      <td>0.213420</td>\n",
       "      <td>0.017530</td>\n",
       "      <td>0.042333</td>\n",
       "      <td>0.058656</td>\n",
       "    </tr>\n",
       "    <tr>\n",
       "      <th>25233</th>\n",
       "      <td>0.333333</td>\n",
       "      <td>0.238548</td>\n",
       "      <td>0.339240</td>\n",
       "      <td>0.418606</td>\n",
       "      <td>0.435115</td>\n",
       "      <td>0.366667</td>\n",
       "      <td>0.013926</td>\n",
       "      <td>0.065176</td>\n",
       "      <td>0.060540</td>\n",
       "      <td>0.250000</td>\n",
       "      <td>0.0</td>\n",
       "      <td>7</td>\n",
       "      <td>0.456173</td>\n",
       "      <td>0.354196</td>\n",
       "      <td>0.474303</td>\n",
       "      <td>0</td>\n",
       "      <td>0.213420</td>\n",
       "      <td>0.017530</td>\n",
       "      <td>0.043873</td>\n",
       "      <td>0.046153</td>\n",
       "    </tr>\n",
       "    <tr>\n",
       "      <th>24713</th>\n",
       "      <td>0.166667</td>\n",
       "      <td>0.198449</td>\n",
       "      <td>0.258553</td>\n",
       "      <td>0.467107</td>\n",
       "      <td>0.480916</td>\n",
       "      <td>0.433333</td>\n",
       "      <td>0.014594</td>\n",
       "      <td>0.058534</td>\n",
       "      <td>0.041985</td>\n",
       "      <td>0.142857</td>\n",
       "      <td>1.0</td>\n",
       "      <td>7</td>\n",
       "      <td>0.456173</td>\n",
       "      <td>0.354196</td>\n",
       "      <td>0.474303</td>\n",
       "      <td>0</td>\n",
       "      <td>0.213420</td>\n",
       "      <td>0.017530</td>\n",
       "      <td>0.043873</td>\n",
       "      <td>0.046153</td>\n",
       "    </tr>\n",
       "    <tr>\n",
       "      <th>39840</th>\n",
       "      <td>0.333333</td>\n",
       "      <td>0.167569</td>\n",
       "      <td>0.395438</td>\n",
       "      <td>0.399014</td>\n",
       "      <td>0.496183</td>\n",
       "      <td>0.400000</td>\n",
       "      <td>0.013855</td>\n",
       "      <td>0.015691</td>\n",
       "      <td>0.004823</td>\n",
       "      <td>0.250000</td>\n",
       "      <td>0.0</td>\n",
       "      <td>7</td>\n",
       "      <td>0.456173</td>\n",
       "      <td>0.354196</td>\n",
       "      <td>0.474303</td>\n",
       "      <td>3</td>\n",
       "      <td>0.133982</td>\n",
       "      <td>0.014076</td>\n",
       "      <td>0.048889</td>\n",
       "      <td>0.047993</td>\n",
       "    </tr>\n",
       "    <tr>\n",
       "      <th>22172</th>\n",
       "      <td>0.500000</td>\n",
       "      <td>0.239426</td>\n",
       "      <td>0.436532</td>\n",
       "      <td>0.857093</td>\n",
       "      <td>0.396947</td>\n",
       "      <td>0.500000</td>\n",
       "      <td>0.019935</td>\n",
       "      <td>0.033432</td>\n",
       "      <td>0.001621</td>\n",
       "      <td>0.357143</td>\n",
       "      <td>0.0</td>\n",
       "      <td>6</td>\n",
       "      <td>0.827730</td>\n",
       "      <td>0.490073</td>\n",
       "      <td>0.394873</td>\n",
       "      <td>0</td>\n",
       "      <td>0.213420</td>\n",
       "      <td>0.017530</td>\n",
       "      <td>0.022530</td>\n",
       "      <td>0.054105</td>\n",
       "    </tr>\n",
       "  </tbody>\n",
       "</table>\n",
       "</div>"
      ],
      "text/plain": [
       "       bedroomcnt  calculatedfinishedsquarefeet  latitude  longitude  \\\n",
       "31418    0.166667                      0.186741  0.592407   0.541827   \n",
       "25233    0.333333                      0.238548  0.339240   0.418606   \n",
       "24713    0.166667                      0.198449  0.258553   0.467107   \n",
       "39840    0.333333                      0.167569  0.395438   0.399014   \n",
       "22172    0.500000                      0.239426  0.436532   0.857093   \n",
       "\n",
       "            age   tax_bin     acres  structure_dollar_per_sqft  \\\n",
       "31418  0.396947  0.400000  0.013457                   0.039393   \n",
       "25233  0.435115  0.366667  0.013926                   0.065176   \n",
       "24713  0.480916  0.433333  0.014594                   0.058534   \n",
       "39840  0.496183  0.400000  0.013855                   0.015691   \n",
       "22172  0.396947  0.500000  0.019935                   0.033432   \n",
       "\n",
       "       land_dollar_per_sqft  bed_bath_ratio  cola  area_cluster_id  \\\n",
       "31418              0.018985        0.142857   0.0                4   \n",
       "25233              0.060540        0.250000   0.0                7   \n",
       "24713              0.041985        0.142857   1.0                7   \n",
       "39840              0.004823        0.250000   0.0                7   \n",
       "22172              0.001621        0.357143   0.0                6   \n",
       "\n",
       "       centroid_longitude  centroid_latitude  centroid_age  size_cluster_id  \\\n",
       "31418            0.424876           0.544239      0.530352                0   \n",
       "25233            0.456173           0.354196      0.474303                0   \n",
       "24713            0.456173           0.354196      0.474303                0   \n",
       "39840            0.456173           0.354196      0.474303                3   \n",
       "22172            0.827730           0.490073      0.394873                0   \n",
       "\n",
       "       centroid_calculatedfinishedsquarefeet  centroid_acres       std  \\\n",
       "31418                               0.213420        0.017530  0.042333   \n",
       "25233                               0.213420        0.017530  0.043873   \n",
       "24713                               0.213420        0.017530  0.043873   \n",
       "39840                               0.133982        0.014076  0.048889   \n",
       "22172                               0.213420        0.017530  0.022530   \n",
       "\n",
       "            50%  \n",
       "31418  0.058656  \n",
       "25233  0.046153  \n",
       "24713  0.046153  \n",
       "39840  0.047993  \n",
       "22172  0.054105  "
      ]
     },
     "execution_count": 47,
     "metadata": {},
     "output_type": "execute_result"
    }
   ],
   "source": [
    "train_scaled.head()"
   ]
  },
  {
   "cell_type": "code",
   "execution_count": 46,
   "metadata": {},
   "outputs": [],
   "source": [
    "X_train['dollar_sqft_diff'] = X_train.structure_dollar_per_sqft - X_train['50%']\n",
    "train_scaled['dollar_sqft_diff'] = train_scaled.structure_dollar_per_sqft - train_scaled['50%']\n",
    "\n",
    "X_test['dollar_sqft_diff'] = X_test.structure_dollar_per_sqft - X_test['50%']\n",
    "test_scaled['dollar_sqft_diff'] = test_scaled.structure_dollar_per_sqft - test_scaled['50%']\n",
    "\n",
    "cols_to_drop = ['latitude', 'longitude', 'area_cluster_id', 'centroid_longitude', 'centroid_latitude', \n",
    "                'centroid_age', 'size_cluster_id', 'centroid_calculatedfinishedsquarefeet', 'centroid_acres',\n",
    "                'structure_dollar_per_sqft', '50%'\n",
    "               ]\n",
    "\n",
    "X_train.drop(columns = cols_to_drop, inplace = True)\n",
    "train_scaled.drop(columns = cols_to_drop, inplace = True)\n",
    "\n",
    "X_test.drop(columns = cols_to_drop, inplace = True)\n",
    "test_scaled.drop(columns = cols_to_drop, inplace = True)"
   ]
  },
  {
   "cell_type": "markdown",
   "metadata": {},
   "source": [
    "- drop nan in std"
   ]
  },
  {
   "cell_type": "code",
   "execution_count": null,
   "metadata": {},
   "outputs": [],
   "source": []
  }
 ],
 "metadata": {
  "kernelspec": {
   "display_name": "Python 3",
   "language": "python",
   "name": "python3"
  },
  "language_info": {
   "codemirror_mode": {
    "name": "ipython",
    "version": 3
   },
   "file_extension": ".py",
   "mimetype": "text/x-python",
   "name": "python",
   "nbconvert_exporter": "python",
   "pygments_lexer": "ipython3",
   "version": "3.6.8"
  }
 },
 "nbformat": 4,
 "nbformat_minor": 2
}
