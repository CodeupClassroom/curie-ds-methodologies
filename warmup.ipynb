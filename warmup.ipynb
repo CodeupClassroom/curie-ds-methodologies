{
 "cells": [
  {
   "cell_type": "markdown",
   "metadata": {},
   "source": [
    "# Dataframe Manipulation Warmup"
   ]
  },
  {
   "cell_type": "code",
   "execution_count": 1,
   "metadata": {},
   "outputs": [],
   "source": [
    "import numpy as np\n",
    "import pandas as pd\n",
    "\n",
    "np.random.seed(406)\n",
    "\n",
    "n = 5000\n",
    "df = pd.DataFrame({\n",
    "    'favorite_animal': np.random.choice(['cat', 'dog', 'frog', 'lemur', 'panda'], n),\n",
    "    'favorite_vegetable': np.random.choice(['brussel sprouts', 'potato', 'squash'], n),\n",
    "    'favorite_fruit': np.random.choice(['banana', 'apple', 'blueberries'], n),\n",
    "    'wears_glasses': np.random.choice(['yes', 'no'], n),\n",
    "    'netflix_consumption': np.random.normal(10, 2, n),\n",
    "    'open_browser_tabs': np.random.randint(2, 90, n),\n",
    "})"
   ]
  },
  {
   "cell_type": "markdown",
   "metadata": {},
   "source": [
    "- What is the highest amount of netflix consumption? `17.535`"
   ]
  },
  {
   "cell_type": "code",
   "execution_count": 2,
   "metadata": {},
   "outputs": [
    {
     "data": {
      "text/plain": [
       "17.534818515438925"
      ]
     },
     "execution_count": 2,
     "metadata": {},
     "output_type": "execute_result"
    }
   ],
   "source": [
    "df.netflix_consumption.max()"
   ]
  },
  {
   "cell_type": "markdown",
   "metadata": {},
   "source": [
    "- How many people wear glasses? What percentage of people is this? `2555`, `.511`"
   ]
  },
  {
   "cell_type": "code",
   "execution_count": 9,
   "metadata": {},
   "outputs": [
    {
     "data": {
      "text/plain": [
       "yes    0.511\n",
       "no     0.489\n",
       "Name: wears_glasses, dtype: float64"
      ]
     },
     "execution_count": 9,
     "metadata": {},
     "output_type": "execute_result"
    }
   ],
   "source": [
    "df.wears_glasses.value_counts(normalize=True)"
   ]
  },
  {
   "cell_type": "markdown",
   "metadata": {},
   "source": [
    "- How many people's favorite animal is a dog? `1002`"
   ]
  },
  {
   "cell_type": "code",
   "execution_count": 10,
   "metadata": {},
   "outputs": [
    {
     "data": {
      "text/plain": [
       "1002"
      ]
     },
     "execution_count": 10,
     "metadata": {},
     "output_type": "execute_result"
    }
   ],
   "source": [
    "(df.favorite_animal == 'dog').sum()"
   ]
  },
  {
   "cell_type": "markdown",
   "metadata": {},
   "source": [
    "- What is the most common favorite animal? `lemur`"
   ]
  },
  {
   "cell_type": "code",
   "execution_count": 11,
   "metadata": {},
   "outputs": [
    {
     "data": {
      "text/plain": [
       "lemur    1028\n",
       "frog     1015\n",
       "dog      1002\n",
       "cat       980\n",
       "panda     975\n",
       "Name: favorite_animal, dtype: int64"
      ]
     },
     "execution_count": 11,
     "metadata": {},
     "output_type": "execute_result"
    }
   ],
   "source": [
    "df.favorite_animal.value_counts()"
   ]
  },
  {
   "cell_type": "markdown",
   "metadata": {},
   "source": [
    "- What is the average netflix consumption for people that prefer brussel\n",
    "  sprouts? `10.008`"
   ]
  },
  {
   "cell_type": "code",
   "execution_count": 16,
   "metadata": {},
   "outputs": [
    {
     "data": {
      "text/plain": [
       "10.00847154798366"
      ]
     },
     "execution_count": 16,
     "metadata": {},
     "output_type": "execute_result"
    }
   ],
   "source": [
    "df[df.favorite_vegetable == 'brussel sprouts'].netflix_consumption.mean()"
   ]
  },
  {
   "cell_type": "markdown",
   "metadata": {},
   "source": [
    "- What is the most common favorite fruit for people who wear glasses and have\n",
    "  more than 40 open browser tabs? `blueberries`"
   ]
  },
  {
   "cell_type": "code",
   "execution_count": 21,
   "metadata": {},
   "outputs": [
    {
     "data": {
      "text/plain": [
       "blueberries    498\n",
       "apple          477\n",
       "banana         472\n",
       "Name: favorite_fruit, dtype: int64"
      ]
     },
     "execution_count": 21,
     "metadata": {},
     "output_type": "execute_result"
    }
   ],
   "source": [
    "df[(df.wears_glasses == 'yes') & (df.open_browser_tabs > 40)].favorite_fruit.value_counts()"
   ]
  },
  {
   "cell_type": "markdown",
   "metadata": {},
   "source": [
    "- What percentage of people have a netflix consumption lower than 7? `.0716`"
   ]
  },
  {
   "cell_type": "code",
   "execution_count": 24,
   "metadata": {},
   "outputs": [
    {
     "data": {
      "text/plain": [
       "0.0716"
      ]
     },
     "execution_count": 24,
     "metadata": {},
     "output_type": "execute_result"
    }
   ],
   "source": [
    "(df.netflix_consumption < 7).mean()"
   ]
  },
  {
   "cell_type": "markdown",
   "metadata": {},
   "source": [
    "- What is the average netflix consumption for people with less than 30 open\n",
    "  browser tabs? `9.91935`"
   ]
  },
  {
   "cell_type": "code",
   "execution_count": 27,
   "metadata": {},
   "outputs": [
    {
     "data": {
      "text/plain": [
       "9.91935736918227"
      ]
     },
     "execution_count": 27,
     "metadata": {},
     "output_type": "execute_result"
    }
   ],
   "source": [
    "df[df.open_browser_tabs < 30].netflix_consumption.mean()"
   ]
  },
  {
   "cell_type": "markdown",
   "metadata": {},
   "source": [
    "- How many people *don't* wear glasses, have a favorite animal of a panda, have\n",
    "  a favorite fruit of blueberries, and have more than 60 open browser tabs? What\n",
    "  is the median netflix consumption for this group? What is the most common\n",
    "  favorite vegetable for this group? `46`, `10.455`, `potato`"
   ]
  },
  {
   "cell_type": "code",
   "execution_count": 34,
   "metadata": {},
   "outputs": [],
   "source": [
    "no_glasses = df.wears_glasses == 'no'\n",
    "loves_pandas = df.favorite_animal == 'panda'\n",
    "too_many_tabs = df.open_browser_tabs > 60\n",
    "likes_blueberries = df.favorite_fruit == 'blueberries'\n",
    "\n",
    "mask = no_glasses & loves_pandas & too_many_tabs & likes_blueberries"
   ]
  },
  {
   "cell_type": "code",
   "execution_count": 35,
   "metadata": {},
   "outputs": [
    {
     "data": {
      "text/plain": [
       "(46, 6)"
      ]
     },
     "execution_count": 35,
     "metadata": {},
     "output_type": "execute_result"
    }
   ],
   "source": [
    "df[mask].shape"
   ]
  },
  {
   "cell_type": "code",
   "execution_count": 32,
   "metadata": {},
   "outputs": [
    {
     "data": {
      "text/plain": [
       "10.45479760071613"
      ]
     },
     "execution_count": 32,
     "metadata": {},
     "output_type": "execute_result"
    }
   ],
   "source": [
    "df[mask].netflix_consumption.median()"
   ]
  },
  {
   "cell_type": "code",
   "execution_count": 33,
   "metadata": {},
   "outputs": [
    {
     "data": {
      "text/plain": [
       "potato             19\n",
       "brussel sprouts    14\n",
       "squash             13\n",
       "Name: favorite_vegetable, dtype: int64"
      ]
     },
     "execution_count": 33,
     "metadata": {},
     "output_type": "execute_result"
    }
   ],
   "source": [
    "df[mask].favorite_vegetable.value_counts()"
   ]
  },
  {
   "cell_type": "code",
   "execution_count": 39,
   "metadata": {},
   "outputs": [
    {
     "data": {
      "text/plain": [
       "(46, 6)"
      ]
     },
     "execution_count": 39,
     "metadata": {},
     "output_type": "execute_result"
    }
   ],
   "source": [
    "subgroup = df[df.wears_glasses == 'no']\n",
    "subgroup = subgroup[subgroup.favorite_animal == 'panda']\n",
    "subgroup = subgroup[subgroup.open_browser_tabs > 60]\n",
    "subgroup = subgroup[subgroup.favorite_fruit == 'blueberries']\n",
    "subgroup.shape"
   ]
  },
  {
   "cell_type": "code",
   "execution_count": 43,
   "metadata": {},
   "outputs": [
    {
     "data": {
      "text/plain": [
       "10.45479760071613"
      ]
     },
     "execution_count": 43,
     "metadata": {},
     "output_type": "execute_result"
    }
   ],
   "source": [
    "(df.query('wears_glasses == \"no\"')\n",
    " .query('favorite_animal == \"panda\"')\n",
    " .query('open_browser_tabs > 60')\n",
    " .query('favorite_fruit == \"blueberries\"')\n",
    " .netflix_consumption.median())"
   ]
  },
  {
   "cell_type": "markdown",
   "metadata": {},
   "source": [
    "- What is the least popular combination of favorite fruit and vegetable? `apple` and `potato`"
   ]
  },
  {
   "cell_type": "code",
   "execution_count": 47,
   "metadata": {},
   "outputs": [
    {
     "data": {
      "text/plain": [
       "favorite_fruit  favorite_vegetable\n",
       "apple           potato                512\n",
       "banana          squash                524\n",
       "apple           squash                555\n",
       "blueberries     brussel sprouts       555\n",
       "                potato                560\n",
       "apple           brussel sprouts       565\n",
       "banana          potato                570\n",
       "                brussel sprouts       576\n",
       "blueberries     squash                583\n",
       "dtype: int64"
      ]
     },
     "execution_count": 47,
     "metadata": {},
     "output_type": "execute_result"
    }
   ],
   "source": [
    "df.groupby(['favorite_fruit', 'favorite_vegetable']).size().sort_values()"
   ]
  },
  {
   "cell_type": "code",
   "execution_count": 55,
   "metadata": {},
   "outputs": [
    {
     "data": {
      "text/plain": [
       "('blueberries', 'squash')"
      ]
     },
     "execution_count": 55,
     "metadata": {},
     "output_type": "execute_result"
    }
   ],
   "source": [
    "df.groupby(['favorite_fruit', 'favorite_vegetable']).size().idxmax()"
   ]
  },
  {
   "cell_type": "code",
   "execution_count": 54,
   "metadata": {},
   "outputs": [
    {
     "data": {
      "text/html": [
       "<div>\n",
       "<style scoped>\n",
       "    .dataframe tbody tr th:only-of-type {\n",
       "        vertical-align: middle;\n",
       "    }\n",
       "\n",
       "    .dataframe tbody tr th {\n",
       "        vertical-align: top;\n",
       "    }\n",
       "\n",
       "    .dataframe thead th {\n",
       "        text-align: right;\n",
       "    }\n",
       "</style>\n",
       "<table border=\"1\" class=\"dataframe\">\n",
       "  <thead>\n",
       "    <tr style=\"text-align: right;\">\n",
       "      <th>favorite_vegetable</th>\n",
       "      <th>brussel sprouts</th>\n",
       "      <th>potato</th>\n",
       "      <th>squash</th>\n",
       "    </tr>\n",
       "    <tr>\n",
       "      <th>favorite_fruit</th>\n",
       "      <th></th>\n",
       "      <th></th>\n",
       "      <th></th>\n",
       "    </tr>\n",
       "  </thead>\n",
       "  <tbody>\n",
       "    <tr>\n",
       "      <th>apple</th>\n",
       "      <td>565</td>\n",
       "      <td>512</td>\n",
       "      <td>555</td>\n",
       "    </tr>\n",
       "    <tr>\n",
       "      <th>banana</th>\n",
       "      <td>576</td>\n",
       "      <td>570</td>\n",
       "      <td>524</td>\n",
       "    </tr>\n",
       "    <tr>\n",
       "      <th>blueberries</th>\n",
       "      <td>555</td>\n",
       "      <td>560</td>\n",
       "      <td>583</td>\n",
       "    </tr>\n",
       "  </tbody>\n",
       "</table>\n",
       "</div>"
      ],
      "text/plain": [
       "favorite_vegetable  brussel sprouts  potato  squash\n",
       "favorite_fruit                                     \n",
       "apple                           565     512     555\n",
       "banana                          576     570     524\n",
       "blueberries                     555     560     583"
      ]
     },
     "execution_count": 54,
     "metadata": {},
     "output_type": "execute_result"
    }
   ],
   "source": [
    "pd.crosstab(df.favorite_fruit, df.favorite_vegetable)"
   ]
  },
  {
   "cell_type": "code",
   "execution_count": 50,
   "metadata": {},
   "outputs": [
    {
     "data": {
      "text/html": [
       "<div>\n",
       "<style scoped>\n",
       "    .dataframe tbody tr th:only-of-type {\n",
       "        vertical-align: middle;\n",
       "    }\n",
       "\n",
       "    .dataframe tbody tr th {\n",
       "        vertical-align: top;\n",
       "    }\n",
       "\n",
       "    .dataframe thead th {\n",
       "        text-align: right;\n",
       "    }\n",
       "</style>\n",
       "<table border=\"1\" class=\"dataframe\">\n",
       "  <thead>\n",
       "    <tr style=\"text-align: right;\">\n",
       "      <th></th>\n",
       "      <th>favorite_animal</th>\n",
       "      <th>favorite_vegetable</th>\n",
       "      <th>favorite_fruit</th>\n",
       "      <th>wears_glasses</th>\n",
       "      <th>netflix_consumption</th>\n",
       "      <th>open_browser_tabs</th>\n",
       "      <th>fav_fruit_and_veggie</th>\n",
       "    </tr>\n",
       "  </thead>\n",
       "  <tbody>\n",
       "    <tr>\n",
       "      <th>0</th>\n",
       "      <td>lemur</td>\n",
       "      <td>potato</td>\n",
       "      <td>apple</td>\n",
       "      <td>yes</td>\n",
       "      <td>8.313351</td>\n",
       "      <td>44</td>\n",
       "      <td>apple potato</td>\n",
       "    </tr>\n",
       "    <tr>\n",
       "      <th>1</th>\n",
       "      <td>panda</td>\n",
       "      <td>potato</td>\n",
       "      <td>apple</td>\n",
       "      <td>yes</td>\n",
       "      <td>11.801073</td>\n",
       "      <td>10</td>\n",
       "      <td>apple potato</td>\n",
       "    </tr>\n",
       "    <tr>\n",
       "      <th>2</th>\n",
       "      <td>cat</td>\n",
       "      <td>squash</td>\n",
       "      <td>blueberries</td>\n",
       "      <td>yes</td>\n",
       "      <td>10.105141</td>\n",
       "      <td>35</td>\n",
       "      <td>blueberries squash</td>\n",
       "    </tr>\n",
       "    <tr>\n",
       "      <th>3</th>\n",
       "      <td>lemur</td>\n",
       "      <td>squash</td>\n",
       "      <td>apple</td>\n",
       "      <td>no</td>\n",
       "      <td>11.024605</td>\n",
       "      <td>70</td>\n",
       "      <td>apple squash</td>\n",
       "    </tr>\n",
       "    <tr>\n",
       "      <th>4</th>\n",
       "      <td>dog</td>\n",
       "      <td>brussel sprouts</td>\n",
       "      <td>apple</td>\n",
       "      <td>yes</td>\n",
       "      <td>6.732698</td>\n",
       "      <td>73</td>\n",
       "      <td>apple brussel sprouts</td>\n",
       "    </tr>\n",
       "  </tbody>\n",
       "</table>\n",
       "</div>"
      ],
      "text/plain": [
       "  favorite_animal favorite_vegetable favorite_fruit wears_glasses  \\\n",
       "0           lemur             potato          apple           yes   \n",
       "1           panda             potato          apple           yes   \n",
       "2             cat             squash    blueberries           yes   \n",
       "3           lemur             squash          apple            no   \n",
       "4             dog    brussel sprouts          apple           yes   \n",
       "\n",
       "   netflix_consumption  open_browser_tabs   fav_fruit_and_veggie  \n",
       "0             8.313351                 44           apple potato  \n",
       "1            11.801073                 10           apple potato  \n",
       "2            10.105141                 35     blueberries squash  \n",
       "3            11.024605                 70           apple squash  \n",
       "4             6.732698                 73  apple brussel sprouts  "
      ]
     },
     "execution_count": 50,
     "metadata": {},
     "output_type": "execute_result"
    }
   ],
   "source": [
    "df['fav_fruit_and_veggie'] = df.favorite_fruit + ' ' + df.favorite_vegetable\n",
    "df.head()"
   ]
  },
  {
   "cell_type": "code",
   "execution_count": 52,
   "metadata": {},
   "outputs": [
    {
     "data": {
      "text/plain": [
       "blueberries squash             583\n",
       "banana brussel sprouts         576\n",
       "banana potato                  570\n",
       "apple brussel sprouts          565\n",
       "blueberries potato             560\n",
       "blueberries brussel sprouts    555\n",
       "apple squash                   555\n",
       "banana squash                  524\n",
       "apple potato                   512\n",
       "Name: fav_fruit_and_veggie, dtype: int64"
      ]
     },
     "execution_count": 52,
     "metadata": {},
     "output_type": "execute_result"
    }
   ],
   "source": [
    "df.fav_fruit_and_veggie.value_counts()"
   ]
  },
  {
   "cell_type": "markdown",
   "metadata": {},
   "source": [
    "- Which combination of favorite animal and wearing glasses has the highest average\n",
    "  netflix consumption? people that wear glasses and prefer pandas"
   ]
  },
  {
   "cell_type": "code",
   "execution_count": 57,
   "metadata": {},
   "outputs": [
    {
     "data": {
      "text/plain": [
       "favorite_animal  wears_glasses\n",
       "frog             yes               9.834740\n",
       "cat              no                9.846183\n",
       "                 yes               9.884685\n",
       "dog              no                9.933246\n",
       "panda            no                9.946293\n",
       "frog             no                9.962311\n",
       "lemur            yes              10.010196\n",
       "                 no               10.024557\n",
       "dog              yes              10.087352\n",
       "panda            yes              10.092273\n",
       "Name: netflix_consumption, dtype: float64"
      ]
     },
     "execution_count": 57,
     "metadata": {},
     "output_type": "execute_result"
    }
   ],
   "source": [
    "df.groupby(['favorite_animal', 'wears_glasses']).netflix_consumption.mean().sort_values()"
   ]
  },
  {
   "cell_type": "code",
   "execution_count": 65,
   "metadata": {},
   "outputs": [
    {
     "data": {
      "text/html": [
       "<div>\n",
       "<style scoped>\n",
       "    .dataframe tbody tr th:only-of-type {\n",
       "        vertical-align: middle;\n",
       "    }\n",
       "\n",
       "    .dataframe tbody tr th {\n",
       "        vertical-align: top;\n",
       "    }\n",
       "\n",
       "    .dataframe thead th {\n",
       "        text-align: right;\n",
       "    }\n",
       "</style>\n",
       "<table border=\"1\" class=\"dataframe\">\n",
       "  <thead>\n",
       "    <tr style=\"text-align: right;\">\n",
       "      <th>wears_glasses</th>\n",
       "      <th>no</th>\n",
       "      <th>yes</th>\n",
       "    </tr>\n",
       "    <tr>\n",
       "      <th>favorite_animal</th>\n",
       "      <th></th>\n",
       "      <th></th>\n",
       "    </tr>\n",
       "  </thead>\n",
       "  <tbody>\n",
       "    <tr>\n",
       "      <th>cat</th>\n",
       "      <td>9.846183</td>\n",
       "      <td>9.884685</td>\n",
       "    </tr>\n",
       "    <tr>\n",
       "      <th>dog</th>\n",
       "      <td>9.933246</td>\n",
       "      <td>10.087352</td>\n",
       "    </tr>\n",
       "    <tr>\n",
       "      <th>frog</th>\n",
       "      <td>9.962311</td>\n",
       "      <td>9.834740</td>\n",
       "    </tr>\n",
       "    <tr>\n",
       "      <th>lemur</th>\n",
       "      <td>10.024557</td>\n",
       "      <td>10.010196</td>\n",
       "    </tr>\n",
       "    <tr>\n",
       "      <th>panda</th>\n",
       "      <td>9.946293</td>\n",
       "      <td>10.092273</td>\n",
       "    </tr>\n",
       "  </tbody>\n",
       "</table>\n",
       "</div>"
      ],
      "text/plain": [
       "wears_glasses           no        yes\n",
       "favorite_animal                      \n",
       "cat               9.846183   9.884685\n",
       "dog               9.933246  10.087352\n",
       "frog              9.962311   9.834740\n",
       "lemur            10.024557  10.010196\n",
       "panda             9.946293  10.092273"
      ]
     },
     "execution_count": 65,
     "metadata": {},
     "output_type": "execute_result"
    }
   ],
   "source": [
    "# values (numeric), rows (category), columns (category)\n",
    "# aggfunc=np.max, for example, to specify aggregation\n",
    "df.pivot_table('netflix_consumption', 'favorite_animal', 'wears_glasses')"
   ]
  },
  {
   "cell_type": "markdown",
   "metadata": {},
   "source": [
    "- **Bonus**: for each of the above questions, what kind of visualization would\n",
    "  be the most effective in conveying your answer?"
   ]
  },
  {
   "cell_type": "code",
   "execution_count": null,
   "metadata": {},
   "outputs": [],
   "source": []
  }
 ],
 "metadata": {
  "kernelspec": {
   "display_name": "Python 3",
   "language": "python",
   "name": "python3"
  },
  "language_info": {
   "codemirror_mode": {
    "name": "ipython",
    "version": 3
   },
   "file_extension": ".py",
   "mimetype": "text/x-python",
   "name": "python",
   "nbconvert_exporter": "python",
   "pygments_lexer": "ipython3",
   "version": "3.7.3"
  }
 },
 "nbformat": 4,
 "nbformat_minor": 2
}
