{
 "cells": [
  {
   "cell_type": "markdown",
   "metadata": {},
   "source": [
    "# Cross Validation"
   ]
  },
  {
   "cell_type": "code",
   "execution_count": 32,
   "metadata": {},
   "outputs": [],
   "source": [
    "import pandas as pd\n",
    "import pydataset\n",
    "from sklearn.model_selection import cross_val_score, train_test_split\n",
    "from sklearn.tree import DecisionTreeClassifier"
   ]
  },
  {
   "cell_type": "code",
   "execution_count": 3,
   "metadata": {},
   "outputs": [
    {
     "data": {
      "text/html": [
       "<div>\n",
       "<style scoped>\n",
       "    .dataframe tbody tr th:only-of-type {\n",
       "        vertical-align: middle;\n",
       "    }\n",
       "\n",
       "    .dataframe tbody tr th {\n",
       "        vertical-align: top;\n",
       "    }\n",
       "\n",
       "    .dataframe thead th {\n",
       "        text-align: right;\n",
       "    }\n",
       "</style>\n",
       "<table border=\"1\" class=\"dataframe\">\n",
       "  <thead>\n",
       "    <tr style=\"text-align: right;\">\n",
       "      <th></th>\n",
       "      <th>total_bill</th>\n",
       "      <th>tip</th>\n",
       "      <th>sex</th>\n",
       "      <th>smoker</th>\n",
       "      <th>day</th>\n",
       "      <th>time</th>\n",
       "      <th>size</th>\n",
       "    </tr>\n",
       "  </thead>\n",
       "  <tbody>\n",
       "    <tr>\n",
       "      <th>1</th>\n",
       "      <td>16.99</td>\n",
       "      <td>1.01</td>\n",
       "      <td>Female</td>\n",
       "      <td>No</td>\n",
       "      <td>Sun</td>\n",
       "      <td>Dinner</td>\n",
       "      <td>2</td>\n",
       "    </tr>\n",
       "    <tr>\n",
       "      <th>2</th>\n",
       "      <td>10.34</td>\n",
       "      <td>1.66</td>\n",
       "      <td>Male</td>\n",
       "      <td>No</td>\n",
       "      <td>Sun</td>\n",
       "      <td>Dinner</td>\n",
       "      <td>3</td>\n",
       "    </tr>\n",
       "    <tr>\n",
       "      <th>3</th>\n",
       "      <td>21.01</td>\n",
       "      <td>3.50</td>\n",
       "      <td>Male</td>\n",
       "      <td>No</td>\n",
       "      <td>Sun</td>\n",
       "      <td>Dinner</td>\n",
       "      <td>3</td>\n",
       "    </tr>\n",
       "    <tr>\n",
       "      <th>4</th>\n",
       "      <td>23.68</td>\n",
       "      <td>3.31</td>\n",
       "      <td>Male</td>\n",
       "      <td>No</td>\n",
       "      <td>Sun</td>\n",
       "      <td>Dinner</td>\n",
       "      <td>2</td>\n",
       "    </tr>\n",
       "    <tr>\n",
       "      <th>5</th>\n",
       "      <td>24.59</td>\n",
       "      <td>3.61</td>\n",
       "      <td>Female</td>\n",
       "      <td>No</td>\n",
       "      <td>Sun</td>\n",
       "      <td>Dinner</td>\n",
       "      <td>4</td>\n",
       "    </tr>\n",
       "  </tbody>\n",
       "</table>\n",
       "</div>"
      ],
      "text/plain": [
       "   total_bill   tip     sex smoker  day    time  size\n",
       "1       16.99  1.01  Female     No  Sun  Dinner     2\n",
       "2       10.34  1.66    Male     No  Sun  Dinner     3\n",
       "3       21.01  3.50    Male     No  Sun  Dinner     3\n",
       "4       23.68  3.31    Male     No  Sun  Dinner     2\n",
       "5       24.59  3.61  Female     No  Sun  Dinner     4"
      ]
     },
     "execution_count": 3,
     "metadata": {},
     "output_type": "execute_result"
    }
   ],
   "source": [
    "tips = pydataset.data('tips')\n",
    "tips.head()"
   ]
  },
  {
   "cell_type": "code",
   "execution_count": 5,
   "metadata": {},
   "outputs": [],
   "source": [
    "X = tips[['tip', 'total_bill', 'size']]\n",
    "y = tips.time\n",
    "\n",
    "X_train, X_test, y_train, y_test = train_test_split(X, y, random_state=123, test_size=.2)"
   ]
  },
  {
   "cell_type": "code",
   "execution_count": 8,
   "metadata": {},
   "outputs": [
    {
     "data": {
      "text/plain": [
       "0.6922831632653061"
      ]
     },
     "execution_count": 8,
     "metadata": {},
     "output_type": "execute_result"
    }
   ],
   "source": [
    "dtree = DecisionTreeClassifier(max_depth=4)\n",
    "\n",
    "cross_val_score(dtree, X_train, y_train, cv=4).mean()"
   ]
  },
  {
   "cell_type": "code",
   "execution_count": 15,
   "metadata": {},
   "outputs": [],
   "source": [
    "from sklearn.metrics import make_scorer, precision_score"
   ]
  },
  {
   "cell_type": "markdown",
   "metadata": {},
   "source": [
    "Using precision \"traditionally\""
   ]
  },
  {
   "cell_type": "code",
   "execution_count": 10,
   "metadata": {},
   "outputs": [
    {
     "data": {
      "text/plain": [
       "DecisionTreeClassifier(ccp_alpha=0.0, class_weight=None, criterion='gini',\n",
       "                       max_depth=4, max_features=None, max_leaf_nodes=None,\n",
       "                       min_impurity_decrease=0.0, min_impurity_split=None,\n",
       "                       min_samples_leaf=1, min_samples_split=2,\n",
       "                       min_weight_fraction_leaf=0.0, presort='deprecated',\n",
       "                       random_state=None, splitter='best')"
      ]
     },
     "execution_count": 10,
     "metadata": {},
     "output_type": "execute_result"
    }
   ],
   "source": [
    "dtree.fit(X_train, y_train)"
   ]
  },
  {
   "cell_type": "code",
   "execution_count": 13,
   "metadata": {},
   "outputs": [
    {
     "data": {
      "text/plain": [
       "0.8571428571428571"
      ]
     },
     "execution_count": 13,
     "metadata": {},
     "output_type": "execute_result"
    }
   ],
   "source": [
    "predicted = dtree.predict(X_train)\n",
    "actual = y_train\n",
    "\n",
    "precision_score(actual, predicted, pos_label='Dinner')"
   ]
  },
  {
   "cell_type": "markdown",
   "metadata": {},
   "source": [
    "Using precision as a metric for cross validation:"
   ]
  },
  {
   "cell_type": "code",
   "execution_count": 18,
   "metadata": {},
   "outputs": [
    {
     "data": {
      "text/plain": [
       "0.7371597454477888"
      ]
     },
     "execution_count": 18,
     "metadata": {},
     "output_type": "execute_result"
    }
   ],
   "source": [
    "precision_scorer = make_scorer(precision_score, pos_label='Dinner')\n",
    "\n",
    "# decision tree w/ max_depth = 4\n",
    "cross_val_score(dtree, X_train, y_train, cv=4, scoring=precision_scorer).mean()"
   ]
  },
  {
   "cell_type": "code",
   "execution_count": 19,
   "metadata": {},
   "outputs": [
    {
     "data": {
      "text/plain": [
       "0.7396049896049897"
      ]
     },
     "execution_count": 19,
     "metadata": {},
     "output_type": "execute_result"
    }
   ],
   "source": [
    "cross_val_score(DecisionTreeClassifier(max_depth=3), X_train, y_train, scoring=precision_scorer).mean()"
   ]
  },
  {
   "cell_type": "markdown",
   "metadata": {},
   "source": [
    "## Grid Search"
   ]
  },
  {
   "cell_type": "code",
   "execution_count": 39,
   "metadata": {},
   "outputs": [
    {
     "data": {
      "text/plain": [
       "{'criterion': 'entropy', 'max_depth': 3}"
      ]
     },
     "execution_count": 39,
     "metadata": {},
     "output_type": "execute_result"
    }
   ],
   "source": [
    "from sklearn.model_selection import GridSearchCV\n",
    "\n",
    "# keys are names of hyperparams, values are a list of values to try for that hyper parameter\n",
    "params = {\n",
    "    'max_depth': range(1, 11),\n",
    "    'criterion': ['gini', 'entropy']\n",
    "}\n",
    "\n",
    "# cv=4 means 4-fold cross-validation, i.e. k = 4\n",
    "grid = GridSearchCV(dtree, params, cv=4)\n",
    "grid.fit(X_train, y_train)\n",
    "\n",
    "grid.best_params_"
   ]
  },
  {
   "cell_type": "code",
   "execution_count": 43,
   "metadata": {},
   "outputs": [
    {
     "data": {
      "text/plain": [
       "0.6530612244897959"
      ]
     },
     "execution_count": 43,
     "metadata": {},
     "output_type": "execute_result"
    }
   ],
   "source": [
    "# .best_estimator_ gives us a model that is prefit with the best hyperparams\n",
    "model = grid.best_estimator_\n",
    "model.score(X_test, y_test)"
   ]
  },
  {
   "cell_type": "code",
   "execution_count": 41,
   "metadata": {},
   "outputs": [
    {
     "data": {
      "text/plain": [
       "0.7387329931972789"
      ]
     },
     "execution_count": 41,
     "metadata": {},
     "output_type": "execute_result"
    }
   ],
   "source": [
    "grid.best_score_"
   ]
  },
  {
   "cell_type": "code",
   "execution_count": 42,
   "metadata": {},
   "outputs": [
    {
     "data": {
      "text/plain": [
       "{'mean_fit_time': array([0.00745726, 0.00472051, 0.00504798, 0.00437891, 0.00305825,\n",
       "        0.00504392, 0.00345784, 0.00415373, 0.00388348, 0.00434667,\n",
       "        0.00298148, 0.00297493, 0.00369656, 0.00363541, 0.00335479,\n",
       "        0.00385523, 0.00437647, 0.00434023, 0.00434357, 0.00538343]),\n",
       " 'std_fit_time': array([0.00300004, 0.00080919, 0.00219533, 0.00082582, 0.00078912,\n",
       "        0.00224456, 0.00066703, 0.0013567 , 0.00104932, 0.00086549,\n",
       "        0.0002754 , 0.00013711, 0.00081302, 0.00057725, 0.00062753,\n",
       "        0.00088843, 0.00082147, 0.00158639, 0.0009914 , 0.00097421]),\n",
       " 'mean_score_time': array([0.00449753, 0.00206023, 0.00159401, 0.0017857 , 0.00147796,\n",
       "        0.00220042, 0.00192362, 0.00224543, 0.00142628, 0.0014466 ,\n",
       "        0.00143749, 0.00174928, 0.00220591, 0.00174081, 0.00172722,\n",
       "        0.00204813, 0.00169319, 0.00204927, 0.00249106, 0.00190103]),\n",
       " 'std_score_time': array([0.00197248, 0.0005423 , 0.0004198 , 0.00086295, 0.00046903,\n",
       "        0.0007857 , 0.0002457 , 0.00053239, 0.00028711, 0.00021403,\n",
       "        0.00024808, 0.00027187, 0.00120565, 0.00048304, 0.00034532,\n",
       "        0.00071041, 0.00020542, 0.00041855, 0.00123345, 0.00062923]),\n",
       " 'param_criterion': masked_array(data=['gini', 'gini', 'gini', 'gini', 'gini', 'gini', 'gini',\n",
       "                    'gini', 'gini', 'gini', 'entropy', 'entropy',\n",
       "                    'entropy', 'entropy', 'entropy', 'entropy', 'entropy',\n",
       "                    'entropy', 'entropy', 'entropy'],\n",
       "              mask=[False, False, False, False, False, False, False, False,\n",
       "                    False, False, False, False, False, False, False, False,\n",
       "                    False, False, False, False],\n",
       "        fill_value='?',\n",
       "             dtype=object),\n",
       " 'param_max_depth': masked_array(data=[1, 2, 3, 4, 5, 6, 7, 8, 9, 10, 1, 2, 3, 4, 5, 6, 7, 8,\n",
       "                    9, 10],\n",
       "              mask=[False, False, False, False, False, False, False, False,\n",
       "                    False, False, False, False, False, False, False, False,\n",
       "                    False, False, False, False],\n",
       "        fill_value='?',\n",
       "             dtype=object),\n",
       " 'params': [{'criterion': 'gini', 'max_depth': 1},\n",
       "  {'criterion': 'gini', 'max_depth': 2},\n",
       "  {'criterion': 'gini', 'max_depth': 3},\n",
       "  {'criterion': 'gini', 'max_depth': 4},\n",
       "  {'criterion': 'gini', 'max_depth': 5},\n",
       "  {'criterion': 'gini', 'max_depth': 6},\n",
       "  {'criterion': 'gini', 'max_depth': 7},\n",
       "  {'criterion': 'gini', 'max_depth': 8},\n",
       "  {'criterion': 'gini', 'max_depth': 9},\n",
       "  {'criterion': 'gini', 'max_depth': 10},\n",
       "  {'criterion': 'entropy', 'max_depth': 1},\n",
       "  {'criterion': 'entropy', 'max_depth': 2},\n",
       "  {'criterion': 'entropy', 'max_depth': 3},\n",
       "  {'criterion': 'entropy', 'max_depth': 4},\n",
       "  {'criterion': 'entropy', 'max_depth': 5},\n",
       "  {'criterion': 'entropy', 'max_depth': 6},\n",
       "  {'criterion': 'entropy', 'max_depth': 7},\n",
       "  {'criterion': 'entropy', 'max_depth': 8},\n",
       "  {'criterion': 'entropy', 'max_depth': 9},\n",
       "  {'criterion': 'entropy', 'max_depth': 10}],\n",
       " 'split0_test_score': array([0.73469388, 0.73469388, 0.71428571, 0.71428571, 0.53061224,\n",
       "        0.65306122, 0.63265306, 0.65306122, 0.6122449 , 0.63265306,\n",
       "        0.73469388, 0.73469388, 0.71428571, 0.65306122, 0.73469388,\n",
       "        0.63265306, 0.67346939, 0.6122449 , 0.6122449 , 0.57142857]),\n",
       " 'split1_test_score': array([0.71428571, 0.71428571, 0.67346939, 0.65306122, 0.69387755,\n",
       "        0.69387755, 0.65306122, 0.63265306, 0.65306122, 0.63265306,\n",
       "        0.71428571, 0.71428571, 0.71428571, 0.67346939, 0.65306122,\n",
       "        0.67346939, 0.67346939, 0.6122449 , 0.65306122, 0.65306122]),\n",
       " 'split2_test_score': array([0.73469388, 0.73469388, 0.73469388, 0.71428571, 0.63265306,\n",
       "        0.73469388, 0.73469388, 0.71428571, 0.71428571, 0.75510204,\n",
       "        0.73469388, 0.73469388, 0.73469388, 0.75510204, 0.73469388,\n",
       "        0.75510204, 0.69387755, 0.75510204, 0.73469388, 0.7755102 ]),\n",
       " 'split3_test_score': array([0.75      , 0.75      , 0.75      , 0.6875    , 0.64583333,\n",
       "        0.625     , 0.625     , 0.64583333, 0.625     , 0.625     ,\n",
       "        0.75      , 0.75      , 0.79166667, 0.75      , 0.75      ,\n",
       "        0.60416667, 0.5625    , 0.54166667, 0.5625    , 0.54166667]),\n",
       " 'mean_test_score': array([0.73341837, 0.73341837, 0.71811224, 0.69228316, 0.62574405,\n",
       "        0.67665816, 0.66135204, 0.66145833, 0.65114796, 0.66135204,\n",
       "        0.73341837, 0.73341837, 0.73873299, 0.70790816, 0.71811224,\n",
       "        0.66634779, 0.65082908, 0.63031463, 0.640625  , 0.63541667]),\n",
       " 'std_test_score': array([0.01269117, 0.01269117, 0.02872023, 0.02514689, 0.05946332,\n",
       "        0.04150311, 0.04356852, 0.0313653 , 0.03932938, 0.05421669,\n",
       "        0.01269117, 0.01269117, 0.0316766 , 0.04525815, 0.0380735 ,\n",
       "        0.05685477, 0.05167292, 0.07759412, 0.0630725 , 0.09058293]),\n",
       " 'rank_test_score': array([ 2,  2,  6,  9, 20, 10, 13, 12, 15, 13,  2,  2,  1,  8,  6, 11, 16,\n",
       "        19, 17, 18], dtype=int32)}"
      ]
     },
     "execution_count": 42,
     "metadata": {},
     "output_type": "execute_result"
    }
   ],
   "source": [
    "results = grid.cv_results_\n",
    "results"
   ]
  },
  {
   "cell_type": "code",
   "execution_count": 36,
   "metadata": {},
   "outputs": [],
   "source": [
    "import matplotlib.pyplot as plt\n",
    "plt.ion()\n",
    "plt.rc('figure', figsize=(13, 7))\n",
    "plt.style.use('seaborn-darkgrid')"
   ]
  },
  {
   "cell_type": "code",
   "execution_count": 50,
   "metadata": {},
   "outputs": [
    {
     "data": {
      "text/html": [
       "<div>\n",
       "<style scoped>\n",
       "    .dataframe tbody tr th:only-of-type {\n",
       "        vertical-align: middle;\n",
       "    }\n",
       "\n",
       "    .dataframe tbody tr th {\n",
       "        vertical-align: top;\n",
       "    }\n",
       "\n",
       "    .dataframe thead th {\n",
       "        text-align: right;\n",
       "    }\n",
       "</style>\n",
       "<table border=\"1\" class=\"dataframe\">\n",
       "  <thead>\n",
       "    <tr style=\"text-align: right;\">\n",
       "      <th></th>\n",
       "      <th>criterion</th>\n",
       "      <th>max_depth</th>\n",
       "      <th>score</th>\n",
       "    </tr>\n",
       "  </thead>\n",
       "  <tbody>\n",
       "    <tr>\n",
       "      <th>0</th>\n",
       "      <td>gini</td>\n",
       "      <td>1</td>\n",
       "      <td>0.733418</td>\n",
       "    </tr>\n",
       "    <tr>\n",
       "      <th>1</th>\n",
       "      <td>gini</td>\n",
       "      <td>2</td>\n",
       "      <td>0.733418</td>\n",
       "    </tr>\n",
       "    <tr>\n",
       "      <th>2</th>\n",
       "      <td>gini</td>\n",
       "      <td>3</td>\n",
       "      <td>0.718112</td>\n",
       "    </tr>\n",
       "    <tr>\n",
       "      <th>3</th>\n",
       "      <td>gini</td>\n",
       "      <td>4</td>\n",
       "      <td>0.702487</td>\n",
       "    </tr>\n",
       "    <tr>\n",
       "      <th>4</th>\n",
       "      <td>gini</td>\n",
       "      <td>5</td>\n",
       "      <td>0.620642</td>\n",
       "    </tr>\n",
       "    <tr>\n",
       "      <th>5</th>\n",
       "      <td>gini</td>\n",
       "      <td>6</td>\n",
       "      <td>0.676658</td>\n",
       "    </tr>\n",
       "    <tr>\n",
       "      <th>6</th>\n",
       "      <td>gini</td>\n",
       "      <td>7</td>\n",
       "      <td>0.661352</td>\n",
       "    </tr>\n",
       "    <tr>\n",
       "      <th>7</th>\n",
       "      <td>gini</td>\n",
       "      <td>8</td>\n",
       "      <td>0.671662</td>\n",
       "    </tr>\n",
       "    <tr>\n",
       "      <th>8</th>\n",
       "      <td>gini</td>\n",
       "      <td>9</td>\n",
       "      <td>0.651148</td>\n",
       "    </tr>\n",
       "    <tr>\n",
       "      <th>9</th>\n",
       "      <td>gini</td>\n",
       "      <td>10</td>\n",
       "      <td>0.656356</td>\n",
       "    </tr>\n",
       "    <tr>\n",
       "      <th>10</th>\n",
       "      <td>entropy</td>\n",
       "      <td>1</td>\n",
       "      <td>0.733418</td>\n",
       "    </tr>\n",
       "    <tr>\n",
       "      <th>11</th>\n",
       "      <td>entropy</td>\n",
       "      <td>2</td>\n",
       "      <td>0.733418</td>\n",
       "    </tr>\n",
       "    <tr>\n",
       "      <th>12</th>\n",
       "      <td>entropy</td>\n",
       "      <td>3</td>\n",
       "      <td>0.743835</td>\n",
       "    </tr>\n",
       "    <tr>\n",
       "      <th>13</th>\n",
       "      <td>entropy</td>\n",
       "      <td>4</td>\n",
       "      <td>0.707908</td>\n",
       "    </tr>\n",
       "    <tr>\n",
       "      <th>14</th>\n",
       "      <td>entropy</td>\n",
       "      <td>5</td>\n",
       "      <td>0.723214</td>\n",
       "    </tr>\n",
       "    <tr>\n",
       "      <th>15</th>\n",
       "      <td>entropy</td>\n",
       "      <td>6</td>\n",
       "      <td>0.641156</td>\n",
       "    </tr>\n",
       "    <tr>\n",
       "      <th>16</th>\n",
       "      <td>entropy</td>\n",
       "      <td>7</td>\n",
       "      <td>0.645727</td>\n",
       "    </tr>\n",
       "    <tr>\n",
       "      <th>17</th>\n",
       "      <td>entropy</td>\n",
       "      <td>8</td>\n",
       "      <td>0.635417</td>\n",
       "    </tr>\n",
       "    <tr>\n",
       "      <th>18</th>\n",
       "      <td>entropy</td>\n",
       "      <td>9</td>\n",
       "      <td>0.620217</td>\n",
       "    </tr>\n",
       "    <tr>\n",
       "      <th>19</th>\n",
       "      <td>entropy</td>\n",
       "      <td>10</td>\n",
       "      <td>0.615009</td>\n",
       "    </tr>\n",
       "  </tbody>\n",
       "</table>\n",
       "</div>"
      ],
      "text/plain": [
       "   criterion  max_depth     score\n",
       "0       gini          1  0.733418\n",
       "1       gini          2  0.733418\n",
       "2       gini          3  0.718112\n",
       "3       gini          4  0.702487\n",
       "4       gini          5  0.620642\n",
       "5       gini          6  0.676658\n",
       "6       gini          7  0.661352\n",
       "7       gini          8  0.671662\n",
       "8       gini          9  0.651148\n",
       "9       gini         10  0.656356\n",
       "10   entropy          1  0.733418\n",
       "11   entropy          2  0.733418\n",
       "12   entropy          3  0.743835\n",
       "13   entropy          4  0.707908\n",
       "14   entropy          5  0.723214\n",
       "15   entropy          6  0.641156\n",
       "16   entropy          7  0.645727\n",
       "17   entropy          8  0.635417\n",
       "18   entropy          9  0.620217\n",
       "19   entropy         10  0.615009"
      ]
     },
     "execution_count": 50,
     "metadata": {},
     "output_type": "execute_result"
    }
   ],
   "source": [
    "results = grid.cv_results_\n",
    "# Modify each parameter dictionary such that it also contains the model's average performance after cross validation\n",
    "for score, p in zip(results['mean_test_score'], results['params']):\n",
    "    # adding a new key to the dictionary\n",
    "    p['score'] = score\n",
    "\n",
    "# a list of dictionaries where each dictionary has the same keys can be turned into a dataframe\n",
    "results['params']\n",
    "\n",
    "pd.DataFrame(results['params'])"
   ]
  },
  {
   "cell_type": "code",
   "execution_count": 37,
   "metadata": {},
   "outputs": [
    {
     "data": {
      "image/png": "[encoded data removed]",
      "text/plain": [
       "<Figure size 936x504 with 2 Axes>"
      ]
     },
     "metadata": {},
     "output_type": "display_data"
    }
   ],
   "source": [
    "fig, axs = plt.subplots(2, 1, sharex=True, sharey=True)\n",
    "for ax, (crit, subset) in zip(axs, pd.DataFrame(results['params']).groupby('criterion')):\n",
    "    subset.set_index('max_depth').score.plot(ax=ax)\n",
    "    ax.set(title=crit)"
   ]
  },
  {
   "cell_type": "markdown",
   "metadata": {},
   "source": [
    "## Everything All Together"
   ]
  },
  {
   "cell_type": "code",
   "execution_count": 51,
   "metadata": {},
   "outputs": [
    {
     "data": {
      "text/html": [
       "<div>\n",
       "<style scoped>\n",
       "    .dataframe tbody tr th:only-of-type {\n",
       "        vertical-align: middle;\n",
       "    }\n",
       "\n",
       "    .dataframe tbody tr th {\n",
       "        vertical-align: top;\n",
       "    }\n",
       "\n",
       "    .dataframe thead th {\n",
       "        text-align: right;\n",
       "    }\n",
       "</style>\n",
       "<table border=\"1\" class=\"dataframe\">\n",
       "  <thead>\n",
       "    <tr style=\"text-align: right;\">\n",
       "      <th></th>\n",
       "      <th>criterion</th>\n",
       "      <th>max_depth</th>\n",
       "      <th>score</th>\n",
       "    </tr>\n",
       "  </thead>\n",
       "  <tbody>\n",
       "    <tr>\n",
       "      <th>0</th>\n",
       "      <td>gini</td>\n",
       "      <td>1</td>\n",
       "      <td>0.733333</td>\n",
       "    </tr>\n",
       "    <tr>\n",
       "      <th>1</th>\n",
       "      <td>gini</td>\n",
       "      <td>2</td>\n",
       "      <td>0.723077</td>\n",
       "    </tr>\n",
       "    <tr>\n",
       "      <th>2</th>\n",
       "      <td>gini</td>\n",
       "      <td>3</td>\n",
       "      <td>0.712821</td>\n",
       "    </tr>\n",
       "    <tr>\n",
       "      <th>3</th>\n",
       "      <td>gini</td>\n",
       "      <td>4</td>\n",
       "      <td>0.707692</td>\n",
       "    </tr>\n",
       "    <tr>\n",
       "      <th>4</th>\n",
       "      <td>gini</td>\n",
       "      <td>5</td>\n",
       "      <td>0.707692</td>\n",
       "    </tr>\n",
       "    <tr>\n",
       "      <th>5</th>\n",
       "      <td>gini</td>\n",
       "      <td>6</td>\n",
       "      <td>0.666667</td>\n",
       "    </tr>\n",
       "    <tr>\n",
       "      <th>6</th>\n",
       "      <td>gini</td>\n",
       "      <td>7</td>\n",
       "      <td>0.687179</td>\n",
       "    </tr>\n",
       "    <tr>\n",
       "      <th>7</th>\n",
       "      <td>gini</td>\n",
       "      <td>8</td>\n",
       "      <td>0.666667</td>\n",
       "    </tr>\n",
       "    <tr>\n",
       "      <th>8</th>\n",
       "      <td>gini</td>\n",
       "      <td>9</td>\n",
       "      <td>0.666667</td>\n",
       "    </tr>\n",
       "    <tr>\n",
       "      <th>9</th>\n",
       "      <td>gini</td>\n",
       "      <td>10</td>\n",
       "      <td>0.676923</td>\n",
       "    </tr>\n",
       "    <tr>\n",
       "      <th>10</th>\n",
       "      <td>entropy</td>\n",
       "      <td>1</td>\n",
       "      <td>0.733333</td>\n",
       "    </tr>\n",
       "    <tr>\n",
       "      <th>11</th>\n",
       "      <td>entropy</td>\n",
       "      <td>2</td>\n",
       "      <td>0.728205</td>\n",
       "    </tr>\n",
       "    <tr>\n",
       "      <th>12</th>\n",
       "      <td>entropy</td>\n",
       "      <td>3</td>\n",
       "      <td>0.717949</td>\n",
       "    </tr>\n",
       "    <tr>\n",
       "      <th>13</th>\n",
       "      <td>entropy</td>\n",
       "      <td>4</td>\n",
       "      <td>0.697436</td>\n",
       "    </tr>\n",
       "    <tr>\n",
       "      <th>14</th>\n",
       "      <td>entropy</td>\n",
       "      <td>5</td>\n",
       "      <td>0.702564</td>\n",
       "    </tr>\n",
       "    <tr>\n",
       "      <th>15</th>\n",
       "      <td>entropy</td>\n",
       "      <td>6</td>\n",
       "      <td>0.697436</td>\n",
       "    </tr>\n",
       "    <tr>\n",
       "      <th>16</th>\n",
       "      <td>entropy</td>\n",
       "      <td>7</td>\n",
       "      <td>0.702564</td>\n",
       "    </tr>\n",
       "    <tr>\n",
       "      <th>17</th>\n",
       "      <td>entropy</td>\n",
       "      <td>8</td>\n",
       "      <td>0.671795</td>\n",
       "    </tr>\n",
       "    <tr>\n",
       "      <th>18</th>\n",
       "      <td>entropy</td>\n",
       "      <td>9</td>\n",
       "      <td>0.656410</td>\n",
       "    </tr>\n",
       "    <tr>\n",
       "      <th>19</th>\n",
       "      <td>entropy</td>\n",
       "      <td>10</td>\n",
       "      <td>0.676923</td>\n",
       "    </tr>\n",
       "  </tbody>\n",
       "</table>\n",
       "</div>"
      ],
      "text/plain": [
       "   criterion  max_depth     score\n",
       "0       gini          1  0.733333\n",
       "1       gini          2  0.723077\n",
       "2       gini          3  0.712821\n",
       "3       gini          4  0.707692\n",
       "4       gini          5  0.707692\n",
       "5       gini          6  0.666667\n",
       "6       gini          7  0.687179\n",
       "7       gini          8  0.666667\n",
       "8       gini          9  0.666667\n",
       "9       gini         10  0.676923\n",
       "10   entropy          1  0.733333\n",
       "11   entropy          2  0.728205\n",
       "12   entropy          3  0.717949\n",
       "13   entropy          4  0.697436\n",
       "14   entropy          5  0.702564\n",
       "15   entropy          6  0.697436\n",
       "16   entropy          7  0.702564\n",
       "17   entropy          8  0.671795\n",
       "18   entropy          9  0.656410\n",
       "19   entropy         10  0.676923"
      ]
     },
     "execution_count": 51,
     "metadata": {},
     "output_type": "execute_result"
    }
   ],
   "source": [
    "from sklearn.model_selection import GridSearchCV\n",
    "\n",
    "# keys are names of hyperparams, values are a list of values to try for that hyper parameter\n",
    "params = {\n",
    "    'max_depth': range(1, 11),\n",
    "    'criterion': ['gini', 'entropy']\n",
    "}\n",
    "\n",
    "# cv=4 means 4-fold cross-validation, i.e. k = 4\n",
    "grid = GridSearchCV(dtree, params, cv=15)\n",
    "grid.fit(X_train, y_train)\n",
    "\n",
    "results = grid.cv_results_\n",
    "\n",
    "for score, p in zip(results['mean_test_score'], results['params']):\n",
    "    p['score'] = score\n",
    "pd.DataFrame(results['params'])"
   ]
  }
 ],
 "metadata": {
  "kernelspec": {
   "display_name": "Python 3",
   "language": "python",
   "name": "python3"
  },
  "language_info": {
   "codemirror_mode": {
    "name": "ipython",
    "version": 3
   },
   "file_extension": ".py",
   "mimetype": "text/x-python",
   "name": "python",
   "nbconvert_exporter": "python",
   "pygments_lexer": "ipython3",
   "version": "3.7.3"
  }
 },
 "nbformat": 4,
 "nbformat_minor": 4
}
